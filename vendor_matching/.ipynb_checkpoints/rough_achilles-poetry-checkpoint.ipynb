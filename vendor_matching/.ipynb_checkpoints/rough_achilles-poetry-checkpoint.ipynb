{
 "cells": [
  {
   "cell_type": "markdown",
   "id": "0bc0343d-863f-440f-a897-bec606094593",
   "metadata": {},
   "source": [
    "# Rough"
   ]
  },
  {
   "cell_type": "code",
   "execution_count": 10,
   "id": "069f4e6e-447e-4c36-99aa-5d58cd493e64",
   "metadata": {
    "scrolled": true,
    "tags": []
   },
   "outputs": [],
   "source": [
    "import pandas_gbq\n",
    "import os\n",
    "#set the env to prod\n",
    "# os.environ['GOOGLE_APPLICATION_CREDENTIALS'] = \"../google_creds.json\"\n",
    "os.environ['GOOGLE_APPLICATION_CREDENTIALS'] = \"../secret.json\"\n",
    "# os.environ['GOOGLE_APPLICATION_CREDENTIALS']= '/home/shared_notebooks/notebooks/kiran/secret.json' #prod\n",
    "# os.environ['DEPLOYMENT_ENV']= \"prod\"\n",
    "\n",
    "os.environ['DEPLOYMENT_ENV']= \"dev\"\n",
    "# os.environ['GOOGLE_APPLICATION_CREDENTIALS']= '/home/shared_notebooks/notebooks/kiran/secret-dev.json' #dev\n",
    "# os.environ['GOOGLE_APPLICATION_CREDENTIALS']= '/Users/a.mandal/software/secret-dev.json' #dev\n",
    "\n"
   ]
  },
  {
   "cell_type": "code",
   "execution_count": 11,
   "id": "7fa78eb0-42ea-48e0-ade7-cd9219d82846",
   "metadata": {
    "tags": []
   },
   "outputs": [],
   "source": [
    "import pandas_gbq\n",
    "import os\n",
    "\n",
    "from match.achilles.utilities import Environment"
   ]
  },
  {
   "cell_type": "code",
   "execution_count": 12,
   "id": "baef41f6-c591-43e7-a785-fd3c3eadd18b",
   "metadata": {
    "tags": []
   },
   "outputs": [
    {
     "data": {
      "text/plain": [
       "False"
      ]
     },
     "execution_count": 12,
     "metadata": {},
     "output_type": "execute_result"
    }
   ],
   "source": [
    "Environment.is_prod()"
   ]
  },
  {
   "cell_type": "code",
   "execution_count": null,
   "id": "b5f5df3a-345e-4d53-80da-8a179a6dd27f",
   "metadata": {},
   "outputs": [],
   "source": []
  },
  {
   "cell_type": "code",
   "execution_count": 9,
   "id": "32a09a06-724e-44ab-9d11-6f30907d6471",
   "metadata": {
    "tags": []
   },
   "outputs": [
    {
     "name": "stdout",
     "output_type": "stream",
     "text": [
      "['https://wolt.com/cs/cze/prague/restaurant/sushi-oishi', 'https://wolt.com/cs/cze/prague/restaurant/fatfuck', 'https://wolt.com/cs/cze/prague/restaurant/wokin-jindrisska', 'https://wolt.com/cs/cze/prague/restaurant/yam-yam-cz', 'https://wolt.com/cs/cze/prague/restaurant/prague-namastaey-india-restaurant-deal', 'https://wolt.com/cs/cze/prague/restaurant/food-depo', 'https://wolt.com/cs/cze/prague/restaurant/bean-house', 'https://wolt.com/cs/cze/brno/restaurant/bun', 'https://wolt.com/cs/cze/prague/restaurant/sk-kebabpizza', 'https://wolt.com/cs/cze/prostejov/restaurant/kebab-u-kauflandu-nakupni-park-prostejov', 'https://wolt.com/cs/cze/pilsen/restaurant/imperial-sushi-poke-plzen', 'https://wolt.com/cs/cze/prague/restaurant/kro-coffee-bakery', 'https://wolt.com/cs/cze/prague/restaurant/green-factory', 'https://wolt.com/cs/cze/prague/restaurant/safir-stromovka', 'https://wolt.com/cs/cze/prague/restaurant/ninja-sushi-petrovice', 'https://wolt.com/cs/cze/prague/restaurant/safir-nove-butovice', 'https://wolt.com/cs/cze/prague/restaurant/bustan-kebab', 'https://wolt.com/cs/cze/prague/restaurant/kyblicky-harfa', 'https://wolt.com/cs/cze/brno/restaurant/kurdsky-kebab', 'https://wolt.com/cs/cze/prague/restaurant/ninja-sushi-cz', 'https://wolt.com/cs/cze/prostejov/restaurant/anda-bistro-sushi', 'https://wolt.com/cs/cze/ostrava/restaurant/cafeapasta-snidanuj', 'https://wolt.com/cs/cze/prague/restaurant/zubang-korean-kitchen', 'https://wolt.com/cs/cze/brno/restaurant/starbucks-brnenska', 'https://wolt.com/cs/cze/prague/restaurant/costa-coffee-florenc', 'https://wolt.com/cs/cze/prague/restaurant/hanzu', 'https://wolt.com/cs/cze/decin/restaurant/trdlokafe-decin', 'https://wolt.com/cs/cze/ceske-budejovice/restaurant/pizzeria-donatello', 'https://wolt.com/cs/cze/prague/restaurant/chut-hanoi-express-praha', 'https://wolt.com/cs/cze/prague/restaurant/ninja-sushi-na-micankach', 'https://wolt.com/cs/cze/usti-nad-labem/restaurant/palac-food-st-nad-labem-oc-forum', 'https://wolt.com/cs/cze/prague/restaurant/koi-tea-mustek', 'https://wolt.com/cs/cze/prague/restaurant/cafe-creperie-pod-vezi', 'https://wolt.com/cs/cze/pardubice/restaurant/uncle-joe-crispy-chicken', 'https://wolt.com/cs/cze/prague/restaurant/baku', 'https://wolt.com/cs/cze/prague/restaurant/papa-cipolla-ujezd', 'https://wolt.com/cs/cze/prague/restaurant/vegetka', 'https://wolt.com/cs/cze/prague/restaurant/nomad-cafe-bar', 'https://wolt.com/cs/cze/ceska-lipa/restaurant/american-greek-bistro', 'https://wolt.com/cs/cze/brno/restaurant/mixmoj', 'https://wolt.com/cs/cze/prague/restaurant/pizzerie-mikulkas', 'https://wolt.com/cs/cze/prague/restaurant/bernard-pub-andel', 'https://wolt.com/cs/cze/pisek/restaurant/bistro-albert-pisek-u-hrebcince', 'https://wolt.com/cs/cze/pardubice/restaurant/pizza-panter', 'https://wolt.com/cs/cze/pardubice/restaurant/burger-od-pantera', 'https://wolt.com/cs/cze/prague/restaurant/coffice', 'https://wolt.com/cs/cze/mlada-boleslav/restaurant/cukrarna-na-kopceku', 'https://wolt.com/cs/cze/olomouc/restaurant/kebab-olomouc-17-listopadu', 'https://wolt.com/cs/cze/prague/restaurant/maverick-beer-bbq-burger', 'https://wolt.com/cs/cze/prague/restaurant/nenapadne-bistro', 'https://wolt.com/cs/cze/liberec/restaurant/pizza-and-kebap-globus-gecko-liberec', 'https://wolt.com/cs/cze/prague/restaurant/pizza-na-skalce', 'https://wolt.com/cs/cze/prague/restaurant/salut-on-the-wheels', 'https://wolt.com/cs/cze/ceske-budejovice/restaurant/trdlokafe-albert-strakonicka', 'https://wolt.com/cs/cze/prague/restaurant/vegan-pizza-zizkov', 'https://wolt.com/cs/cze/prague/restaurant/annavanna', 'https://wolt.com/cs/cze/frydek-mistek/restaurant/bene-burger', 'https://wolt.com/cs/cze/olomouc/restaurant/bistro-hanacka-helca', 'https://wolt.com/cs/cze/prague/restaurant/bunny-burritos', 'https://wolt.com/cs/cze/prague/restaurant/cukrrna-elvra', 'https://wolt.com/cs/cze/prague/restaurant/cukrarna-vinohrady', 'https://wolt.com/cs/cze/prague/restaurant/delmart-bistro-oc-letnany', 'https://wolt.com/cs/cze/prague/restaurant/joy-burger-celetna', 'https://wolt.com/cs/cze/brno/restaurant/food-palacebrno', 'https://wolt.com/cs/cze/brno/restaurant/forkys-brno', 'https://wolt.com/cs/cze/brno/restaurant/gangnam-style', 'https://wolt.com/cs/cze/prague/restaurant/gubro-foods', 'https://wolt.com/cs/cze/ostrava/restaurant/guty-kaufland-ostrava-grnelova', 'https://wolt.com/cs/cze/prague/restaurant/chef-co', 'https://wolt.com/cs/cze/brandys-nad-labem-a-stara-boleslav/restaurant/kebab-u-cerneho-kone', 'https://wolt.com/cs/cze/prague/restaurant/klasicka-ceska-kuchyne', 'https://wolt.com/cs/cze/prague/restaurant/lootea', 'https://wolt.com/cs/cze/prague/restaurant/monster-burger-zabehlice', 'https://wolt.com/cs/cze/ostrava/restaurant/pasta-fidli', 'https://wolt.com/cs/cze/prague/restaurant/puzzle-salads-nakupni', 'https://wolt.com/cs/cze/prague/restaurant/puzzle-salads-zeletavska', 'https://wolt.com/cs/cze/havirov/restaurant/restaurace-bar-jitrenka', 'https://wolt.com/cs/cze/prague/restaurant/silq', 'https://wolt.com/cs/cze/brno/restaurant/sushi-palace', 'https://wolt.com/cs/cze/prague/restaurant/sawa-fries', 'https://wolt.com/cs/cze/prague/restaurant/the-miners-coffee-charles-bridge', 'https://wolt.com/cs/cze/prague/restaurant/the-oat-bar', 'https://wolt.com/cs/cze/brno/restaurant/trdlokafe-makro-kastanova', 'https://wolt.com/cs/cze/prague/restaurant/vege-thai', 'https://wolt.com/cs/cze/prague/restaurant/vietbig-sushi', 'https://wolt.com/cs/cze/prague/restaurant/vino-divini']\n"
     ]
    }
   ],
   "source": [
    "l = \"https://wolt.com/cs/cze/prague/restaurant/sushi-oishi\thttps://wolt.com/cs/cze/prague/restaurant/fatfuck\thttps://wolt.com/cs/cze/prague/restaurant/wokin-jindrisska\thttps://wolt.com/cs/cze/prague/restaurant/yam-yam-cz\thttps://wolt.com/cs/cze/prague/restaurant/prague-namastaey-india-restaurant-deal\thttps://wolt.com/cs/cze/prague/restaurant/food-depo\thttps://wolt.com/cs/cze/prague/restaurant/bean-house\thttps://wolt.com/cs/cze/brno/restaurant/bun\thttps://wolt.com/cs/cze/prague/restaurant/sk-kebabpizza\thttps://wolt.com/cs/cze/prostejov/restaurant/kebab-u-kauflandu-nakupni-park-prostejov\thttps://wolt.com/cs/cze/pilsen/restaurant/imperial-sushi-poke-plzen\thttps://wolt.com/cs/cze/prague/restaurant/kro-coffee-bakery\thttps://wolt.com/cs/cze/prague/restaurant/green-factory\thttps://wolt.com/cs/cze/prague/restaurant/safir-stromovka\thttps://wolt.com/cs/cze/prague/restaurant/ninja-sushi-petrovice\thttps://wolt.com/cs/cze/prague/restaurant/safir-nove-butovice\thttps://wolt.com/cs/cze/prague/restaurant/bustan-kebab\thttps://wolt.com/cs/cze/prague/restaurant/kyblicky-harfa\thttps://wolt.com/cs/cze/brno/restaurant/kurdsky-kebab\thttps://wolt.com/cs/cze/prague/restaurant/ninja-sushi-cz\thttps://wolt.com/cs/cze/prostejov/restaurant/anda-bistro-sushi\thttps://wolt.com/cs/cze/ostrava/restaurant/cafeapasta-snidanuj\thttps://wolt.com/cs/cze/prague/restaurant/zubang-korean-kitchen\thttps://wolt.com/cs/cze/brno/restaurant/starbucks-brnenska\thttps://wolt.com/cs/cze/prague/restaurant/costa-coffee-florenc\thttps://wolt.com/cs/cze/prague/restaurant/hanzu\thttps://wolt.com/cs/cze/decin/restaurant/trdlokafe-decin\thttps://wolt.com/cs/cze/ceske-budejovice/restaurant/pizzeria-donatello\thttps://wolt.com/cs/cze/prague/restaurant/chut-hanoi-express-praha\thttps://wolt.com/cs/cze/prague/restaurant/ninja-sushi-na-micankach\thttps://wolt.com/cs/cze/usti-nad-labem/restaurant/palac-food-st-nad-labem-oc-forum\thttps://wolt.com/cs/cze/prague/restaurant/koi-tea-mustek\thttps://wolt.com/cs/cze/prague/restaurant/cafe-creperie-pod-vezi\thttps://wolt.com/cs/cze/pardubice/restaurant/uncle-joe-crispy-chicken\thttps://wolt.com/cs/cze/prague/restaurant/baku\thttps://wolt.com/cs/cze/prague/restaurant/papa-cipolla-ujezd\thttps://wolt.com/cs/cze/prague/restaurant/vegetka\thttps://wolt.com/cs/cze/prague/restaurant/nomad-cafe-bar\thttps://wolt.com/cs/cze/ceska-lipa/restaurant/american-greek-bistro\thttps://wolt.com/cs/cze/brno/restaurant/mixmoj\thttps://wolt.com/cs/cze/prague/restaurant/pizzerie-mikulkas\thttps://wolt.com/cs/cze/prague/restaurant/bernard-pub-andel\thttps://wolt.com/cs/cze/pisek/restaurant/bistro-albert-pisek-u-hrebcince\thttps://wolt.com/cs/cze/pardubice/restaurant/pizza-panter\thttps://wolt.com/cs/cze/pardubice/restaurant/burger-od-pantera\thttps://wolt.com/cs/cze/prague/restaurant/coffice\thttps://wolt.com/cs/cze/mlada-boleslav/restaurant/cukrarna-na-kopceku\thttps://wolt.com/cs/cze/olomouc/restaurant/kebab-olomouc-17-listopadu\thttps://wolt.com/cs/cze/prague/restaurant/maverick-beer-bbq-burger\thttps://wolt.com/cs/cze/prague/restaurant/nenapadne-bistro\thttps://wolt.com/cs/cze/liberec/restaurant/pizza-and-kebap-globus-gecko-liberec\thttps://wolt.com/cs/cze/prague/restaurant/pizza-na-skalce\thttps://wolt.com/cs/cze/prague/restaurant/salut-on-the-wheels\thttps://wolt.com/cs/cze/ceske-budejovice/restaurant/trdlokafe-albert-strakonicka\thttps://wolt.com/cs/cze/prague/restaurant/vegan-pizza-zizkov\thttps://wolt.com/cs/cze/prague/restaurant/annavanna\thttps://wolt.com/cs/cze/frydek-mistek/restaurant/bene-burger\thttps://wolt.com/cs/cze/olomouc/restaurant/bistro-hanacka-helca\thttps://wolt.com/cs/cze/prague/restaurant/bunny-burritos\thttps://wolt.com/cs/cze/prague/restaurant/cukrrna-elvra\thttps://wolt.com/cs/cze/prague/restaurant/cukrarna-vinohrady\thttps://wolt.com/cs/cze/prague/restaurant/delmart-bistro-oc-letnany\thttps://wolt.com/cs/cze/prague/restaurant/joy-burger-celetna\thttps://wolt.com/cs/cze/brno/restaurant/food-palacebrno\thttps://wolt.com/cs/cze/brno/restaurant/forkys-brno\thttps://wolt.com/cs/cze/brno/restaurant/gangnam-style\thttps://wolt.com/cs/cze/prague/restaurant/gubro-foods\thttps://wolt.com/cs/cze/ostrava/restaurant/guty-kaufland-ostrava-grnelova\thttps://wolt.com/cs/cze/prague/restaurant/chef-co\thttps://wolt.com/cs/cze/brandys-nad-labem-a-stara-boleslav/restaurant/kebab-u-cerneho-kone\thttps://wolt.com/cs/cze/prague/restaurant/klasicka-ceska-kuchyne\thttps://wolt.com/cs/cze/prague/restaurant/lootea\thttps://wolt.com/cs/cze/prague/restaurant/monster-burger-zabehlice\thttps://wolt.com/cs/cze/ostrava/restaurant/pasta-fidli\thttps://wolt.com/cs/cze/prague/restaurant/puzzle-salads-nakupni\thttps://wolt.com/cs/cze/prague/restaurant/puzzle-salads-zeletavska\thttps://wolt.com/cs/cze/havirov/restaurant/restaurace-bar-jitrenka\thttps://wolt.com/cs/cze/prague/restaurant/silq\thttps://wolt.com/cs/cze/brno/restaurant/sushi-palace\thttps://wolt.com/cs/cze/prague/restaurant/sawa-fries\thttps://wolt.com/cs/cze/prague/restaurant/the-miners-coffee-charles-bridge\thttps://wolt.com/cs/cze/prague/restaurant/the-oat-bar\thttps://wolt.com/cs/cze/brno/restaurant/trdlokafe-makro-kastanova\thttps://wolt.com/cs/cze/prague/restaurant/vege-thai\thttps://wolt.com/cs/cze/prague/restaurant/vietbig-sushi\thttps://wolt.com/cs/cze/prague/restaurant/vino-divini\"\n",
    "print(l.split())"
   ]
  },
  {
   "cell_type": "code",
   "execution_count": null,
   "id": "ee4d0d35-4a3d-4a46-be05-500eedf470fb",
   "metadata": {},
   "outputs": [],
   "source": []
  },
  {
   "cell_type": "code",
   "execution_count": 4,
   "id": "2c06c21a-d56d-45b1-929f-e5c3e1da7384",
   "metadata": {
    "scrolled": true,
    "tags": []
   },
   "outputs": [],
   "source": [
    "import numpy as np\n",
    "import pandas as pd\n",
    "import pandas_gbq\n",
    "import sys\n",
    "# sys.path.append(\"../\")\n",
    "import re\n",
    "# import nltk\n",
    "# from nltk.stem import WordNetLemmatizer \n",
    "from google.oauth2 import service_account\n",
    "from rapidfuzz import fuzz\n",
    "import io\n",
    "import seaborn as sns\n",
    "from sklearn.pipeline import Pipeline\n",
    "pd.set_option('max_colwidth', 256)\n",
    "pd.set_option('display.max_rows', None)\n",
    "pd.set_option('display.max_columns', 1000)\n",
    "\n",
    "%load_ext autoreload\n",
    "%autoreload 2\n",
    "\n",
    "%reload_ext autoreload\n",
    "\n",
    "\n",
    "\n",
    "import sys\n",
    "sys.path.append('/Users/a.mandal/software/gsd-match-vertex')\n",
    "\n",
    "# sys.path.append('/home/abhilash_mandal/software/gsd-match')\n",
    "# sys.path.append('/Users/a.mandal/software/gsd-match-vertex')"
   ]
  },
  {
   "cell_type": "markdown",
   "id": "8b81a9c3-933c-476e-b44b-966b16086c86",
   "metadata": {},
   "source": [
    "## Posptprocess"
   ]
  },
  {
   "cell_type": "code",
   "execution_count": 6,
   "id": "57f61a3a-810c-4475-b8d7-1eaf21881ebb",
   "metadata": {
    "scrolled": true,
    "tags": []
   },
   "outputs": [
    {
     "name": "stderr",
     "output_type": "stream",
     "text": [
      "2024-09-03 10:32:48,036 - match.achilles - INFO - Query:\n",
      "CREATE TEMP TABLE working_table_temp AS\n",
      "(\n",
      "WITH country_entity AS\n",
      "(\n",
      "    -- Use to filter data to country ISO from global entity ID.\n",
      "    SELECT DISTINCT\n",
      "        name AS record_country__c,\n",
      "        country_iso,\n",
      "        global_entity_id\n",
      "    FROM\n",
      "        `dh-global-sales-data.gsd_google_sheets.sf_id_map`\n",
      "    WHERE\n",
      "        global_entity_id = 'BM_KR'\n",
      "),\n",
      "pos_match AS\n",
      "(\n",
      "    SELECT\n",
      "        run_timestamp,\n",
      "        left_row_id,\n",
      "        `dh-global-sales-data.achilles.row_id_to_global_entity_id`(m.left_row_id) AS global_entity_id,\n",
      "        `dh-global-sales-data.achilles.row_id_to_lead_provider`(m.left_row_id) AS lead_provider,\n",
      "        `dh-global-sales-data.achilles.row_id_to_lead_source`(m.left_row_id) AS lead_source,\n",
      "        `dh-global-sales-data.achilles.row_id_to_lead_id`(m.left_row_id) AS lead_id,\n",
      "        -- Used like this since using the saleslayer the row_id is built in the same way for both leadgen and salesforce.\n",
      "        `dh-global-sales-data.achilles.row_id_to_lead_id`(m.right_row_id) AS sf_grid_id,\n",
      "        m.model_name,\n",
      "        m.predicted_label,\n",
      "        -- pp.prob AS confidence\n",
      "        prob AS confidence\n",
      "\n",
      "    FROM\n",
      "        `dh-global-sales-data-dev.leadgen_sf_match_vertex_raw.matched_BM_KR` AS m\n",
      "    WHERE\n",
      "        predicted_label = 1\n",
      "),\n",
      "baseoutput AS\n",
      "(\n",
      "    -- Create the base output based on the left input table.\n",
      "    SELECT\n",
      "        country_iso,\n",
      "        `dh-global-sales-data.achilles.row_id_to_lead_provider`(row_id) AS lead_provider,\n",
      "        `dh-global-sales-data.achilles.row_id_to_lead_source`(row_id) AS lead_source,\n",
      "        `dh-global-sales-data.achilles.row_id_to_lead_id`(row_id) AS lead_id\n",
      "    FROM\n",
      "        `dh-global-sales-data-dev.leadgen_sf_match_vertex_raw.left_leadgen_BM_KR`\n",
      "),\n",
      "filteroutput AS\n",
      "(\n",
      "    SELECT\n",
      "        ce.global_entity_id,\n",
      "        ce.country_iso,\n",
      "        b.lead_provider,\n",
      "        b.lead_source,\n",
      "        b.lead_id\n",
      "    FROM\n",
      "        baseoutput AS b\n",
      "    -- Filter to the correct global_entity_id\n",
      "    INNER JOIN\n",
      "        country_entity AS ce\n",
      "    ON\n",
      "        b.country_iso=ce.country_iso\n",
      "    WHERE\n",
      "        TRUE\n",
      "        AND lead_source = 'coupang_eats'\n",
      "),\n",
      "run_ts AS\n",
      "(\n",
      "    -- Use for filter of dh-global-sales-data.leadgen_cl.vendor_complete.\n",
      "    SELECT\n",
      "        run_timestamp\n",
      "    FROM\n",
      "        pos_match\n",
      "    LIMIT\n",
      "        1\n",
      "),\n",
      "manual_matches AS\n",
      "(\n",
      "    SELECT\n",
      "        TIMESTAMP(date_created) AS run_timestamp,\n",
      "        lead_provider,\n",
      "        lead_source,\n",
      "        lead_id,\n",
      "        sf_grid_id,\n",
      "        sf_status,\n",
      "        1.0 AS confidence,\n",
      "        'MANUAL' AS model_name\n",
      "    FROM\n",
      "        `dh-global-sales-data.gsd_google_sheets.leadgen_sf_match_matched_pairs`\n",
      "        -- `dh-global-sales-data.gsd_google_sheets.leadgen_sf_match_invalid_matches`\n",
      "),\n",
      "manual_bad_matches AS\n",
      "(\n",
      "    -- List of matches that should not be in the output.\n",
      "    SELECT\n",
      "        *\n",
      "    FROM\n",
      "        manual_matches\n",
      "    WHERE\n",
      "        sf_status <> 'No Match'\n",
      "),\n",
      "manual_certain_matches AS\n",
      "(\n",
      "    -- List of matches that have been hand-checked and are correct.\n",
      "    SELECT\n",
      "        *\n",
      "    FROM\n",
      "        manual_matches\n",
      "    WHERE\n",
      "        sf_status = 'No Match'\n",
      "),\n",
      "publish_filtered AS\n",
      "(\n",
      "    -- leads already published and part of left_input table that are marked as no match in matched output.\n",
      "    SELECT\n",
      "        p.global_entity_id,\n",
      "        country_entity.country_iso,\n",
      "        p.published_time AS run_timestamp,\n",
      "        p.lead_provider,\n",
      "        p.lead_source,\n",
      "        p.lead_id,\n",
      "        l.grid__c AS sf_grid_id,\n",
      "        1.0 AS confidence,\n",
      "        'automated_leadgen_published' AS model_name        \n",
      "    FROM\n",
      "        `dh-global-sales-data.cl_lead_publish.fct_published` AS p\n",
      "    INNER JOIN\n",
      "        `fulfillment-dwh-production.curated_data_shared_salesforce.lead` AS l\n",
      "    ON\n",
      "        l.id=p.sf_lead_id\n",
      "    INNER JOIN\n",
      "        country_entity\n",
      "    ON\n",
      "        country_entity.global_entity_id=p.global_entity_id\n",
      "    WHERE p.lead_id IN (SELECT lead_id FROM filteroutput)\n",
      ")\n",
      "\n",
      ",filter_base_with_feedback AS (\n",
      "    -- Add All the feedback pairs from markets to the base table to be used as 1st Priority Matches\n",
      "    SELECT\n",
      "        b.global_entity_id,\n",
      "        b.country_iso,\n",
      "        run_ts.run_timestamp,\n",
      "        b.lead_provider,\n",
      "        b.lead_source,\n",
      "        b.lead_id,\n",
      "        certain.sf_grid_id,\n",
      "        certain.confidence,\n",
      "        certain.model_name,\n",
      "  \n",
      "    FROM\n",
      "        filteroutput AS b\n",
      "    CROSS JOIN\n",
      "        run_ts\n",
      "    LEFT JOIN manual_certain_matches AS certain\n",
      "    ON\n",
      "        certain.lead_id = b.lead_id AND\n",
      "        -- Commented for newer pairs as it can change over time and the field is optional\n",
      "        -- certain.lead_provider = mo.lead_provider AND\n",
      "        certain.lead_source = b.lead_source\n",
      "    QUALIFY ROW_NUMBER() OVER( PARTITION BY global_entity_id, lead_source, lead_id, sf_grid_id ) = 1\n",
      ")\n",
      "\n",
      ",\n",
      "filter_base_with_all_matches AS (\n",
      "    -- Include all the positive predictions with base table (overridden with feedback pairs)\n",
      "    -- i.e. if already a feedback grid is mentioned, then use that and discard pos_match's sf_grid_id\n",
      "    SELECT\n",
      "        b.global_entity_id,\n",
      "        b.country_iso,\n",
      "        b.run_timestamp,\n",
      "        b.lead_provider,\n",
      "        b.lead_source,\n",
      "        b.lead_id,\n",
      "        COALESCE (b.sf_grid_id, pm.sf_grid_id) AS sf_grid_id,\n",
      "        COALESCE (b.confidence, pm.confidence) AS confidence,\n",
      "        COALESCE (b.model_name, pm.model_name) As model_name,\n",
      "    FROM\n",
      "        filter_base_with_feedback AS b\n",
      "    LEFT JOIN\n",
      "        pos_match AS pm\n",
      "    ON\n",
      "        b.lead_provider=pm.lead_provider AND\n",
      "        b.lead_source=pm.lead_source AND\n",
      "        b.lead_id=pm.lead_id\n",
      "    QUALIFY ROW_NUMBER() OVER( PARTITION BY global_entity_id, lead_source, lead_id, sf_grid_id ) = 1\n",
      ")\n",
      "\n",
      ",match_output AS\n",
      "(\n",
      "    -- Create a table of all leads in the country that match or not and are not marked as no match if part of publish table\n",
      "    SELECT\n",
      "        b.global_entity_id,\n",
      "        b.country_iso,\n",
      "        b.run_timestamp,\n",
      "        b.lead_provider,\n",
      "        b.lead_source,\n",
      "        b.lead_id,\n",
      "        CASE WHEN (pub.lead_id IS NOT NULL AND b.sf_grid_id IS NULL)\n",
      "             THEN pub.sf_grid_id ELSE b.sf_grid_id \n",
      "        END AS sf_grid_id,\n",
      "        CASE WHEN (pub.lead_id IS NOT NULL AND b.sf_grid_id IS NULL)\n",
      "             THEN pub.confidence ELSE b.confidence\n",
      "        END AS confidence,\n",
      "        CASE WHEN (pub.lead_id IS NOT NULL AND b.sf_grid_id IS NULL)\n",
      "             THEN pub.model_name ELSE b.model_name \n",
      "        END AS model_name,\n",
      "    FROM\n",
      "        filter_base_with_all_matches AS b\n",
      "    LEFT JOIN publish_filtered AS pub\n",
      "    ON\n",
      "        b.lead_id = pub.lead_id AND\n",
      "        b.lead_source = pub.lead_source AND\n",
      "        b.lead_provider = pub.lead_provider \n",
      "),\n",
      "match_manual AS\n",
      "(\n",
      "    SELECT\n",
      "        mo.global_entity_id,\n",
      "        mo.country_iso,\n",
      "        mo.run_timestamp,\n",
      "        mo.lead_provider,\n",
      "        mo.lead_source,\n",
      "        mo.lead_id,\n",
      "        mo.sf_grid_id,\n",
      "        mo.confidence,\n",
      "        mo.model_name,\n",
      "    FROM\n",
      "        match_output AS mo\n",
      "    -- Exclude matches specifically marked as invalid.\n",
      "    LEFT JOIN\n",
      "        manual_bad_matches AS invalid\n",
      "    ON\n",
      "        invalid.lead_id = mo.lead_id AND\n",
      "        invalid.lead_provider = mo.lead_provider AND\n",
      "        invalid.lead_source = mo.lead_source AND\n",
      "        invalid.sf_grid_id = mo.sf_grid_id\n",
      "    WHERE\n",
      "        -- Only select where the row is not an invalid match.\n",
      "        invalid.lead_id IS NULL \n",
      "\n",
      "\n",
      "),\n",
      "saleslayer AS\n",
      "(\n",
      "    SELECT\n",
      "        lead_provider,\n",
      "        lead_source,\n",
      "        lead_id,\n",
      "        entity_type,\n",
      "        status,\n",
      "        lost_reason,\n",
      "        COALESCE(vertical_combined, vertical) AS vertical,\n",
      "        CAST(last_updated AS TIMESTAMP) AS last_updated,\n",
      "        sf_vendor_id AS vendor_id,\n",
      "        lead_uuid,\n",
      "        report_date\n",
      "    FROM\n",
      "        `dh-global-sales-data-dev.leadgen_cl.vendor_complete`\n",
      "    INNER JOIN\n",
      "        country_entity\n",
      "    USING\n",
      "        (country_iso)\n",
      "),\n",
      "-- Add match information from the saleslayer.\n",
      "match_info AS\n",
      "(\n",
      "    SELECT\n",
      "        mo.global_entity_id,\n",
      "        mo.country_iso,\n",
      "        mo.run_timestamp,\n",
      "        mo.sf_grid_id,\n",
      "        fsf.entity_type AS sf_entity_type,\n",
      "        NULLIF(fsf.status, '') AS sf_status,\n",
      "        NULLIF(fsf.lost_reason, '') AS sf_lost_reason,\n",
      "        fsf.vertical AS sf_vertical,\n",
      "        fsf.last_updated AS sf_lastmodified,\n",
      "        mo.lead_provider,\n",
      "        mo.lead_source,\n",
      "        mo.lead_id,\n",
      "        fld.vertical,\n",
      "        mo.confidence,\n",
      "        mo.model_name,\n",
      "        fsf.vendor_id,\n",
      "        fld.lead_uuid,\n",
      "        fld.report_date,\n",
      "    FROM\n",
      "        match_manual AS mo\n",
      "    LEFT JOIN\n",
      "        saleslayer AS fld\n",
      "    ON\n",
      "        mo.lead_provider = fld.lead_provider AND\n",
      "        mo.lead_source = fld.lead_source AND\n",
      "        mo.lead_id = fld.lead_id\n",
      "    LEFT JOIN\n",
      "        saleslayer AS fsf\n",
      "    ON\n",
      "        fsf.lead_provider='salesforce' AND\n",
      "        fsf.lead_source='salesforce' AND\n",
      "        mo.sf_grid_id = fsf.lead_id\n",
      "),\n",
      "acc_with_opp AS\n",
      "(\n",
      "    SELECT DISTINCT\n",
      "        match_info.sf_grid_id\n",
      "    FROM\n",
      "        match_info\n",
      "    INNER JOIN\n",
      "        `fulfillment-dwh-production.curated_data_shared_salesforce.account` AS a\n",
      "    ON\n",
      "        match_info.sf_grid_id = a.grid__c\n",
      "    INNER JOIN\n",
      "        `fulfillment-dwh-production.curated_data_shared_salesforce.opportunity` AS o\n",
      "    ON\n",
      "        a.id = o.accountid\n",
      "    WHERE\n",
      "        o.business_type__c IN ('New Business', 'Win Back', 'Winback')\n",
      "),\n",
      "match_status AS\n",
      "(\n",
      "    SELECT\n",
      "        match_info.* EXCEPT(vertical),\n",
      "        vertical = 'Shop' AS is_leadgen_shop,\n",
      "        match_info.sf_grid_id IS NULL AS is_no_match,\n",
      "        sf_entity_type = 'account' AS is_account,\n",
      "        acc_with_opp.sf_grid_id IS NOT NULL AS has_opp,\n",
      "        sf_entity_type = 'lead' AS is_lead,\n",
      "        sf_vertical = 'Shop' AS is_sf_shop\n",
      "    FROM\n",
      "        match_info\n",
      "    LEFT JOIN\n",
      "        acc_with_opp\n",
      "    ON\n",
      "        match_info.sf_grid_id = acc_with_opp.sf_grid_id\n",
      "),\n",
      "match_prio_flags AS\n",
      "(\n",
      "    -- Create flags for the status of the matched SF object.\n",
      "    SELECT\n",
      "        global_entity_id,\n",
      "        country_iso,\n",
      "        run_timestamp,\n",
      "        sf_grid_id,\n",
      "        sf_entity_type,\n",
      "        sf_status,\n",
      "        sf_lost_reason,\n",
      "        sf_lastmodified,\n",
      "        lead_provider,\n",
      "        lead_source,\n",
      "        lead_id,\n",
      "        confidence,\n",
      "        model_name,\n",
      "        vendor_id,\n",
      "        lead_uuid,\n",
      "        report_date,\n",
      "\n",
      "        is_no_match,\n",
      "        is_account,\n",
      "        has_opp,\n",
      "        is_lead,\n",
      "        is_sf_shop,\n",
      "\n",
      "        CASE\n",
      "            WHEN is_leadgen_shop IS TRUE THEN 'Shop'\n",
      "            WHEN is_leadgen_shop IS FALSE THEN NULL\n",
      "            ELSE 'Unknown Vertical'\n",
      "        END AS lead_vertical_desc,\n",
      "\n",
      "        -- Status description constituents.\n",
      "        CASE\n",
      "            WHEN is_sf_shop IS TRUE THEN 'Shop'\n",
      "            WHEN is_sf_shop IS FALSE THEN NULL\n",
      "            ELSE 'Unknown Vertical'\n",
      "        END AS vertical_desc,\n",
      "        CASE\n",
      "            WHEN model_name LIKE '%_geo' THEN TRUE\n",
      "            ELSE FALSE\n",
      "        END AS is_geo_match,\n",
      "        CASE\n",
      "            WHEN is_account THEN 'Account'\n",
      "            ELSE 'Lead'\n",
      "        END AS entity_desc,\n",
      "        NULLIF(sf_status, '') AS status_desc,\n",
      "        NULLIF(sf_lost_reason, '') AS lost_desc,\n",
      "\n",
      "        -- Flags for priority.\n",
      "        is_account AND sf_status IN ('Active','Active - Temp. Unavailable') AS active_account,\n",
      "        is_account AND sf_status IN ('Negotiation','Onboarding','Collecting Documents','Menu processing','Quality Check','New') AS signed_account,\n",
      "        is_account AND sf_status NOT IN ('Lost','Win Back failed','Terminated') AND has_opp AS opp_account,\n",
      "        is_account AND sf_status IN ('Lost','Perdido') AND (sf_lost_reason  NOT IN ('Duplicate', 'Invalid Data') OR sf_lost_reason IS NULL) AS lost_account,\n",
      "        is_account AND sf_status IN ('Lost','Perdido', 'Terminated') AND sf_lost_reason IN ('Duplicate', 'Invalid Data') AS bad_lost_acc,\n",
      "        is_account AND sf_status IN ('Win Back failed') AS winbackfailed_account,\n",
      "        is_account AND sf_status IN ('Terminated') AND (sf_lost_reason  NOT IN ('Duplicate', 'Invalid Data') OR sf_lost_reason IS NULL) AS terminated_account,\n",
      "        is_lead AND sf_status IN ('Contacted','Contactado','Converted','Qualified','Calificado','Long-term follow-up') AS better_quality_leads,\n",
      "        is_lead AND sf_status IN ('Lost','Perdido') AND sf_lost_reason NOT IN ('Duplicate', 'Invalid Data') AS lost_lead,\n",
      "        is_lead AND sf_status IN ('Lost','Perdido') AND sf_lost_reason IN ('Duplicate', 'Invalid Data') AS bad_lost_lead,\n",
      "        ## All the remaining account lead statuses if not matched then they will be captured here\n",
      "        is_lead AND sf_status NOT IN ('Contacted','Contactado','Converted','Qualified','Calificado','Long-term follow-up', 'Lost','Perdido') AS lead_only,\n",
      "        is_sf_shop AND sf_status IN ('Active','Active - Temp. Unavailable') AS active_shop,\n",
      "        is_sf_shop AND sf_status IN ('Negotiation','Onboarding','Collecting Documents','Menu processing','Quality Check','New') AS signed_shop,\n",
      "        is_sf_shop AND sf_status NOT IN ('Lost','Win Back failed','Terminated') AND has_opp AS opp_shop,\n",
      "        is_sf_shop AND sf_status IN ('Lost','Perdido') AND (sf_lost_reason  NOT IN ('Duplicate', 'Invalid Data') OR sf_lost_reason IS NULL) AS lost_shop,\n",
      "        is_sf_shop AND sf_status IN ('Lost', 'Perdido', 'Terminated') AND sf_lost_reason IN ('Duplicate', 'Invalid Data') AS bad_lost_shop,\n",
      "        is_sf_shop AND sf_status IN ('Win Back failed') AS winbackfailed_shop,\n",
      "        is_sf_shop AND sf_status IN ('Terminated') AND sf_lost_reason  NOT IN ('Duplicate', 'Invalid Data') AS terminated_shop,\n",
      "        is_leadgen_shop AND sf_status NOT IN ('Contacted','Contactado','Converted','Qualified','Calificado','Long-term follow-up') AS better_quality_shop_leads,\n",
      "        is_leadgen_shop AND sf_status IN ('Lost','Perdido') AND (sf_lost_reason  NOT IN ('Duplicate', 'Invalid Data') OR sf_lost_reason IS NULL) AS shop_lost_lead,\n",
      "        is_leadgen_shop AND sf_status IN ('Lost','Perdido') AND sf_lost_reason IN ('Duplicate', 'Invalid Data') AS shop_bad_lost_lead,\n",
      "        ## All the remaining shop lead statuses if not matched then they will be captured here\n",
      "        is_leadgen_shop AND sf_status NOT IN ('Contacted','Contactado','Converted','Qualified','Calificado','Long-term follow-up', 'Lost','Perdido') AS shop_lead_only,\n",
      "    FROM\n",
      "        match_status\n",
      "),\n",
      "match_prio_shops AS\n",
      "(\n",
      "    SELECT\n",
      "        global_entity_id,\n",
      "        country_iso,\n",
      "        run_timestamp,\n",
      "        sf_grid_id,\n",
      "        sf_entity_type,\n",
      "        sf_status,\n",
      "        sf_lost_reason,\n",
      "        sf_lastmodified,\n",
      "        lead_provider,\n",
      "        lead_source,\n",
      "        lead_id,\n",
      "        lead_vertical_desc,\n",
      "        confidence,\n",
      "        model_name,\n",
      "        vendor_id,\n",
      "        lead_uuid,\n",
      "        report_date,\n",
      "\n",
      "        -- Salesforce status column.\n",
      "        CASE\n",
      "            -- No matches.\n",
      "            WHEN is_no_match THEN CONCAT(IFNULL(lead_vertical_desc || ' | ', '') , 'No Match')\n",
      "            ELSE CONCAT(IFNULL(vertical_desc || ' | ', ''), IFNULL(entity_desc, ''), IFNULL(' | ' || status_desc, ''), IFNULL(' | ' || lost_desc, ''))\n",
      "        END AS sf_status_desc,\n",
      "\n",
      "        --Build the status.\n",
      "        CASE\n",
      "            -- Confidence encodes the first digit.\n",
      "            WHEN confidence >= 0.85 THEN 10000\n",
      "            WHEN confidence >= 0.70 THEN 20000\n",
      "            WHEN confidence < 0.70 THEN 30000\n",
      "            ELSE 90000\n",
      "        END AS status_prio_confidence,\n",
      "\n",
      "        CASE\n",
      "            -- Vertical encodes the second digit.\n",
      "            WHEN NOT is_sf_shop THEN 2000\n",
      "            WHEN is_sf_shop THEN 1000\n",
      "            ELSE 9000\n",
      "        END AS status_prio_vertical,\n",
      "\n",
      "        CASE\n",
      "            -- Model used in the match is the third digit.\n",
      "            WHEN is_geo_match THEN 100\n",
      "            ELSE 900\n",
      "        END AS status_prio_model,\n",
      "\n",
      "        CASE\n",
      "            -- Specific status encodes the final two digits.\n",
      "            WHEN active_shop THEN 00\n",
      "            WHEN signed_shop THEN 01\n",
      "            WHEN opp_shop THEN 02\n",
      "            WHEN lost_shop THEN 03\n",
      "            WHEN terminated_shop THEN 04\n",
      "            WHEN winbackfailed_shop THEN 05\n",
      "            WHEN bad_lost_shop THEN 06\n",
      "            ## All the remaining shop account statuses if not matched then they will be captured here\n",
      "            WHEN sf_entity_type =\"shop\" and NOT is_no_match AND NOT active_shop AND NOT signed_shop AND NOT opp_shop AND NOT lost_shop AND NOT bad_lost_shop AND NOT winbackfailed_shop AND NOT terminated_shop AND NOT shop_lead_only THEN 07\n",
      "            WHEN better_quality_leads THEN 08\n",
      "            WHEN shop_lost_lead THEN 09\n",
      "            WHEN shop_bad_lost_lead THEN 10\n",
      "            WHEN shop_lead_only THEN 11\n",
      "            WHEN active_account THEN 12\n",
      "            WHEN signed_account THEN 13\n",
      "            WHEN opp_account THEN 14\n",
      "            WHEN lost_account THEN 15\n",
      "            WHEN terminated_account THEN 16\n",
      "            WHEN winbackfailed_account THEN 17\n",
      "            WHEN bad_lost_acc THEN 18\n",
      "            ## All the remaining restaruant account statuses if not matched then they will be captured here\n",
      "            WHEN sf_entity_type =\"account\" and NOT is_no_match AND NOT signed_account AND NOT opp_account AND NOT lost_account AND NOT bad_lost_acc AND NOT winbackfailed_account AND NOT terminated_account AND NOT lead_only THEN 19\n",
      "            WHEN better_quality_leads THEN 20\n",
      "            WHEN lost_lead THEN 21\n",
      "            WHEN bad_lost_lead THEN 22\n",
      "            WHEN lead_only THEN 23\n",
      "            ELSE 99\n",
      "        END AS status_prio_specific\n",
      "    FROM\n",
      "        match_prio_flags\n",
      "),\n",
      "\n",
      "match_prio AS\n",
      "(\n",
      "    SELECT\n",
      "        global_entity_id,\n",
      "        country_iso,\n",
      "        run_timestamp,\n",
      "        sf_grid_id,\n",
      "        sf_entity_type,\n",
      "        sf_status,\n",
      "        sf_lost_reason,\n",
      "        sf_lastmodified,\n",
      "        lead_provider,\n",
      "        lead_source,\n",
      "        lead_id,\n",
      "        lead_vertical_desc,\n",
      "        confidence,\n",
      "        model_name,\n",
      "        vendor_id,\n",
      "        lead_uuid,\n",
      "        report_date,\n",
      "\n",
      "        -- Salesforce status column.\n",
      "        CASE\n",
      "            -- No matches.\n",
      "            WHEN is_no_match THEN CONCAT(IFNULL(lead_vertical_desc || ' | ', '') , 'No Match')\n",
      "            ELSE CONCAT(IFNULL(vertical_desc || ' | ', ''), IFNULL(entity_desc, ''), IFNULL(' | ' || status_desc, ''), IFNULL(' | ' || lost_desc, ''))\n",
      "        END AS sf_status_desc,\n",
      "\n",
      "        --Build the status.\n",
      "        CASE\n",
      "            -- Confidence encodes the first digit.\n",
      "            WHEN confidence >= 0.85 THEN 10000\n",
      "            WHEN confidence >= 0.70 THEN 20000\n",
      "            WHEN confidence < 0.70 THEN 30000\n",
      "            ELSE 90000\n",
      "        END AS status_prio_confidence,\n",
      "\n",
      "        CASE\n",
      "            -- Vertical encodes the second digit.\n",
      "            WHEN NOT is_sf_shop THEN 1000\n",
      "            WHEN is_sf_shop THEN 2000\n",
      "            ELSE 9000\n",
      "        END AS status_prio_vertical,\n",
      "\n",
      "        CASE\n",
      "            -- Model used in the match is the third digit.\n",
      "            WHEN is_geo_match THEN 100\n",
      "            ELSE 900\n",
      "        END AS status_prio_model,\n",
      "\n",
      "        CASE\n",
      "            -- Specific status encodes the final two digits.\n",
      "            WHEN active_account THEN 00\n",
      "            WHEN signed_account THEN 01\n",
      "            WHEN opp_account THEN 02\n",
      "            WHEN lost_account THEN 03\n",
      "            WHEN terminated_account THEN 04\n",
      "            WHEN winbackfailed_account THEN 05\n",
      "            WHEN bad_lost_acc THEN 06\n",
      "            ## All the remaining account statuses if not matched then they will be captured here\n",
      "            WHEN sf_entity_type =\"account\" and NOT is_no_match AND NOT signed_account AND NOT opp_account AND NOT lost_account AND NOT bad_lost_acc AND NOT winbackfailed_account AND NOT terminated_account AND NOT lead_only THEN 07\n",
      "            WHEN better_quality_leads THEN 08\n",
      "            WHEN lost_lead THEN 09\n",
      "            WHEN bad_lost_lead THEN 10\n",
      "            WHEN lead_only THEN 11\n",
      "            ELSE 99\n",
      "        END AS status_prio_specific\n",
      "    FROM\n",
      "        match_prio_flags\n",
      ")\n",
      "\n",
      "-- Create a priority for SF status.\n",
      "SELECT\n",
      "    global_entity_id,\n",
      "    country_iso,\n",
      "    run_timestamp,\n",
      "    sf_entity_type,\n",
      "    sf_lastmodified,\n",
      "    sf_status_desc AS sf_status,\n",
      "    sf_grid_id,\n",
      "    lead_provider,\n",
      "    lead_source,\n",
      "    lead_id,\n",
      "    lead_vertical_desc,\n",
      "    confidence,\n",
      "    model_name,\n",
      "    vendor_id,\n",
      "    lead_uuid,\n",
      "    report_date,\n",
      "    -- Priority. Integer part based on status, decimal part based on the match confidence.\n",
      "    -- Lower is higher priority.\n",
      "    status_prio_confidence + status_prio_vertical + status_prio_model + status_prio_specific + (1.0 - confidence) AS match_priority\n",
      "FROM\n",
      "    match_prio\n",
      ")\n",
      ";\n",
      "\n",
      "\n",
      "CREATE TABLE IF NOT EXISTS `dh-global-sales-data-dev.temp.postprocess_working_BM_KR` AS\n",
      "(\n",
      "    SELECT * FROM working_table_temp LIMIT 0\n",
      ")\n",
      ";\n",
      "\n",
      "DELETE FROM\n",
      "    `dh-global-sales-data-dev.temp.postprocess_working_BM_KR`\n",
      "WHERE\n",
      "    global_entity_id = 'BM_KR'\n",
      "    AND lead_source = 'coupang_eats'\n",
      ";\n",
      "\n",
      "INSERT INTO `dh-global-sales-data-dev.temp.postprocess_working_BM_KR`\n",
      "(\n",
      "    SELECT * FROM working_table_temp\n",
      ")\n",
      ";\n",
      "\n",
      "2024-09-03 10:32:48,040 - match.achilles - INFO - Query:\n",
      "-- Fill temp table with no matches.\n",
      "-- Loop over priority for matches (stops when updates are no longer made).\n",
      "    -- Get unique leads in the table based on SF object priority and then confidence.\n",
      "    -- Take the highest in each group\n",
      "    -- Get unique SF objects based on the confidence of match.\n",
      "    -- Insert into temp matches table.\n",
      "    -- Repeat but remove current matches.\n",
      "\n",
      "CREATE TEMP TABLE working_table AS\n",
      "(\n",
      "    SELECT\n",
      "        *\n",
      "    FROM\n",
      "        `dh-global-sales-data-dev.temp.postprocess_working_BM_KR`\n",
      "    WHERE\n",
      "        global_entity_id = 'BM_KR'\n",
      "        AND lead_source = 'coupang_eats'\n",
      ")\n",
      ";\n",
      "\n",
      "--Used to add no match category \n",
      "CREATE TEMP TABLE no_matches_max_conf AS\n",
      "(\n",
      "    WITH not_matched AS (SELECT\n",
      "        run_timestamp,\n",
      "        left_row_id,\n",
      "        `dh-global-sales-data.achilles.row_id_to_global_entity_id`(m.left_row_id) AS global_entity_id,\n",
      "        `dh-global-sales-data.achilles.row_id_to_lead_provider`(m.left_row_id) AS lead_provider,\n",
      "        `dh-global-sales-data.achilles.row_id_to_lead_source`(m.left_row_id) AS lead_source,\n",
      "        `dh-global-sales-data.achilles.row_id_to_lead_id`(m.left_row_id) AS lead_id,\n",
      "        -- Used like this since using the saleslayer the row_id is built in the same way for both leadgen and salesforce.\n",
      "        `dh-global-sales-data.achilles.row_id_to_lead_id`(m.right_row_id) AS sf_grid_id,\n",
      "        m.model_name,\n",
      "        m.predicted_label,\n",
      "        -- (1 - pp.prob) AS confidence\n",
      "        prob AS confidence\n",
      "    FROM\n",
      "        `dh-global-sales-data-dev.leadgen_sf_match_vertex_raw.matched_BM_KR` AS m\n",
      "    WHERE\n",
      "        predicted_label = 0\n",
      "    )\n",
      "    SELECT \n",
      "        global_entity_id,\n",
      "        lead_provider,\n",
      "        lead_source,\n",
      "        lead_id,\n",
      "        MAX(confidence) AS max_confidence\n",
      "    FROM \n",
      "        not_matched\n",
      "    WHERE TRUE\n",
      "    AND lead_source = 'coupang_eats'\n",
      "    GROUP BY 1,2,3,4\n",
      ")\n",
      ";\n",
      "\n",
      "/*\n",
      "Left-side matches are selected by convention of flexible matching table, we rely on flexible\n",
      "matching to put results in a correct order.\n",
      "See more here: https://confluence.deliveryhero.com/pages/viewpage.action?pageId=555477004 \n",
      "*/\n",
      "CREATE TEMP TABLE flexible_matches AS (\n",
      "    SELECT\n",
      "        global_entity_id,\n",
      "        left_lead_id as lead_id,\n",
      "        left_lead_source as lead_source,\n",
      "        left_lead_provider as lead_provider,\n",
      "    FROM `dh-global-sales-data-dev.cl_saleslayer.leadgen_flexible_match`\n",
      "    WHERE\n",
      "        pipeline_name = 'dedupe'\n",
      "        AND global_entity_id = 'BM_KR'\n",
      "        AND FALSE\n",
      "    -- the same lead can appear more than once in the deduplication output\n",
      "    -- Following convention (and to avoid spurious dupes following JOIN),\n",
      "    -- We keep the same lead at most once\n",
      "    QUALIFY ROW_NUMBER() OVER (\n",
      "        PARTITION BY left_lead_id, left_lead_source, left_lead_provider, global_entity_id\n",
      "        ORDER BY RAND()\n",
      "    ) = 1\n",
      ");\n",
      "\n",
      "/*\n",
      "\n",
      "Prioritisation process example\n",
      "\n",
      "lead_id sf_grid_id  StatusPrio  c       lgrn    sfrn\n",
      "1       2           1           0.9     1       1\n",
      "1       3           2           0.8     2       1\n",
      "2       2           1           0.8     1       2\n",
      "2       7           1           0.7     2       1\n",
      "3       7           1           0.6     1       2\n",
      "\n",
      "Filter.\n",
      "\n",
      "lead_id sf_grid_id  StatusPrio  c       lgrn    sfrn\n",
      "1       2           1           0.9     1       1\n",
      "\n",
      "Next loop.\n",
      "\n",
      "lead_id sf_grid_id  StatusPrio  c       lgrn    sfrn\n",
      "2       7           1           0.7     1       1\n",
      "3       7           1           0.6     1       2\n",
      "\n",
      "Filter.\n",
      "\n",
      "lead_id sf_grid_id  StatusPrio  c       lgrn    sfrn\n",
      "2       7           1           0.7     1       1\n",
      "\n",
      "Add the rest.\n",
      "\n",
      "lead_id sf_grid_id  StatusPrio  c       lgrn    sfrn\n",
      "1       2           1           0.9     1       1\n",
      "2       7           2           0.7     1       1\n",
      "3       -           -           -       -       -\n",
      "\n",
      "*/\n",
      "\n",
      "-- Initialise table with no matches.\n",
      "CREATE TEMP TABLE matches AS\n",
      "(\n",
      "    SELECT\n",
      "        sf_status,\n",
      "        CAST(NULL AS STRING) AS sf_grid_id,\n",
      "        CAST(NULL AS TIMESTAMP) AS sf_lastmodified,\n",
      "        CAST(NULL AS STRING) AS sf_entity_type,\n",
      "        CAST(NULL AS FLOAT64) AS confidence,\n",
      "        CAST(NULL AS STRING) AS model_name,\n",
      "        * EXCEPT(sf_status, sf_grid_id, sf_lastmodified, sf_entity_type, confidence, model_name)\n",
      "    FROM\n",
      "        working_table\n",
      "    WHERE\n",
      "        sf_grid_id IS NULL\n",
      ")\n",
      ";\n",
      "\n",
      "-- Get all the manual feedback pairs in the matches as Prio 1 before starting loop over other ML Model predicted matches\n",
      "INSERT INTO matches (\n",
      "    SELECT\n",
      "        sf_status,\n",
      "        sf_grid_id,\n",
      "        sf_lastmodified,\n",
      "        sf_entity_type,\n",
      "        confidence,\n",
      "        model_name,\n",
      "        * EXCEPT(sf_status, sf_grid_id, sf_lastmodified, sf_entity_type, confidence, model_name)\n",
      "    FROM\n",
      "        working_table\n",
      "    WHERE\n",
      "        model_name IN ('MANUAL')\n",
      ");\n",
      "\n",
      "\n",
      "-- Loop over priority matches until no more updates take place.\n",
      "\n",
      "LOOP\n",
      "    INSERT INTO matches\n",
      "    (\n",
      "        WITH opts AS\n",
      "        (\n",
      "            SELECT\n",
      "                *\n",
      "            FROM\n",
      "                working_table AS wt\n",
      "            WHERE\n",
      "                -- Only consider matches.\n",
      "                sf_grid_id IS NOT NULL AND\n",
      "                -- Only consider SF objects that are not already in the matches table.\n",
      "                (SELECT COUNT(1) FROM matches AS m WHERE m.sf_grid_id=wt.sf_grid_id) = 0 AND\n",
      "                -- Only consider leads that are not already in the matches table.\n",
      "                (SELECT COUNT(1) FROM matches AS m WHERE m.lead_id=wt.lead_id AND m.lead_source=wt.lead_source AND m.lead_provider=wt.lead_provider) = 0\n",
      "\n",
      "        ),\n",
      "        rownums AS (\n",
      "            SELECT\n",
      "                *,\n",
      "                ROW_NUMBER() OVER (PARTITION BY global_entity_id, lead_provider, lead_source, lead_id ORDER BY match_priority ASC) AS lgrn,\n",
      "                ROW_NUMBER() OVER (PARTITION BY global_entity_id, lead_provider, lead_source, sf_grid_id ORDER BY confidence DESC) AS sfrn\n",
      "            from\n",
      "                opts\n",
      "        )\n",
      "\n",
      "        SELECT\n",
      "            sf_status,\n",
      "            sf_grid_id,\n",
      "            sf_lastmodified,\n",
      "            sf_entity_type,\n",
      "            confidence,\n",
      "            model_name,\n",
      "            * EXCEPT(sf_status, sf_grid_id, sf_lastmodified, sf_entity_type, confidence, model_name, sfrn, lgrn)\n",
      "        FROM\n",
      "            rownums\n",
      "        WHERE\n",
      "            -- If something is not priority in both SF GRID and lead it is not taken.\n",
      "            -- Ensure only 1 row per sf object in the table.\n",
      "            sfrn = 1 AND\n",
      "            -- Ensure only 1 row per lead object in the table.\n",
      "            lgrn = 1\n",
      "    )\n",
      "    ;\n",
      "\n",
      "    IF @@row_count = 0\n",
      "        THEN LEAVE\n",
      "        ;\n",
      "    END IF\n",
      "    ;\n",
      "END LOOP\n",
      ";\n",
      "\n",
      "-- Now consider any leads that were not included in the matches table\n",
      "-- during prioritisation selection.\n",
      "INSERT INTO matches\n",
      "(\n",
      "    WITH unmatched_data AS\n",
      "    (\n",
      "        -- Get the data for the unique, unmatched leads.\n",
      "        SELECT\n",
      "            wt.*,\n",
      "            -- We need this to arbitrarily select a single row for each lead.\n",
      "            ROW_NUMBER() OVER (PARTITION BY wt.global_entity_id, lead_provider, lead_source, lead_id) AS rn\n",
      "        FROM\n",
      "            working_table AS wt\n",
      "        LEFT JOIN\n",
      "            matches AS m\n",
      "        USING\n",
      "            (lead_provider, lead_source, lead_id)\n",
      "        WHERE\n",
      "            -- Only consider leads that are not already in the matching table.\n",
      "            m.lead_id IS NULL\n",
      "    )\n",
      "\n",
      "    SELECT\n",
      "        CONCAT(IFNULL(lead_vertical_desc || ' | ', '') , 'No Match') AS sf_status,\n",
      "        CAST(NULL AS STRING) AS sf_grid_id,\n",
      "        CAST(NULL AS TIMESTAMP) AS sf_lastmodified,\n",
      "        CAST(NULL AS STRING) AS sf_entity_type,\n",
      "        CAST(NULL AS FLOAT64) AS confidence,\n",
      "        CAST(NULL AS STRING) AS model_name,\n",
      "        * EXCEPT(sf_status, sf_grid_id, sf_lastmodified, sf_entity_type, confidence, model_name, rn)\n",
      "    FROM\n",
      "        unmatched_data\n",
      "    WHERE\n",
      "        -- Filter to one row per lead.\n",
      "        rn = 1\n",
      ")\n",
      ";\n",
      "\n",
      "/*\n",
      "Creating No Match Bucket\n",
      "4 categories\n",
      "1. candgen_no_match - No Match cause not in candgen\n",
      "2. post_process_no_match - No Match cause became it in postprocess\n",
      "3. no_match_p1 - No Matches below a certain probability\n",
      "4. no_match_p2 - No Matches below the threshold but still having good prob scores\n",
      "*/\n",
      "CREATE TEMP TABLE no_match_bucket AS (\n",
      "    WITH no_matches AS (\n",
      "        SELECT \n",
      "            global_entity_id,\n",
      "            lead_provider,\n",
      "            lead_source,\n",
      "            lead_id\n",
      "        FROM matches\n",
      "        WHERE sf_grid_id IS NULL\n",
      "    ),\n",
      "    candidates AS (\n",
      "        WITH cand_list AS (\n",
      "        SELECT DISTINCT\n",
      "            `dh-global-sales-data.achilles.row_id_to_global_entity_id`(left_row_id) AS global_entity_id,\n",
      "            `dh-global-sales-data.achilles.row_id_to_lead_provider`(left_row_id) AS lead_provider,\n",
      "            `dh-global-sales-data.achilles.row_id_to_lead_source`(left_row_id) AS lead_source,\n",
      "            `dh-global-sales-data.achilles.row_id_to_lead_id`(left_row_id) AS lead_id\n",
      "        FROM `dh-global-sales-data-dev.leadgen_sf_match_vertex_raw.candidates_BM_KR`)\n",
      "        SELECT \n",
      "            *\n",
      "        FROM cand_list\n",
      "        WHERE TRUE\n",
      "        AND lead_source = 'coupang_eats'\n",
      "    ),\n",
      "    pp_matched_array  AS (\n",
      "        SELECT\n",
      "            global_entity_id,\n",
      "            lead_provider,\n",
      "            lead_source,\n",
      "            lead_id,\n",
      "            ARRAY_LENGTH(ARRAY_AGG(sf_grid_id IGNORE NULLS)) AS matched_grids_len,\n",
      "        FROM\n",
      "            working_table\n",
      "        WHERE TRUE\n",
      "        AND lead_source = 'coupang_eats'\n",
      "        GROUP BY\n",
      "            1,2,3,4\n",
      "     )\n",
      "     SELECT \n",
      "        no_matches.*,\n",
      "        CASE \n",
      "            WHEN flexible_matches.lead_id IS NOT NULL THEN \"internal_duplicate\"\n",
      "            WHEN matched_grids_len > 0 THEN \"post_process_no_match\"\n",
      "            WHEN candidates.lead_id IS NULL THEN \"candgen_no_match\"\n",
      "            WHEN no_matches_max_conf.max_confidence BETWEEN 0 AND 0.25 THEN \"no_match_p1\"\n",
      "            WHEN no_matches_max_conf.max_confidence BETWEEN 0.25 AND 1 THEN \"no_match_p2\"\n",
      "            ELSE NULL\n",
      "        END AS no_match_bucket\n",
      "     FROM no_matches\n",
      "     LEFT JOIN candidates\n",
      "     USING(global_entity_id, lead_provider, lead_source, lead_id)\n",
      "     LEFT JOIN pp_matched_array\n",
      "     USING(global_entity_id, lead_provider, lead_source, lead_id)\n",
      "     LEFT JOIN no_matches_max_conf\n",
      "     USING(global_entity_id, lead_provider, lead_source, lead_id)\n",
      "     LEFT JOIN flexible_matches\n",
      "     USING(global_entity_id, lead_provider, lead_source, lead_id)\n",
      ")\n",
      ";\n",
      "-- Output table with area info.\n",
      "\n",
      "\n",
      "        DELETE FROM\n",
      "            `dh-global-sales-data-dev.leadgen_sf_match_vertex_cl.leadgen_sf_match_BM_KR`\n",
      "        WHERE\n",
      "            global_entity_id = 'BM_KR'\n",
      "            AND lead_source = 'coupang_eats'\n",
      "        ;\n",
      "        \n",
      "\n",
      "INSERT INTO `dh-global-sales-data-dev.leadgen_sf_match_vertex_cl.leadgen_sf_match_BM_KR`\n",
      "(\n",
      "    WITH sales_id AS (\n",
      "        SELECT\n",
      "            m.lead_provider,\n",
      "            m.lead_source,\n",
      "            m.lead_id,\n",
      "            m.sf_entity_type AS sf_obj_type,\n",
      "            COALESCE(sf_ac.id, sf_ld.id) as sf_id,\n",
      "        FROM\n",
      "            matches AS m\n",
      "        LEFT JOIN\n",
      "            `fulfillment-dwh-production.curated_data_shared_salesforce.account` AS sf_ac\n",
      "        ON\n",
      "            m.sf_grid_id=sf_ac.grid__c\n",
      "        LEFT JOIN\n",
      "            `fulfillment-dwh-production.curated_data_shared_salesforce.lead` AS sf_ld\n",
      "        ON\n",
      "            m.sf_grid_id=sf_ld.grid__c\n",
      "    ),\n",
      "    published AS (\n",
      "    SELECT\n",
      "        p.lead_provider,\n",
      "        p.lead_source,\n",
      "        p.lead_id,\n",
      "        l.grid__c AS sf_grid_id,\n",
      "        p.sf_lead_id AS sf_id,\n",
      "        1.0 AS confidence,\n",
      "        l.lastmodifieddate AS sf_lastmodified,\n",
      "        'automated_leadgen_published' AS model_name,\n",
      "        'Lead | New' AS sf_status        \n",
      "    FROM\n",
      "        `dh-global-sales-data.cl_lead_publish.fct_published` AS p\n",
      "    INNER JOIN\n",
      "        `fulfillment-dwh-production.curated_data_shared_salesforce.lead` AS l\n",
      "    ON\n",
      "        l.id=p.sf_lead_id \n",
      "    ),\n",
      "\n",
      "    final AS\n",
      "    (\n",
      "        SELECT\n",
      "            matches.global_entity_id,\n",
      "            country_iso,\n",
      "            run_timestamp,\n",
      "            CASE WHEN p.lead_id IS NOT NULL AND matches.sf_grid_id IS NULL \n",
      "                 THEN 'lead' ELSE sf_obj_type\n",
      "            END AS sf_obj_type,\n",
      "            CASE WHEN p.lead_id IS NOT NULL AND matches.sf_grid_id IS NULL \n",
      "                 THEN p.sf_grid_id ELSE matches.sf_grid_id\n",
      "            END AS sf_grid_id,\n",
      "            CASE WHEN p.lead_id IS NOT NULL AND matches.sf_grid_id IS NULL \n",
      "                 THEN p.sf_id ELSE sales_id.sf_id\n",
      "            END AS sf_id,\n",
      "            CASE WHEN p.lead_id IS NOT NULL AND matches.sf_grid_id IS NULL \n",
      "                 THEN p.sf_lastmodified ELSE matches.sf_lastmodified\n",
      "            END AS sf_lastmodified,\n",
      "            CASE WHEN p.lead_id IS NOT NULL AND matches.sf_grid_id IS NULL \n",
      "                 THEN p.sf_status ELSE matches.sf_status\n",
      "            END AS sf_status,\n",
      "            matches.lead_id,\n",
      "            matches.lead_source,\n",
      "            matches.lead_provider,\n",
      "            CASE WHEN p.lead_id IS NOT NULL AND matches.sf_grid_id IS NULL \n",
      "                 THEN p.confidence ELSE matches.confidence\n",
      "            END AS confidence,\n",
      "            CASE WHEN p.lead_id IS NOT NULL AND matches.sf_grid_id IS NULL \n",
      "                 THEN p.model_name ELSE matches.model_name\n",
      "            END AS model_name,\n",
      "            nmb.no_match_bucket,\n",
      "            -- TODO 12.02.2024: this is a temporal fix, it is not yet clear\n",
      "            -- how non-null vendor id pops up for unmatched lead\n",
      "            CASE WHEN matches.sf_grid_id IS NOT NULL THEN matches.vendor_id\n",
      "                 ELSE NULL\n",
      "            END AS vendor_id,\n",
      "            matches.lead_uuid,\n",
      "            matches.report_date,\n",
      "        FROM\n",
      "            matches\n",
      "        LEFT JOIN\n",
      "            sales_id\n",
      "        ON\n",
      "            matches.lead_provider=sales_id.lead_provider AND\n",
      "            matches.lead_source=sales_id.lead_source AND\n",
      "            matches.lead_id=sales_id.lead_id\n",
      "        -- Joining on published to check whether any published leads are still no matches\n",
      "        LEFT JOIN \n",
      "            published AS p\n",
      "        ON \n",
      "            matches.lead_id = p.lead_id AND\n",
      "            matches.lead_source = p.lead_source AND\n",
      "            matches.lead_provider = p.lead_provider\n",
      "        LEFT JOIN \n",
      "            no_match_bucket AS nmb \n",
      "        ON \n",
      "            matches.lead_id = nmb.lead_id AND\n",
      "            matches.lead_source = nmb.lead_source AND\n",
      "            matches.lead_provider = nmb.lead_provider\n",
      "    )\n",
      "    -- Get all the feedback pairs in the final output irrespective of having 1 sf_grid_id matching with 2 lead_ids\n",
      "    SELECT \n",
      "        * \n",
      "    FROM final\n",
      "    WHERE model_name = \"MANUAL\"\n",
      "\n",
      "    UNION ALL\n",
      "\n",
      "    -- Selecting only one sf grid based on whether it's an account/lead and confidence\n",
      "    SELECT\n",
      "        * EXCEPT(row_num)\n",
      "    FROM\n",
      "       (SELECT *, ROW_NUMBER() OVER(PARTITION BY sf_grid_id ORDER BY sf_obj_type, confidence) AS row_num FROM final\n",
      "       WHERE model_name <> \"MANUAL\" or model_name is null\n",
      "       )\n",
      "    WHERE row_num = 1 OR sf_grid_id IS NULL\n",
      ")\n",
      ";\n",
      "\n"
     ]
    }
   ],
   "source": [
    "from match_core.match.achilles.postprocess_sf import PostProcessSF\n",
    "\n",
    "\n",
    "\n",
    "from match.achilles import PostProcessSF, UpdateTable\n",
    "from match.achilles.io import extract_additional_labels, patch_labels\n",
    "from match.achilles.vertex.config import PipelineRuntimeConfigFactory\n",
    "\n",
    "global_entity_id = \"BM_KR\"\n",
    "lead_source = \"coupang_eats\"\n",
    "right_source = \"woowa\"\n",
    "dry_run = True\n",
    "shops = False\n",
    "\n",
    "working_table = f\"dh-global-sales-data-dev.temp.postprocess_working_{global_entity_id}\"\n",
    "output_table = f\"dh-global-sales-data-dev.leadgen_sf_match_vertex_cl.leadgen_sf_match_{global_entity_id}\"\n",
    "candidates_table = f\"dh-global-sales-data-dev.leadgen_sf_match_vertex_raw.candidates_{global_entity_id}\"\n",
    "left_input_table = f\"dh-global-sales-data-dev.leadgen_sf_match_vertex_raw.left_leadgen_{global_entity_id}\"\n",
    "match_table = f\"dh-global-sales-data-dev.leadgen_sf_match_vertex_raw.matched_{global_entity_id}\"\n",
    "flexible_match_table = \"dh-global-sales-data-dev.cl_saleslayer.leadgen_flexible_match\"\n",
    "run_type = \"full\"\n",
    "update_method = UpdateTable.append if shops else UpdateTable.replace\n",
    "\n",
    "postprocessor = PostProcessSF(\n",
    "            # if not shops, we end up with output_table in first arg, and emtpy str in second\n",
    "            # and vice versa if it is shops\n",
    "            output_table=output_table ,\n",
    "            output_table_shops=\"\",\n",
    "            left_input_table=left_input_table,\n",
    "            match_table=match_table,\n",
    "            working_table=working_table,\n",
    "            working_table_shops = \"\",\n",
    "            global_entity_id=global_entity_id,\n",
    "            update_method=update_method,\n",
    "            left_source=lead_source,\n",
    "            candidates_table=candidates_table,\n",
    "            right_source=right_source,\n",
    "            flexible_match_table=flexible_match_table,\n",
    "        )\n",
    "\n",
    "postprocessor.postprocess(dry_run)"
   ]
  },
  {
   "cell_type": "code",
   "execution_count": 205,
   "id": "42c39d83-55da-4ddd-8150-a89126fac860",
   "metadata": {
    "scrolled": true
   },
   "outputs": [
    {
     "data": {
      "text/plain": [
       "'matched'"
      ]
     },
     "execution_count": 205,
     "metadata": {},
     "output_type": "execute_result"
    }
   ],
   "source": [
    "\"dh-global-sales-data-dev:test_orchestrator.matched_FP_TW\".split(\".\")[-1].split(\"_\")[0]"
   ]
  },
  {
   "cell_type": "code",
   "execution_count": null,
   "id": "40fabfb7-50f0-48d7-82fc-63e192e364c6",
   "metadata": {
    "scrolled": true
   },
   "outputs": [],
   "source": [
    "from achilles.training.training import AchillesTraining"
   ]
  },
  {
   "cell_type": "code",
   "execution_count": null,
   "id": "d8758fc8-0c8f-4cab-8640-528542d3a532",
   "metadata": {},
   "outputs": [],
   "source": []
  },
  {
   "cell_type": "markdown",
   "id": "446cc077-5d38-4ba9-902d-71f76d7b11f4",
   "metadata": {},
   "source": [
    "## Input"
   ]
  },
  {
   "cell_type": "code",
   "execution_count": 8,
   "id": "6bf00247-7baa-42f0-b655-291c12e5a260",
   "metadata": {
    "tags": []
   },
   "outputs": [
    {
     "name": "stderr",
     "output_type": "stream",
     "text": [
      "2024-09-26 14:47:20,253 - match.achilles - INFO - Vendors Data Table: dh-global-sales-data.cl_saleslayer.vendor_complete\n",
      "2024-09-26 14:47:20,258 - match.achilles - INFO - Query:\n",
      "CREATE TABLE `dh-global-sales-data.leadgen_sf_match_vertex_delta_raw.left_leadgen_PY_AR` AS\n",
      "(\n",
      "WITH country_map AS (\n",
      "    SELECT DISTINCT\n",
      "        country_code AS country_iso,\n",
      "        global_entity_id\n",
      "    FROM\n",
      "        `fulfillment-dwh-production.curated_data_shared_coredata.global_entities`\n",
      "    WHERE global_entity_id in ('PY_AR')\n",
      ")\n",
      ",\n",
      "\n",
      "sf_account AS (\n",
      "    SELECT \n",
      "        global_entity_id, grid__c,account_status__c, \n",
      "        type as branch_type, recordtypeid, \n",
      "        revenue_model__c, special_characteristics__c,\n",
      "        translated_account_name__c, legal_name__c\n",
      "    FROM `fulfillment-dwh-production.curated_data_shared_salesforce.account` \n",
      "    WHERE global_entity_id in ('PY_AR')\n",
      " )\n",
      ",valid_type_accounts AS (\n",
      "    SELECT r.*, rtype.name as record_type, \n",
      "    FROM sf_account as r\n",
      "    LEFT JOIN `fulfillment-dwh-production.curated_data_shared_salesforce.recordtype` as rtype\n",
      "    ON r.recordtypeid = rtype.id\n",
      "    ORDER BY 1,2,3\n",
      ")\n",
      ",sf_lead AS (\n",
      "    SELECT \n",
      "        global_entity_id, grid__c, \n",
      "        recordtypeid, special_characteristics__c\n",
      "    FROM `fulfillment-dwh-production.curated_data_shared_salesforce.lead`  \n",
      "    WHERE global_entity_id in ('PY_AR')\n",
      ")\n",
      ",valid_type_leads AS (\n",
      "  SELECT r.*, rtype.name as record_type, \n",
      "  FROM sf_lead as r\n",
      "  LEFT JOIN `fulfillment-dwh-production.curated_data_shared_salesforce.recordtype` as rtype\n",
      "  ON r.recordtypeid = rtype.id\n",
      "  ORDER BY 1,2\n",
      ")\n",
      ",joined_input AS (\n",
      "SELECT\n",
      "    l.country_iso,\n",
      "    `dh-global-sales-data.achilles.build_lead_row_id`(cm.global_entity_id,l.lead_provider,l.lead_source,l.lead_id) AS row_id,\n",
      "    l.restaurant_name AS name,\n",
      "    sf_account.translated_account_name__c AS name_local,\n",
      "    sf_account.legal_name__c AS name_legal,\n",
      "    CASE\n",
      "        -- TODO 06.03.23 this is a temporal crutch that should be removed once models have \n",
      "        -- more diverse feature set.\n",
      "        WHEN \n",
      "            cm.global_entity_id in ('TB_BH', 'TB_KW', 'FP_SG') \n",
      "            AND restaurant_name_ascii IS NOT NULL\n",
      "            -- to account for names that have just 1-2 ascii symbols in them and the rest is non-ascii\n",
      "            AND LENGTH(COALESCE(restaurant_name_ascii, '')) > 2\n",
      "            THEN restaurant_name_ascii\n",
      "        ELSE restaurant_name_translated\n",
      "    END AS name_translated,\n",
      "    restaurant_address AS street,\n",
      "    restaurant_address_translated AS street_translated,\n",
      "    phone_number,\n",
      "    restaurant_lat AS lat,\n",
      "    restaurant_long AS lng,\n",
      "    COALESCE(city_lat, restaurant_lat) as city_lat,\n",
      "    COALESCE(city_long, restaurant_long) AS city_lng,\n",
      "    sf_vendor_id AS vendor_id,\n",
      "    lead_uuid,\n",
      "    report_date,\n",
      "    registration_number,\n",
      "    -- Columns for filtering\n",
      "    sf_account.branch_type,\n",
      "    sf_account.revenue_model__c,\n",
      "    COALESCE (sf_account.record_type, sf_lead.record_type) AS record_type,\n",
      "    COALESCE (sf_account.special_characteristics__c,sf_lead.special_characteristics__c) AS special_characteristics__c\n",
      "FROM\n",
      "    `dh-global-sales-data.cl_saleslayer.vendor_complete` AS l\n",
      "INNER JOIN\n",
      "    country_map AS cm\n",
      "ON\n",
      "    l.country_iso=cm.country_iso\n",
      "LEFT JOIN  valid_type_accounts as sf_account\n",
      "ON\n",
      "    l.lead_id = sf_account.grid__c\n",
      "LEFT JOIN  valid_type_leads as sf_lead\n",
      "ON\n",
      "    l.lead_id = sf_lead.grid__c\n",
      "-- TODO Once rejected leads are part of saleslayer, this should be removed\n",
      "LEFT JOIN `dh-global-sales-data.cl_lead_publish.fct_manual_rejected` AS m_rejected\n",
      "ON\n",
      "    l.lead_id = m_rejected.lead_id\n",
      "\n",
      "WHERE\n",
      "    -- Do not consider brand-specific cloud kitchens.\n",
      "    (l.is_dark_kitchen IS NULL OR l.is_dark_kitchen = FALSE) AND\n",
      "    --Do not consider deleted salesforce objects.\n",
      "    (l.isdeleted IS NULL OR l.isdeleted = FALSE) AND\n",
      "    -- Only consider Main-Branch, virtual, kitchen and leads\n",
      "    -- (l.sf_type IS NULL OR l.sf_type in ('Branch - Main', 'Branch - Virtual Restaurant', 'Branch - Kitchen Restaurant', 'lead')) AND\n",
      "    -- Require location information.\n",
      "    (restaurant_address IS NOT NULL OR (restaurant_lat + restaurant_long IS NOT NULL)) AND\n",
      "    -- Ideally, we would require city location for candidate retrieval.\n",
      "    -- However, sometimes lead providers give us only vendor coordinates.\n",
      "    -- In this case we do a simple substitution (hence COALESCE statement for city_lat and city_long above)\n",
      "    -- with a vendor coordinates. Corollary: vendors without both vendor and city coordinates\n",
      "    -- should be discarded.\n",
      "    ((city_lat + city_long IS NOT NULL) OR (restaurant_lat + restaurant_long IS NOT NULL)) AND\n",
      "    -- Do not include manually rejected leads\n",
      "    m_rejected.lead_id IS NULL AND\n",
      "    -- Exclude leads with problems with lats/longs (see GSD-5197 ticket for more context)\n",
      "    (l.is_correct_lat_long is NULL or l.is_correct_lat_long = True)\n",
      "    -- Filter to specific sources.\n",
      "    AND l.lead_source IN ('rappi','fork','minube','guiaclarin','google','facebook','mercadopago','loveat','tucan')\n",
      "    \n",
      "                AND STRUCT(l.lead_provider,\n",
      "                    l.lead_source,\n",
      "                    l.lead_id) IN (\n",
      "                SELECT\n",
      "                    STRUCT(lead_provider,\n",
      "                    lead_source,\n",
      "                    lead_id)\n",
      "                FROM\n",
      "                    cl_saleslayer.leadgen_sf_match AS m\n",
      "                WHERE\n",
      "                    m.lead_provider=l.lead_provider\n",
      "                    AND m.lead_source=l.lead_source\n",
      "                    AND m.lead_id=l.lead_id\n",
      "                    AND sf_grid_id IS NULL)\n",
      "            \n",
      ")\n",
      "\n",
      "SELECT * EXCEPT (branch_type, record_type, revenue_model__c, special_characteristics__c)\n",
      "FROM joined_input\n",
      "WHERE \n",
      "-- Only platforms that are accepting orders to be considered\n",
      "(revenue_model__c is null or revenue_model__c like (\"%Ordering Platform%\")) \n",
      "--  All records that are not Corporates, to be considered\n",
      "AND (NOT(record_type like (\"%Corporate%\")) or record_type is null) \n",
      "AND (branch_type is null or branch_type in (\"Branch - Main\",\"Branch - Virtual Restaurant\",\"Branch - Kitchen Restaurant\",\"Branch - Virtual Shop\"))\n",
      "AND (special_characteristics__c is null OR special_characteristics__c not like (\"%0/0 Partner%\")) \n",
      ")\n",
      ";\n",
      "\n",
      "2024-09-26 14:47:20,259 - match.achilles - INFO - Vendors Data Table: dh-global-sales-data.cl_saleslayer.vendor_complete\n"
     ]
    },
    {
     "data": {
      "text/plain": [
       "'CREATE TABLE `dh-global-sales-data.leadgen_sf_match_vertex_delta_raw.left_leadgen_PY_AR` AS\\n(\\nWITH country_map AS (\\n    SELECT DISTINCT\\n        country_code AS country_iso,\\n        global_entity_id\\n    FROM\\n        `fulfillment-dwh-production.curated_data_shared_coredata.global_entities`\\n    WHERE global_entity_id in (\\'PY_AR\\')\\n)\\n,\\n\\nsf_account AS (\\n    SELECT \\n        global_entity_id, grid__c,account_status__c, \\n        type as branch_type, recordtypeid, \\n        revenue_model__c, special_characteristics__c,\\n        translated_account_name__c, legal_name__c\\n    FROM `fulfillment-dwh-production.curated_data_shared_salesforce.account` \\n    WHERE global_entity_id in (\\'PY_AR\\')\\n )\\n,valid_type_accounts AS (\\n    SELECT r.*, rtype.name as record_type, \\n    FROM sf_account as r\\n    LEFT JOIN `fulfillment-dwh-production.curated_data_shared_salesforce.recordtype` as rtype\\n    ON r.recordtypeid = rtype.id\\n    ORDER BY 1,2,3\\n)\\n,sf_lead AS (\\n    SELECT \\n        global_entity_id, grid__c, \\n        recordtypeid, special_characteristics__c\\n    FROM `fulfillment-dwh-production.curated_data_shared_salesforce.lead`  \\n    WHERE global_entity_id in (\\'PY_AR\\')\\n)\\n,valid_type_leads AS (\\n  SELECT r.*, rtype.name as record_type, \\n  FROM sf_lead as r\\n  LEFT JOIN `fulfillment-dwh-production.curated_data_shared_salesforce.recordtype` as rtype\\n  ON r.recordtypeid = rtype.id\\n  ORDER BY 1,2\\n)\\n,joined_input AS (\\nSELECT\\n    l.country_iso,\\n    `dh-global-sales-data.achilles.build_lead_row_id`(cm.global_entity_id,l.lead_provider,l.lead_source,l.lead_id) AS row_id,\\n    l.restaurant_name AS name,\\n    sf_account.translated_account_name__c AS name_local,\\n    sf_account.legal_name__c AS name_legal,\\n    CASE\\n        -- TODO 06.03.23 this is a temporal crutch that should be removed once models have \\n        -- more diverse feature set.\\n        WHEN \\n            cm.global_entity_id in (\\'TB_BH\\', \\'TB_KW\\', \\'FP_SG\\') \\n            AND restaurant_name_ascii IS NOT NULL\\n            -- to account for names that have just 1-2 ascii symbols in them and the rest is non-ascii\\n            AND LENGTH(COALESCE(restaurant_name_ascii, \\'\\')) > 2\\n            THEN restaurant_name_ascii\\n        ELSE restaurant_name_translated\\n    END AS name_translated,\\n    restaurant_address AS street,\\n    restaurant_address_translated AS street_translated,\\n    phone_number,\\n    restaurant_lat AS lat,\\n    restaurant_long AS lng,\\n    COALESCE(city_lat, restaurant_lat) as city_lat,\\n    COALESCE(city_long, restaurant_long) AS city_lng,\\n    sf_vendor_id AS vendor_id,\\n    lead_uuid,\\n    report_date,\\n    registration_number,\\n    -- Columns for filtering\\n    sf_account.branch_type,\\n    sf_account.revenue_model__c,\\n    COALESCE (sf_account.record_type, sf_lead.record_type) AS record_type,\\n    COALESCE (sf_account.special_characteristics__c,sf_lead.special_characteristics__c) AS special_characteristics__c\\nFROM\\n    `dh-global-sales-data.cl_saleslayer.vendor_complete` AS l\\nINNER JOIN\\n    country_map AS cm\\nON\\n    l.country_iso=cm.country_iso\\nLEFT JOIN  valid_type_accounts as sf_account\\nON\\n    l.lead_id = sf_account.grid__c\\nLEFT JOIN  valid_type_leads as sf_lead\\nON\\n    l.lead_id = sf_lead.grid__c\\n-- TODO Once rejected leads are part of saleslayer, this should be removed\\nLEFT JOIN `dh-global-sales-data.cl_lead_publish.fct_manual_rejected` AS m_rejected\\nON\\n    l.lead_id = m_rejected.lead_id\\n\\nWHERE\\n    -- Do not consider brand-specific cloud kitchens.\\n    (l.is_dark_kitchen IS NULL OR l.is_dark_kitchen = FALSE) AND\\n    --Do not consider deleted salesforce objects.\\n    (l.isdeleted IS NULL OR l.isdeleted = FALSE) AND\\n    -- Only consider Main-Branch, virtual, kitchen and leads\\n    -- (l.sf_type IS NULL OR l.sf_type in (\\'Branch - Main\\', \\'Branch - Virtual Restaurant\\', \\'Branch - Kitchen Restaurant\\', \\'lead\\')) AND\\n    -- Require location information.\\n    (restaurant_address IS NOT NULL OR (restaurant_lat + restaurant_long IS NOT NULL)) AND\\n    -- Ideally, we would require city location for candidate retrieval.\\n    -- However, sometimes lead providers give us only vendor coordinates.\\n    -- In this case we do a simple substitution (hence COALESCE statement for city_lat and city_long above)\\n    -- with a vendor coordinates. Corollary: vendors without both vendor and city coordinates\\n    -- should be discarded.\\n    ((city_lat + city_long IS NOT NULL) OR (restaurant_lat + restaurant_long IS NOT NULL)) AND\\n    -- Do not include manually rejected leads\\n    m_rejected.lead_id IS NULL AND\\n    -- Exclude leads with problems with lats/longs (see GSD-5197 ticket for more context)\\n    (l.is_correct_lat_long is NULL or l.is_correct_lat_long = True)\\n    -- Filter to specific sources.\\n    AND l.lead_source IN (\\'rappi\\',\\'fork\\',\\'minube\\',\\'guiaclarin\\',\\'google\\',\\'facebook\\',\\'mercadopago\\',\\'loveat\\',\\'tucan\\')\\n    \\n                AND STRUCT(l.lead_provider,\\n                    l.lead_source,\\n                    l.lead_id) IN (\\n                SELECT\\n                    STRUCT(lead_provider,\\n                    lead_source,\\n                    lead_id)\\n                FROM\\n                    cl_saleslayer.leadgen_sf_match AS m\\n                WHERE\\n                    m.lead_provider=l.lead_provider\\n                    AND m.lead_source=l.lead_source\\n                    AND m.lead_id=l.lead_id\\n                    AND sf_grid_id IS NULL)\\n            \\n)\\n\\nSELECT * EXCEPT (branch_type, record_type, revenue_model__c, special_characteristics__c)\\nFROM joined_input\\nWHERE \\n-- Only platforms that are accepting orders to be considered\\n(revenue_model__c is null or revenue_model__c like (\"%Ordering Platform%\")) \\n--  All records that are not Corporates, to be considered\\nAND (NOT(record_type like (\"%Corporate%\")) or record_type is null) \\nAND (branch_type is null or branch_type in (\"Branch - Main\",\"Branch - Virtual Restaurant\",\"Branch - Kitchen Restaurant\",\"Branch - Virtual Shop\"))\\nAND (special_characteristics__c is null OR special_characteristics__c not like (\"%0/0 Partner%\")) \\n)\\n;\\n'"
      ]
     },
     "execution_count": 8,
     "metadata": {},
     "output_type": "execute_result"
    }
   ],
   "source": [
    "from match.achilles import LeftInput\n",
    "global_entity_id = \"PY_AR\"\n",
    "output_table = \"dh-global-sales-data.leadgen_sf_match_vertex_delta_raw.left_leadgen_PY_AR\"\n",
    "lead_sources = [\"rappi\",\"fork\",\"minube\",\"guiaclarin\",\"google\",\"facebook\",\"mercadopago\",\"loveat\",\"tucan\"]\n",
    "is_delta = True\n",
    "left_input_data_table = \"dh-global-sales-data.leadgen_cl.vendor_complete\"\n",
    "dry_run = True\n",
    "\n",
    "left_input = LeftInput(\n",
    "            global_entity_id=global_entity_id,\n",
    "            output_table=output_table,\n",
    "            lead_source=lead_sources,\n",
    "            delta=is_delta,\n",
    "            leads_input_data_table=left_input_data_table,\n",
    "        )\n",
    "left_input.build_input(dry_run=dry_run)"
   ]
  },
  {
   "cell_type": "code",
   "execution_count": null,
   "id": "a0a84b61-6673-4a5c-bd0f-72c487b514d6",
   "metadata": {
    "tags": []
   },
   "outputs": [],
   "source": []
  },
  {
   "cell_type": "code",
   "execution_count": 18,
   "id": "c8318421-a21e-430c-8c16-7374edbd46ef",
   "metadata": {
    "scrolled": true,
    "tags": []
   },
   "outputs": [
    {
     "name": "stderr",
     "output_type": "stream",
     "text": [
      "2024-10-04 12:18:38,002 - match.achilles.brand_match - INFO - Taking Input table for Vendors As: dh-global-sales-data.leadgen_cl.vendor_complete\n",
      "2024-10-04 12:18:42,759 - match.achilles.brand_match - INFO - Creating brand match mapping .....\n",
      "2024-10-04 12:18:42,761 - match.achilles.brand_match - INFO - Creating left and right input for brand matching ...\n",
      "2024-10-04 12:19:09,636 - preprocess - DEBUG - <class 'match.achilles.preprocess.SplitOnCaps'>\n",
      "/Users/a.mandal/software/gsd-match-vertex/match_core/match/achilles/preprocess.py:326: SettingWithCopyWarning: \n",
      "A value is trying to be set on a copy of a slice from a DataFrame.\n",
      "Try using .loc[row_indexer,col_indexer] = value instead\n",
      "\n",
      "See the caveats in the documentation: https://pandas.pydata.org/pandas-docs/stable/user_guide/indexing.html#returning-a-view-versus-a-copy\n",
      "  X.loc[:, self.columns] = X[self.columns].apply(self._col_split, axis=0)\n",
      "2024-10-04 12:19:09,644 - preprocess - DEBUG - <class 'match.achilles.preprocess.StringPreprocessor'>\n",
      "/Users/a.mandal/software/gsd-match-vertex/match_core/match/achilles/preprocess.py:209: SettingWithCopyWarning: \n",
      "A value is trying to be set on a copy of a slice from a DataFrame.\n",
      "Try using .loc[row_indexer,col_indexer] = value instead\n",
      "\n",
      "See the caveats in the documentation: https://pandas.pydata.org/pandas-docs/stable/user_guide/indexing.html#returning-a-view-versus-a-copy\n",
      "  X.loc[:, self.columns] = X[self.columns].apply(\n",
      "2024-10-04 12:19:09,654 - preprocess - DEBUG - <class 'match.achilles.preprocess.AddressMaker'>\n",
      "2024-10-04 12:19:09,655 - preprocess - INFO - Total stopwords identified with name: 0\n",
      "2024-10-04 12:19:09,656 - preprocess - DEBUG - <class 'match.achilles.preprocess.StringColumnProcess'>\n",
      "/Users/a.mandal/software/gsd-match-vertex/match_core/match/achilles/preprocess.py:234: SettingWithCopyWarning: \n",
      "A value is trying to be set on a copy of a slice from a DataFrame\n",
      "\n",
      "See the caveats in the documentation: https://pandas.pydata.org/pandas-docs/stable/user_guide/indexing.html#returning-a-view-versus-a-copy\n",
      "  Xc.loc[col_notna] = Xc.loc[col_notna].str.split(expand=False).str.join(\" \")\n",
      "/Users/a.mandal/software/gsd-match-vertex/match_core/match/achilles/preprocess.py:403: SettingWithCopyWarning: \n",
      "A value is trying to be set on a copy of a slice from a DataFrame.\n",
      "Try using .loc[row_indexer,col_indexer] = value instead\n",
      "\n",
      "See the caveats in the documentation: https://pandas.pydata.org/pandas-docs/stable/user_guide/indexing.html#returning-a-view-versus-a-copy\n",
      "  X[\"street_stop\"] = StringColumnProcess().transform(X[\"street\"])\n",
      "2024-10-04 12:19:09,661 - preprocess - DEBUG - <class 'match.achilles.preprocess.RemoveColumnStops'>\n",
      "/Users/a.mandal/software/gsd-match-vertex/match_core/match/achilles/preprocess.py:405: SettingWithCopyWarning: \n",
      "A value is trying to be set on a copy of a slice from a DataFrame.\n",
      "Try using .loc[row_indexer,col_indexer] = value instead\n",
      "\n",
      "See the caveats in the documentation: https://pandas.pydata.org/pandas-docs/stable/user_guide/indexing.html#returning-a-view-versus-a-copy\n",
      "  X[\"street_stop\"] = RemoveColumnStops(\n",
      "2024-10-04 12:19:09,664 - preprocess - DEBUG - <class 'match.achilles.preprocess.RemoveColumnStops'>\n",
      "/Users/a.mandal/software/gsd-match-vertex/match_core/match/achilles/preprocess.py:410: SettingWithCopyWarning: \n",
      "A value is trying to be set on a copy of a slice from a DataFrame.\n",
      "Try using .loc[row_indexer,col_indexer] = value instead\n",
      "\n",
      "See the caveats in the documentation: https://pandas.pydata.org/pandas-docs/stable/user_guide/indexing.html#returning-a-view-versus-a-copy\n",
      "  X[\"street_stop\"] = RemoveColumnStops(\n",
      "/Users/a.mandal/software/gsd-match-vertex/match_core/match/achilles/preprocess.py:416: SettingWithCopyWarning: \n",
      "A value is trying to be set on a copy of a slice from a DataFrame.\n",
      "Try using .loc[row_indexer,col_indexer] = value instead\n",
      "\n",
      "See the caveats in the documentation: https://pandas.pydata.org/pandas-docs/stable/user_guide/indexing.html#returning-a-view-versus-a-copy\n",
      "  X[\"street_stop\"] = X[\"street_stop\"].where(~X[\"street_stop\"].isin(custom_nas), other=np.nan)\n",
      "/Users/a.mandal/software/gsd-match-vertex/match_core/match/achilles/preprocess.py:423: SettingWithCopyWarning: \n",
      "A value is trying to be set on a copy of a slice from a DataFrame.\n",
      "Try using .loc[row_indexer,col_indexer] = value instead\n",
      "\n",
      "See the caveats in the documentation: https://pandas.pydata.org/pandas-docs/stable/user_guide/indexing.html#returning-a-view-versus-a-copy\n",
      "  X.loc[col_notna, \"street_stop\"] = (\n",
      "/Users/a.mandal/software/gsd-match-vertex/match_core/match/achilles/preprocess.py:436: SettingWithCopyWarning: \n",
      "A value is trying to be set on a copy of a slice from a DataFrame.\n",
      "Try using .loc[row_indexer,col_indexer] = value instead\n",
      "\n",
      "See the caveats in the documentation: https://pandas.pydata.org/pandas-docs/stable/user_guide/indexing.html#returning-a-view-versus-a-copy\n",
      "  X[\"street_stop\"] = X[\"street_stop\"].apply(\n",
      "/Users/a.mandal/software/gsd-match-vertex/match_core/match/achilles/preprocess.py:439: SettingWithCopyWarning: \n",
      "A value is trying to be set on a copy of a slice from a DataFrame.\n",
      "Try using .loc[row_indexer,col_indexer] = value instead\n",
      "\n",
      "See the caveats in the documentation: https://pandas.pydata.org/pandas-docs/stable/user_guide/indexing.html#returning-a-view-versus-a-copy\n",
      "  X[\"street_stop\"] = X[\"street_stop\"].fillna(X[\"street\"])\n",
      "2024-10-04 12:19:09,669 - preprocess - DEBUG - <class 'match.achilles.preprocess.RestaurantNameMaker'>\n",
      "2024-10-04 12:19:09,671 - preprocess - DEBUG - <class 'match.achilles.preprocess.StringColumnProcess'>\n",
      "/Users/a.mandal/software/gsd-match-vertex/match_core/match/achilles/preprocess.py:234: SettingWithCopyWarning: \n",
      "A value is trying to be set on a copy of a slice from a DataFrame\n",
      "\n",
      "See the caveats in the documentation: https://pandas.pydata.org/pandas-docs/stable/user_guide/indexing.html#returning-a-view-versus-a-copy\n",
      "  Xc.loc[col_notna] = Xc.loc[col_notna].str.split(expand=False).str.join(\" \")\n",
      "2024-10-04 12:19:09,674 - preprocess - INFO - Total stopwords identified with name: 0\n",
      "2024-10-04 12:19:09,675 - preprocess - INFO - Total stopwords identified with street: 0\n",
      "2024-10-04 12:19:09,676 - preprocess - INFO - Total stopwords identified with delimiters: 0\n",
      "2024-10-04 12:19:09,676 - preprocess - DEBUG - <class 'match.achilles.preprocess.RemoveColumnStops'>\n",
      "2024-10-04 12:19:09,679 - preprocess - DEBUG - <class 'match.achilles.preprocess.RemoveColumnStops'>\n",
      "2024-10-04 12:19:09,684 - preprocess - DEBUG - <class 'match.achilles.preprocess.RemoveColumnStops'>\n",
      "2024-10-04 12:19:09,687 - preprocess - DEBUG - <class 'match.achilles.preprocess.StringPostprocessor'>\n",
      "2024-10-04 12:19:09,696 - preprocess - DEBUG - <class 'match.achilles.preprocess.RestaurantNameFixer'>\n",
      "2024-10-04 12:19:09,701 - preprocess - DEBUG - <class 'match.achilles.preprocess.PhoeticTransformer'>\n",
      "2024-10-04 12:19:09,706 - preprocess - DEBUG - <class 'match.achilles.preprocess.PhoeticTransformer'>\n",
      "2024-10-04 12:19:09,713 - preprocess - WARNING - Dropping 3 rows missing city lat/lng.\n",
      "2024-10-04 12:19:09,724 - preprocess - DEBUG - <class 'match.achilles.preprocess.SplitOnCaps'>\n"
     ]
    },
    {
     "name": "stdout",
     "output_type": "stream",
     "text": [
      "left_df Index(['country_iso', 'row_id', 'name', 'name_local', 'name_legal',\n",
      "       'name_translated', 'street', 'street_translated', 'phone_number', 'lat',\n",
      "       'lng', 'city_lat', 'city_lng', 'registration_number'],\n",
      "      dtype='object')\n",
      "\n",
      "right_df Index(['country_iso', 'row_id', 'name', 'name_local', 'name_legal',\n",
      "       'name_translated', 'street', 'street_translated', 'phone_number', 'lat',\n",
      "       'lng', 'city_lat', 'city_lng', 'registration_number', 'sf_type'],\n",
      "      dtype='object')\n",
      "[]\n",
      "[]\n"
     ]
    },
    {
     "name": "stderr",
     "output_type": "stream",
     "text": [
      "/Users/a.mandal/software/gsd-match-vertex/match_core/match/achilles/preprocess.py:326: SettingWithCopyWarning: \n",
      "A value is trying to be set on a copy of a slice from a DataFrame.\n",
      "Try using .loc[row_indexer,col_indexer] = value instead\n",
      "\n",
      "See the caveats in the documentation: https://pandas.pydata.org/pandas-docs/stable/user_guide/indexing.html#returning-a-view-versus-a-copy\n",
      "  X.loc[:, self.columns] = X[self.columns].apply(self._col_split, axis=0)\n",
      "2024-10-04 12:19:10,101 - preprocess - DEBUG - <class 'match.achilles.preprocess.StringPreprocessor'>\n",
      "/Users/a.mandal/software/gsd-match-vertex/match_core/match/achilles/preprocess.py:209: SettingWithCopyWarning: \n",
      "A value is trying to be set on a copy of a slice from a DataFrame.\n",
      "Try using .loc[row_indexer,col_indexer] = value instead\n",
      "\n",
      "See the caveats in the documentation: https://pandas.pydata.org/pandas-docs/stable/user_guide/indexing.html#returning-a-view-versus-a-copy\n",
      "  X.loc[:, self.columns] = X[self.columns].apply(\n",
      "2024-10-04 12:19:10,193 - preprocess - DEBUG - <class 'match.achilles.preprocess.AddressMaker'>\n",
      "2024-10-04 12:19:10,197 - preprocess - INFO - Total stopwords identified with name: 18\n",
      "2024-10-04 12:19:10,198 - preprocess - DEBUG - <class 'match.achilles.preprocess.StringColumnProcess'>\n",
      "/Users/a.mandal/software/gsd-match-vertex/match_core/match/achilles/preprocess.py:234: SettingWithCopyWarning: \n",
      "A value is trying to be set on a copy of a slice from a DataFrame\n",
      "\n",
      "See the caveats in the documentation: https://pandas.pydata.org/pandas-docs/stable/user_guide/indexing.html#returning-a-view-versus-a-copy\n",
      "  Xc.loc[col_notna] = Xc.loc[col_notna].str.split(expand=False).str.join(\" \")\n"
     ]
    },
    {
     "name": "stdout",
     "output_type": "stream",
     "text": [
      "['vanha', 'group', 'pizza', 'food', 'better', 'hesburger', 'ravintola', 'kitchen', 'sushi', 'chicken', 'subway', 'the', 'spoon', 'gangnam', 'kebab', 'wing', 'it!', 'turku']\n"
     ]
    },
    {
     "name": "stderr",
     "output_type": "stream",
     "text": [
      "/Users/a.mandal/software/gsd-match-vertex/match_core/match/achilles/preprocess.py:403: SettingWithCopyWarning: \n",
      "A value is trying to be set on a copy of a slice from a DataFrame.\n",
      "Try using .loc[row_indexer,col_indexer] = value instead\n",
      "\n",
      "See the caveats in the documentation: https://pandas.pydata.org/pandas-docs/stable/user_guide/indexing.html#returning-a-view-versus-a-copy\n",
      "  X[\"street_stop\"] = StringColumnProcess().transform(X[\"street\"])\n",
      "2024-10-04 12:19:10,568 - preprocess - DEBUG - <class 'match.achilles.preprocess.RemoveColumnStops'>\n",
      "/Users/a.mandal/software/gsd-match-vertex/match_core/match/achilles/preprocess.py:405: SettingWithCopyWarning: \n",
      "A value is trying to be set on a copy of a slice from a DataFrame.\n",
      "Try using .loc[row_indexer,col_indexer] = value instead\n",
      "\n",
      "See the caveats in the documentation: https://pandas.pydata.org/pandas-docs/stable/user_guide/indexing.html#returning-a-view-versus-a-copy\n",
      "  X[\"street_stop\"] = RemoveColumnStops(\n",
      "2024-10-04 12:19:10,597 - preprocess - DEBUG - <class 'match.achilles.preprocess.RemoveColumnStops'>\n",
      "/Users/a.mandal/software/gsd-match-vertex/match_core/match/achilles/preprocess.py:410: SettingWithCopyWarning: \n",
      "A value is trying to be set on a copy of a slice from a DataFrame.\n",
      "Try using .loc[row_indexer,col_indexer] = value instead\n",
      "\n",
      "See the caveats in the documentation: https://pandas.pydata.org/pandas-docs/stable/user_guide/indexing.html#returning-a-view-versus-a-copy\n",
      "  X[\"street_stop\"] = RemoveColumnStops(\n",
      "/Users/a.mandal/software/gsd-match-vertex/match_core/match/achilles/preprocess.py:416: SettingWithCopyWarning: \n",
      "A value is trying to be set on a copy of a slice from a DataFrame.\n",
      "Try using .loc[row_indexer,col_indexer] = value instead\n",
      "\n",
      "See the caveats in the documentation: https://pandas.pydata.org/pandas-docs/stable/user_guide/indexing.html#returning-a-view-versus-a-copy\n",
      "  X[\"street_stop\"] = X[\"street_stop\"].where(~X[\"street_stop\"].isin(custom_nas), other=np.nan)\n",
      "/Users/a.mandal/software/gsd-match-vertex/match_core/match/achilles/preprocess.py:423: SettingWithCopyWarning: \n",
      "A value is trying to be set on a copy of a slice from a DataFrame.\n",
      "Try using .loc[row_indexer,col_indexer] = value instead\n",
      "\n",
      "See the caveats in the documentation: https://pandas.pydata.org/pandas-docs/stable/user_guide/indexing.html#returning-a-view-versus-a-copy\n",
      "  X.loc[col_notna, \"street_stop\"] = (\n",
      "/Users/a.mandal/software/gsd-match-vertex/match_core/match/achilles/preprocess.py:436: SettingWithCopyWarning: \n",
      "A value is trying to be set on a copy of a slice from a DataFrame.\n",
      "Try using .loc[row_indexer,col_indexer] = value instead\n",
      "\n",
      "See the caveats in the documentation: https://pandas.pydata.org/pandas-docs/stable/user_guide/indexing.html#returning-a-view-versus-a-copy\n",
      "  X[\"street_stop\"] = X[\"street_stop\"].apply(\n",
      "/Users/a.mandal/software/gsd-match-vertex/match_core/match/achilles/preprocess.py:439: SettingWithCopyWarning: \n",
      "A value is trying to be set on a copy of a slice from a DataFrame.\n",
      "Try using .loc[row_indexer,col_indexer] = value instead\n",
      "\n",
      "See the caveats in the documentation: https://pandas.pydata.org/pandas-docs/stable/user_guide/indexing.html#returning-a-view-versus-a-copy\n",
      "  X[\"street_stop\"] = X[\"street_stop\"].fillna(X[\"street\"])\n",
      "2024-10-04 12:19:10,645 - preprocess - DEBUG - <class 'match.achilles.preprocess.RestaurantNameMaker'>\n",
      "2024-10-04 12:19:10,648 - preprocess - DEBUG - <class 'match.achilles.preprocess.StringColumnProcess'>\n",
      "/Users/a.mandal/software/gsd-match-vertex/match_core/match/achilles/preprocess.py:234: SettingWithCopyWarning: \n",
      "A value is trying to be set on a copy of a slice from a DataFrame\n",
      "\n",
      "See the caveats in the documentation: https://pandas.pydata.org/pandas-docs/stable/user_guide/indexing.html#returning-a-view-versus-a-copy\n",
      "  Xc.loc[col_notna] = Xc.loc[col_notna].str.split(expand=False).str.join(\" \")\n",
      "/Users/a.mandal/software/gsd-match-vertex/match_core/match/achilles/preprocess.py:454: SettingWithCopyWarning: \n",
      "A value is trying to be set on a copy of a slice from a DataFrame.\n",
      "Try using .loc[row_indexer,col_indexer] = value instead\n",
      "\n",
      "See the caveats in the documentation: https://pandas.pydata.org/pandas-docs/stable/user_guide/indexing.html#returning-a-view-versus-a-copy\n",
      "  X[\"name_stop\"] = StringColumnProcess().transform(X[\"name\"])\n",
      "2024-10-04 12:19:11,145 - preprocess - INFO - Total stopwords identified with name: 18\n",
      "2024-10-04 12:19:11,148 - preprocess - INFO - Total stopwords identified with street: 4\n",
      "2024-10-04 12:19:11,154 - preprocess - INFO - Total stopwords identified with delimiters: 8\n",
      "2024-10-04 12:19:11,155 - preprocess - DEBUG - <class 'match.achilles.preprocess.RemoveColumnStops'>\n",
      "/Users/a.mandal/software/gsd-match-vertex/match_core/match/achilles/preprocess.py:505: SettingWithCopyWarning: \n",
      "A value is trying to be set on a copy of a slice from a DataFrame.\n",
      "Try using .loc[row_indexer,col_indexer] = value instead\n",
      "\n",
      "See the caveats in the documentation: https://pandas.pydata.org/pandas-docs/stable/user_guide/indexing.html#returning-a-view-versus-a-copy\n",
      "  X[\"name_stop\"] = RemoveColumnStops(\n",
      "2024-10-04 12:19:11,172 - preprocess - DEBUG - <class 'match.achilles.preprocess.RemoveColumnStops'>\n",
      "/Users/a.mandal/software/gsd-match-vertex/match_core/match/achilles/preprocess.py:513: SettingWithCopyWarning: \n",
      "A value is trying to be set on a copy of a slice from a DataFrame.\n",
      "Try using .loc[row_indexer,col_indexer] = value instead\n",
      "\n",
      "See the caveats in the documentation: https://pandas.pydata.org/pandas-docs/stable/user_guide/indexing.html#returning-a-view-versus-a-copy\n",
      "  X[\"name_stop\"] = RemoveColumnStops(\n",
      "2024-10-04 12:19:11,200 - preprocess - DEBUG - <class 'match.achilles.preprocess.RemoveColumnStops'>\n",
      "/Users/a.mandal/software/gsd-match-vertex/match_core/match/achilles/preprocess.py:524: SettingWithCopyWarning: \n",
      "A value is trying to be set on a copy of a slice from a DataFrame.\n",
      "Try using .loc[row_indexer,col_indexer] = value instead\n",
      "\n",
      "See the caveats in the documentation: https://pandas.pydata.org/pandas-docs/stable/user_guide/indexing.html#returning-a-view-versus-a-copy\n",
      "  X[\"name_stop\"] = RemoveColumnStops(\n",
      "/Users/a.mandal/software/gsd-match-vertex/match_core/match/achilles/preprocess.py:529: SettingWithCopyWarning: \n",
      "A value is trying to be set on a copy of a slice from a DataFrame.\n",
      "Try using .loc[row_indexer,col_indexer] = value instead\n",
      "\n",
      "See the caveats in the documentation: https://pandas.pydata.org/pandas-docs/stable/user_guide/indexing.html#returning-a-view-versus-a-copy\n",
      "  X[\"name_stop\"] = (\n",
      "2024-10-04 12:19:11,236 - preprocess - DEBUG - <class 'match.achilles.preprocess.StringPostprocessor'>\n",
      "/Users/a.mandal/software/gsd-match-vertex/match_core/match/achilles/preprocess.py:250: SettingWithCopyWarning: \n",
      "A value is trying to be set on a copy of a slice from a DataFrame.\n",
      "Try using .loc[row_indexer,col_indexer] = value instead\n",
      "\n",
      "See the caveats in the documentation: https://pandas.pydata.org/pandas-docs/stable/user_guide/indexing.html#returning-a-view-versus-a-copy\n",
      "  X.loc[:, self.columns] = X[self.columns].apply(\n",
      "/Users/a.mandal/software/gsd-match-vertex/match_core/match/achilles/preprocess.py:256: SettingWithCopyWarning: \n",
      "A value is trying to be set on a copy of a slice from a DataFrame.\n",
      "Try using .loc[row_indexer,col_indexer] = value instead\n",
      "\n",
      "See the caveats in the documentation: https://pandas.pydata.org/pandas-docs/stable/user_guide/indexing.html#returning-a-view-versus-a-copy\n",
      "  X.loc[:, self.columns] = X[self.columns].replace(r\"^\\s*$\", np.nan, regex=True)\n",
      "/Users/a.mandal/software/gsd-match-vertex/match_core/match/achilles/preprocess.py:262: SettingWithCopyWarning: \n",
      "A value is trying to be set on a copy of a slice from a DataFrame.\n",
      "Try using .loc[row_indexer,col_indexer] = value instead\n",
      "\n",
      "See the caveats in the documentation: https://pandas.pydata.org/pandas-docs/stable/user_guide/indexing.html#returning-a-view-versus-a-copy\n",
      "  X.loc[:, self.columns] = _strip_cols(X[self.columns])\n",
      "2024-10-04 12:19:11,294 - preprocess - DEBUG - <class 'match.achilles.preprocess.RestaurantNameFixer'>\n",
      "/Users/a.mandal/software/gsd-match-vertex/match_core/match/achilles/preprocess.py:579: SettingWithCopyWarning: \n",
      "A value is trying to be set on a copy of a slice from a DataFrame.\n",
      "Try using .loc[row_indexer,col_indexer] = value instead\n",
      "\n",
      "See the caveats in the documentation: https://pandas.pydata.org/pandas-docs/stable/user_guide/indexing.html#returning-a-view-versus-a-copy\n",
      "  X[\"name_stop\"] = X[\"name_stop\"].fillna(\"\").apply(lambda x: np.nan if len(x) < 2 else x)\n",
      "/Users/a.mandal/software/gsd-match-vertex/match_core/match/achilles/preprocess.py:582: SettingWithCopyWarning: \n",
      "A value is trying to be set on a copy of a slice from a DataFrame.\n",
      "Try using .loc[row_indexer,col_indexer] = value instead\n",
      "\n",
      "See the caveats in the documentation: https://pandas.pydata.org/pandas-docs/stable/user_guide/indexing.html#returning-a-view-versus-a-copy\n",
      "  X[\"name_stop\"] = X[\"name_stop\"].combine_first(X[\"name\"])\n",
      "/Users/a.mandal/software/gsd-match-vertex/match_core/match/achilles/preprocess.py:586: SettingWithCopyWarning: \n",
      "A value is trying to be set on a copy of a slice from a DataFrame.\n",
      "Try using .loc[row_indexer,col_indexer] = value instead\n",
      "\n",
      "See the caveats in the documentation: https://pandas.pydata.org/pandas-docs/stable/user_guide/indexing.html#returning-a-view-versus-a-copy\n",
      "  X['name_stop'] = X['name_stop'].str.lower().replace(r'^(nan|null|inf)$', 'nan nan', regex=True)\n",
      "2024-10-04 12:19:11,353 - preprocess - DEBUG - <class 'match.achilles.preprocess.PhoeticTransformer'>\n"
     ]
    },
    {
     "name": "stdout",
     "output_type": "stream",
     "text": [
      "['vanha', 'group', 'pizza', 'food', 'better', 'hesburger', 'ravintola', 'kitchen', 'sushi', 'chicken', 'subway', 'the', 'spoon', 'gangnam', 'kebab', 'wing', 'it!', 'turku']\n"
     ]
    },
    {
     "name": "stderr",
     "output_type": "stream",
     "text": [
      "2024-10-04 12:19:11,610 - preprocess - DEBUG - <class 'match.achilles.preprocess.PhoeticTransformer'>\n",
      "2024-10-04 12:19:11,878 - match.achilles.brand_match - INFO - Fuzzy matching for creating candidates ...\n",
      "2024-10-04 12:19:11,988 - match.achilles - DEBUG - <class 'match.achilles.feature.RowDistanceMaker'>\n",
      "2024-10-04 12:19:11,988 - match.achilles - DEBUG - <class 'match.achilles.feature.RowDistanceMaker'>\n",
      "2024-10-04 12:19:11,993 - match.achilles - DEBUG - <class 'match.achilles.feature.RowDistanceMaker'>\n",
      "2024-10-04 12:19:11,993 - match.achilles - DEBUG - <class 'match.achilles.feature.RowDistanceMaker'>\n",
      "2024-10-04 12:19:11,997 - match.achilles - DEBUG - <class 'match.achilles.feature.RowDistanceMaker'>\n",
      "2024-10-04 12:19:11,998 - match.achilles - DEBUG - <class 'match.achilles.feature.RowDistanceMaker'>\n",
      "2024-10-04 12:19:12,001 - match.achilles - DEBUG - <class 'match.achilles.feature.RowDistanceMaker'>\n",
      "2024-10-04 12:19:12,003 - match.achilles - DEBUG - <class 'match.achilles.feature.RowDistanceMaker'>\n",
      "2024-10-04 12:19:12,005 - match.achilles - DEBUG - <class 'match.achilles.feature.ReverseJaroWinklerMaker'>\n",
      "2024-10-04 12:19:12,007 - match.achilles - DEBUG - <class 'match.achilles.feature.RowDistanceMaker'>\n",
      "2024-10-04 12:19:12,009 - match.achilles - DEBUG - <class 'match.achilles.feature.RowDistanceMaker'>\n",
      "2024-10-04 12:19:12,011 - match.achilles - DEBUG - <class 'match.achilles.feature.RowDistanceMaker'>\n",
      "2024-10-04 12:19:12,012 - match.achilles - DEBUG - <class 'match.achilles.feature.HaversineDistance'>\n",
      "2024-10-04 12:19:12,014 - match.achilles - DEBUG - <class 'match.achilles.feature.SamePhoneMaker'>\n",
      "2024-10-04 12:19:12,021 - match.achilles - DEBUG - <class 'match.achilles.feature.FeatureFilter'>\n",
      "2024-10-04 12:19:12,023 - achilles_io - INFO - Started writing to gbq table dh-global-sales-data-dev.chain_matching_exp.features_hash_d84a251b-ae6f-45e1-9196-56207327bdc2\n",
      "100%|███████████████████████████████████████████| 1/1 [00:00<00:00, 2288.22it/s]\n",
      "2024-10-04 12:19:22,486 - achilles_io - INFO - Finished writing to gbq table dh-global-sales-data-dev.chain_matching_exp.features_hash_d84a251b-ae6f-45e1-9196-56207327bdc2\n"
     ]
    },
    {
     "name": "stdout",
     "output_type": "stream",
     "text": [
      "Downloading: 100%|\u001b[32m█████████████████████████████████████████████████████████████\u001b[0m|\u001b[0m"
     ]
    },
    {
     "name": "stderr",
     "output_type": "stream",
     "text": [
      "2024-10-04 12:19:26,351 - match.achilles - DEBUG - Predicting on GBQ: dh-global-sales-data-dev.chain_matching_exp.chain_match_predictions_hash_896a61b0-0e7f-4d2b-b12b-41937c39e963\n"
     ]
    },
    {
     "name": "stdout",
     "output_type": "stream",
     "text": [
      "\n",
      "Using model source: BQ\n"
     ]
    },
    {
     "name": "stderr",
     "output_type": "stream",
     "text": [
      "2024-10-04 12:19:30,775 - match.achilles - DEBUG - Predict query:\n",
      "CREATE TABLE `dh-global-sales-data-dev.chain_matching_exp.chain_match_predictions_hash_896a61b0-0e7f-4d2b-b12b-41937c39e963` AS\n",
      "\n",
      "WITH pred_geo AS (\n",
      "    SELECT\n",
      "        CURRENT_TIMESTAMP() AS run_timestamp,\n",
      "        \"dh-global-sales-data-dev.achilles.model_FI_v4_geo\" AS model_name,\n",
      "        \"dh-global-sales-data-dev.chain_matching_exp.features_hash_d84a251b-ae6f-45e1-9196-56207327bdc2\" AS input_table,\n",
      "        country_iso,\n",
      "        left_row_id,\n",
      "        right_row_id,\n",
      "        predicted_label,\n",
      "        predicted_label_probs\n",
      "    FROM\n",
      "        ML.PREDICT(\n",
      "            MODEL `dh-global-sales-data-dev.achilles.model_FI_v4_geo`,\n",
      "            (\n",
      "            SELECT\n",
      "                country_iso,left_row_id,right_row_id,haversine,jaro_winkler_name,jaro_winkler_name_reversed,jaro_winkler_name_stop,levenshtein_name_stop_phonetic,same_phone,tokenset_name,tokenset_name_legal,tokenset_name_local_ascii_only,tokenset_name_stop,tokenset_street_stop,wratio_name,wratio_name_stop\n",
      "            FROM\n",
      "                `dh-global-sales-data-dev.chain_matching_exp.features_hash_d84a251b-ae6f-45e1-9196-56207327bdc2`\n",
      "            WHERE\n",
      "                haversine IS NOT NULL\n",
      "            ), STRUCT(0.4 AS threshold)\n",
      "        )\n",
      "),\n",
      "\n",
      "pred_non_geo AS (\n",
      "    SELECT\n",
      "        CURRENT_TIMESTAMP() AS run_timestamp,\n",
      "        \"dh-global-sales-data-dev.achilles.model_FI_v4\" AS model_name,\n",
      "        \"dh-global-sales-data-dev.chain_matching_exp.features_hash_d84a251b-ae6f-45e1-9196-56207327bdc2\" AS input_table,\n",
      "        country_iso,\n",
      "        left_row_id,\n",
      "        right_row_id,\n",
      "        predicted_label,\n",
      "        predicted_label_probs\n",
      "    FROM\n",
      "        ML.PREDICT(\n",
      "            MODEL `dh-global-sales-data-dev.achilles.model_FI_v4`,\n",
      "            (\n",
      "            SELECT\n",
      "                country_iso,left_row_id,right_row_id,jaro_winkler_name,jaro_winkler_name_reversed,jaro_winkler_name_stop,levenshtein_name_stop_phonetic,same_phone,tokenset_name,tokenset_name_legal,tokenset_name_local_ascii_only,tokenset_name_stop,tokenset_street_stop,wratio_name,wratio_name_stop\n",
      "            FROM\n",
      "                `dh-global-sales-data-dev.chain_matching_exp.features_hash_d84a251b-ae6f-45e1-9196-56207327bdc2`\n",
      "            WHERE\n",
      "                haversine IS NULL\n",
      "            ), STRUCT(0.4 AS threshold)\n",
      "        )\n",
      ")\n",
      "## Unionize the outputs for Geo and Non-geo\n",
      "SELECT \n",
      "    * EXCEPT (predicted_label_probs, label, prob), \n",
      "    CASE WHEN pp.label = 1 then pp.prob else 1-pp.prob end as prob,\n",
      "FROM pred_geo,\n",
      "    UNNEST(predicted_label_probs) AS pp\n",
      "WHERE\n",
      "    predicted_label = pp.label \n",
      "\n",
      "\n",
      "UNION ALL\n",
      "\n",
      "\n",
      "SELECT \n",
      "    * EXCEPT (predicted_label_probs, label, prob),\n",
      "    CASE WHEN pp.label = 1 then pp.prob else 1-pp.prob end as prob,\n",
      "FROM pred_non_geo,\n",
      "    UNNEST(predicted_label_probs) AS pp\n",
      "WHERE\n",
      "    predicted_label = pp.label \n",
      "\n",
      "2024-10-04 12:19:37,148 - match.achilles.brand_match - INFO - Creating/Updating dh-global-sales-data-dev.chain_matching_exp.chain_match_output_hash_4c6d5ab9-5357-4286-a72e-b28cb8e5d2fa ...\n"
     ]
    },
    {
     "name": "stdout",
     "output_type": "stream",
     "text": [
      "Downloading: 100%|\u001b[32m█████████████████████████████████████████████████████████████\u001b[0m|\u001b[0m\n"
     ]
    },
    {
     "name": "stderr",
     "output_type": "stream",
     "text": [
      "2024-10-04 12:19:41,408 - match.achilles.brand_match - DEBUG - Clearing all tables ... \n"
     ]
    }
   ],
   "source": [
    "from match.achilles import ChainMatch\n",
    "global_entity_id = \"PO_FI\"\n",
    "leadgen_sf_match_table = \"dh-global-sales-data.cl_saleslayer.leadgen_sf_match\"\n",
    "saleslayer_path = \"dh-global-sales-data.leadgen_cl.vendor_complete\"\n",
    "# output_table = \"dh-global-sales-data.leadgen_sf_match_vertex_delta_raw.left_leadgen_PY_AR\"\n",
    "# lead_sources = [\"rappi\",\"fork\",\"minube\",\"guiaclarin\",\"google\",\"facebook\",\"mercadopago\",\"loveat\",\"tucan\"]\n",
    "# is_delta = True\n",
    "# left_input_data_table = \"dh-global-sales-data.leadgen_cl.vendor_complete\"\n",
    "# dry_run = True\n",
    "\n",
    "# left_input = LeftInput(\n",
    "#             global_entity_id=global_entity_id,\n",
    "#             output_table=output_table,\n",
    "#             lead_source=lead_sources,\n",
    "#             delta=is_delta,\n",
    "#             leads_input_data_table=left_input_data_table,\n",
    "#         )\n",
    "# left_input.build_input(dry_run=dry_run)\n",
    "\n",
    "\n",
    "chain_match = ChainMatch(\n",
    "        global_entity_id=global_entity_id,\n",
    "        leadgen_sf_match_table=leadgen_sf_match_table,\n",
    "        # output_path=pargs.output_path,\n",
    "        ## This has to be forced, otherwise it will pick the default MODEL ID (which are not Name only model).\n",
    "        model_id=\"FI\",\n",
    "        model_version=\"4\",\n",
    "        # threshold=pargs.threshold,\n",
    "        working_dataset=\"chain_matching_exp\",\n",
    "        # run_validation=pargs.run_validation,\n",
    "        saleslayer_path=saleslayer_path,\n",
    "    )\n",
    "\n",
    "chain_match._create_output()\n"
   ]
  },
  {
   "cell_type": "code",
   "execution_count": null,
   "id": "62d6beb0-2569-4f44-8654-82ff961d90c0",
   "metadata": {},
   "outputs": [],
   "source": []
  },
  {
   "cell_type": "code",
   "execution_count": null,
   "id": "0ce4aedc-0227-43e1-a6c7-5c15febcfe2b",
   "metadata": {
    "scrolled": true
   },
   "outputs": [],
   "source": []
  },
  {
   "cell_type": "code",
   "execution_count": null,
   "id": "ecd52889-f2f3-46e3-a4af-ce44f4b2f522",
   "metadata": {},
   "outputs": [],
   "source": []
  },
  {
   "cell_type": "code",
   "execution_count": null,
   "id": "887accc1-f131-4ca0-9e13-d70a0fa1afb6",
   "metadata": {},
   "outputs": [],
   "source": []
  },
  {
   "cell_type": "markdown",
   "id": "28928fc3-91a2-4312-a270-15287ccf844e",
   "metadata": {},
   "source": [
    "## Vertex Experiments"
   ]
  },
  {
   "cell_type": "code",
   "execution_count": 56,
   "id": "8d33e63e-9420-41d3-a0d8-2cf40c16e16d",
   "metadata": {
    "tags": []
   },
   "outputs": [
    {
     "data": {
      "text/html": [
       "\n",
       "        \n",
       "    <link rel=\"stylesheet\" href=\"https://fonts.googleapis.com/icon?family=Material+Icons\">\n",
       "    <style>\n",
       "      .view-vertex-resource,\n",
       "      .view-vertex-resource:hover,\n",
       "      .view-vertex-resource:visited {\n",
       "        position: relative;\n",
       "        display: inline-flex;\n",
       "        flex-direction: row;\n",
       "        height: 32px;\n",
       "        padding: 0 12px;\n",
       "          margin: 4px 18px;\n",
       "        gap: 4px;\n",
       "        border-radius: 4px;\n",
       "\n",
       "        align-items: center;\n",
       "        justify-content: center;\n",
       "        background-color: rgb(255, 255, 255);\n",
       "        color: rgb(51, 103, 214);\n",
       "\n",
       "        font-family: Roboto,\"Helvetica Neue\",sans-serif;\n",
       "        font-size: 13px;\n",
       "        font-weight: 500;\n",
       "        text-transform: uppercase;\n",
       "        text-decoration: none !important;\n",
       "\n",
       "        transition: box-shadow 280ms cubic-bezier(0.4, 0, 0.2, 1) 0s;\n",
       "        box-shadow: 0px 3px 1px -2px rgba(0,0,0,0.2), 0px 2px 2px 0px rgba(0,0,0,0.14), 0px 1px 5px 0px rgba(0,0,0,0.12);\n",
       "      }\n",
       "      .view-vertex-resource:active {\n",
       "        box-shadow: 0px 5px 5px -3px rgba(0,0,0,0.2),0px 8px 10px 1px rgba(0,0,0,0.14),0px 3px 14px 2px rgba(0,0,0,0.12);\n",
       "      }\n",
       "      .view-vertex-resource:active .view-vertex-ripple::before {\n",
       "        position: absolute;\n",
       "        top: 0;\n",
       "        bottom: 0;\n",
       "        left: 0;\n",
       "        right: 0;\n",
       "        border-radius: 4px;\n",
       "        pointer-events: none;\n",
       "\n",
       "        content: '';\n",
       "        background-color: rgb(51, 103, 214);\n",
       "        opacity: 0.12;\n",
       "      }\n",
       "      .view-vertex-icon {\n",
       "        font-size: 18px;\n",
       "      }\n",
       "    </style>\n",
       "  \n",
       "        <a class=\"view-vertex-resource\" id=\"view-vertex-resource-455bec93-fb9d-419b-b91b-4d28fba29c88\" href=\"#view-view-vertex-resource-455bec93-fb9d-419b-b91b-4d28fba29c88\">\n",
       "          <span class=\"material-icons view-vertex-icon\">science</span>\n",
       "          <span>View Experiment</span>\n",
       "        </a>\n",
       "        \n",
       "        <script>\n",
       "          (function () {\n",
       "            const link = document.getElementById('view-vertex-resource-455bec93-fb9d-419b-b91b-4d28fba29c88');\n",
       "            link.addEventListener('click', (e) => {\n",
       "              if (window.google?.colab?.openUrl) {\n",
       "                window.google.colab.openUrl('https://console.cloud.google.com/vertex-ai/experiments/locations/us-central1/experiments/kr-v5-model-training/runs?project=dh-global-sales-data-dev');\n",
       "              } else {\n",
       "                window.open('https://console.cloud.google.com/vertex-ai/experiments/locations/us-central1/experiments/kr-v5-model-training/runs?project=dh-global-sales-data-dev', '_blank');\n",
       "              }\n",
       "              e.stopPropagation();\n",
       "              e.preventDefault();\n",
       "            });\n",
       "          })();\n",
       "        </script>\n",
       "    "
      ],
      "text/plain": [
       "<IPython.core.display.HTML object>"
      ]
     },
     "metadata": {},
     "output_type": "display_data"
    },
    {
     "data": {
      "text/html": [
       "<div>\n",
       "<style scoped>\n",
       "    .dataframe tbody tr th:only-of-type {\n",
       "        vertical-align: middle;\n",
       "    }\n",
       "\n",
       "    .dataframe tbody tr th {\n",
       "        vertical-align: top;\n",
       "    }\n",
       "\n",
       "    .dataframe thead th {\n",
       "        text-align: right;\n",
       "    }\n",
       "</style>\n",
       "<table border=\"1\" class=\"dataframe\">\n",
       "  <thead>\n",
       "    <tr style=\"text-align: right;\">\n",
       "      <th></th>\n",
       "      <th>experiment_name</th>\n",
       "      <th>run_name</th>\n",
       "      <th>run_type</th>\n",
       "      <th>state</th>\n",
       "      <th>param.label_distribution</th>\n",
       "      <th>param.model_features</th>\n",
       "      <th>param.model_type</th>\n",
       "      <th>param.scoring_type</th>\n",
       "      <th>param.grid_cv_params</th>\n",
       "      <th>metric.f1_score</th>\n",
       "      <th>metric.precision</th>\n",
       "      <th>metric.f2_score</th>\n",
       "      <th>metric.fnr</th>\n",
       "      <th>metric.logloss</th>\n",
       "      <th>metric.recall</th>\n",
       "      <th>metric.f0_5score</th>\n",
       "      <th>metric.threshold</th>\n",
       "      <th>metric.mcc_score</th>\n",
       "      <th>metric.fpr</th>\n",
       "      <th>metric.accuracy</th>\n",
       "    </tr>\n",
       "  </thead>\n",
       "  <tbody>\n",
       "    <tr>\n",
       "      <th>0</th>\n",
       "      <td>kr-v5-model-training</td>\n",
       "      <td>non-geo-run-6-202409261633</td>\n",
       "      <td>system.ExperimentRun</td>\n",
       "      <td>COMPLETE</td>\n",
       "      <td>\\n                                y_train: ...</td>\n",
       "      <td>['cosine_name_stop', 'jaro_winkler_name', 'jar...</td>\n",
       "      <td>non-geo</td>\n",
       "      <td>f1_score</td>\n",
       "      <td>{'n_estimators': array([ 50,  75, 100, 125]), ...</td>\n",
       "      <td>0.946</td>\n",
       "      <td>0.977</td>\n",
       "      <td>0.962</td>\n",
       "      <td>0.028</td>\n",
       "      <td>0.085</td>\n",
       "      <td>0.976</td>\n",
       "      <td>0.931</td>\n",
       "      <td>0.35</td>\n",
       "      <td>0.931</td>\n",
       "      <td>0.023</td>\n",
       "      <td>0.976</td>\n",
       "    </tr>\n",
       "    <tr>\n",
       "      <th>1</th>\n",
       "      <td>kr-v5-model-training</td>\n",
       "      <td>non-geo-run-5-202409261620</td>\n",
       "      <td>system.ExperimentRun</td>\n",
       "      <td>COMPLETE</td>\n",
       "      <td>\\n                                y_train: ...</td>\n",
       "      <td>['cosine_name_stop', 'jaro_winkler_name', 'jar...</td>\n",
       "      <td>non-geo</td>\n",
       "      <td>f1_score</td>\n",
       "      <td>{'n_estimators': array([170, 195, 220, 245]), ...</td>\n",
       "      <td>0.947</td>\n",
       "      <td>0.979</td>\n",
       "      <td>0.978</td>\n",
       "      <td>0.000</td>\n",
       "      <td>0.074</td>\n",
       "      <td>0.976</td>\n",
       "      <td>0.918</td>\n",
       "      <td>0.15</td>\n",
       "      <td>0.934</td>\n",
       "      <td>0.030</td>\n",
       "      <td>0.976</td>\n",
       "    </tr>\n",
       "  </tbody>\n",
       "</table>\n",
       "</div>"
      ],
      "text/plain": [
       "        experiment_name                    run_name              run_type  \\\n",
       "0  kr-v5-model-training  non-geo-run-6-202409261633  system.ExperimentRun   \n",
       "1  kr-v5-model-training  non-geo-run-5-202409261620  system.ExperimentRun   \n",
       "\n",
       "      state                           param.label_distribution  \\\n",
       "0  COMPLETE     \\n                                y_train: ...   \n",
       "1  COMPLETE     \\n                                y_train: ...   \n",
       "\n",
       "                                param.model_features param.model_type  \\\n",
       "0  ['cosine_name_stop', 'jaro_winkler_name', 'jar...          non-geo   \n",
       "1  ['cosine_name_stop', 'jaro_winkler_name', 'jar...          non-geo   \n",
       "\n",
       "  param.scoring_type                               param.grid_cv_params  \\\n",
       "0           f1_score  {'n_estimators': array([ 50,  75, 100, 125]), ...   \n",
       "1           f1_score  {'n_estimators': array([170, 195, 220, 245]), ...   \n",
       "\n",
       "   metric.f1_score  metric.precision  metric.f2_score  metric.fnr  \\\n",
       "0            0.946             0.977            0.962       0.028   \n",
       "1            0.947             0.979            0.978       0.000   \n",
       "\n",
       "   metric.logloss  metric.recall  metric.f0_5score  metric.threshold  \\\n",
       "0           0.085          0.976             0.931              0.35   \n",
       "1           0.074          0.976             0.918              0.15   \n",
       "\n",
       "   metric.mcc_score  metric.fpr  metric.accuracy  \n",
       "0             0.931       0.023            0.976  \n",
       "1             0.934       0.030            0.976  "
      ]
     },
     "execution_count": 56,
     "metadata": {},
     "output_type": "execute_result"
    }
   ],
   "source": [
    "\n",
    "from google.cloud import aiplatform as vertex_ai\n",
    "\n",
    "REGION = \"us-central1\"\n",
    "EXPERIMENT_NAME = \"kr-v5-model-training\"\n",
    "\n",
    "vertex_ai.init(\n",
    "        project=\"dh-global-sales-data-dev\",\n",
    "        location=REGION,\n",
    "        experiment=EXPERIMENT_NAME,\n",
    "        experiment_description=\"Experiment for training matching model\",\n",
    "    )\n",
    "\n",
    "experiment_df = vertex_ai.get_experiment_df()\n",
    "experiment_df.head(2)"
   ]
  },
  {
   "cell_type": "code",
   "execution_count": 57,
   "id": "8cb399a0-c57e-43c8-bf2a-2bbe19aee8b1",
   "metadata": {
    "tags": []
   },
   "outputs": [
    {
     "data": {
      "text/plain": [
       "Index(['experiment_name', 'run_name', 'run_type', 'state',\n",
       "       'param.label_distribution', 'param.model_features', 'param.model_type',\n",
       "       'param.scoring_type', 'param.grid_cv_params', 'metric.f1_score',\n",
       "       'metric.precision', 'metric.f2_score', 'metric.fnr', 'metric.logloss',\n",
       "       'metric.recall', 'metric.f0_5score', 'metric.threshold',\n",
       "       'metric.mcc_score', 'metric.fpr', 'metric.accuracy'],\n",
       "      dtype='object')"
      ]
     },
     "execution_count": 57,
     "metadata": {},
     "output_type": "execute_result"
    }
   ],
   "source": [
    "experiment_df.columns"
   ]
  },
  {
   "cell_type": "code",
   "execution_count": 6,
   "id": "204cdbc6-fd94-4511-9e53-f9aa00fd1c12",
   "metadata": {
    "tags": []
   },
   "outputs": [
    {
     "data": {
      "text/plain": [
       "'/Users/a.mandal/software/gsd-match-vertex/match_core/match/achilles/training/conf/model_setup.yaml'"
      ]
     },
     "execution_count": 6,
     "metadata": {},
     "output_type": "execute_result"
    }
   ],
   "source": [
    "import os\n",
    "os.getcwd()\n",
    "root = '/Users/a.mandal/software/gsd-match-vertex/match_core/match/'\n",
    "config_path = root + 'achilles/training/conf/model_setup.yaml'\n",
    "config_path"
   ]
  },
  {
   "cell_type": "code",
   "execution_count": 7,
   "id": "d6f7b769-02b9-4122-b97e-a8d965bdf075",
   "metadata": {
    "tags": []
   },
   "outputs": [],
   "source": [
    "from omegaconf import OmegaConf\n",
    "params = OmegaConf.load(config_path)\n",
    "vertex_params = params.get(\"vertex_params\", \"NA\")\n",
    "model_catalogue = params.get(\"model_catalogue\", \"NA\")\n",
    "data_params = params.get(\"data_params\", \"NA\")\n",
    "MODEL_SOURCE = model_catalogue.MODEL_SOURCE"
   ]
  },
  {
   "cell_type": "code",
   "execution_count": 18,
   "id": "12f4b238-5e3e-48bd-8a5c-faf08d4c0b46",
   "metadata": {
    "tags": []
   },
   "outputs": [
    {
     "name": "stdout",
     "output_type": "stream",
     "text": [
      "KR\n",
      "5_1\n"
     ]
    }
   ],
   "source": [
    "print(model_catalogue.GEO_MODEL.model_id)\n",
    "print(model_catalogue.GEO_MODEL.model_version)"
   ]
  },
  {
   "cell_type": "code",
   "execution_count": 19,
   "id": "2ce0fe3a-bfc8-4d91-8b92-c9eea1926c8d",
   "metadata": {
    "tags": []
   },
   "outputs": [
    {
     "name": "stdout",
     "output_type": "stream",
     "text": [
      "Downloading: |\u001b[32m                                                                 \u001b[0m|\u001b[0m\n"
     ]
    },
    {
     "data": {
      "text/html": [
       "<div>\n",
       "<style scoped>\n",
       "    .dataframe tbody tr th:only-of-type {\n",
       "        vertical-align: middle;\n",
       "    }\n",
       "\n",
       "    .dataframe tbody tr th {\n",
       "        vertical-align: top;\n",
       "    }\n",
       "\n",
       "    .dataframe thead th {\n",
       "        text-align: right;\n",
       "    }\n",
       "</style>\n",
       "<table border=\"1\" class=\"dataframe\">\n",
       "  <thead>\n",
       "    <tr style=\"text-align: right;\">\n",
       "      <th></th>\n",
       "      <th>model_type</th>\n",
       "      <th>model_name</th>\n",
       "      <th>model_version</th>\n",
       "      <th>features</th>\n",
       "      <th>threshold</th>\n",
       "      <th>date_modified</th>\n",
       "      <th>model_source</th>\n",
       "    </tr>\n",
       "  </thead>\n",
       "  <tbody>\n",
       "  </tbody>\n",
       "</table>\n",
       "</div>"
      ],
      "text/plain": [
       "Empty DataFrame\n",
       "Columns: [model_type, model_name, model_version, features, threshold, date_modified, model_source]\n",
       "Index: []"
      ]
     },
     "execution_count": 19,
     "metadata": {},
     "output_type": "execute_result"
    }
   ],
   "source": [
    "# ###### MODEL CATALOGUE ######\n",
    "import pandas_gbq\n",
    "project_id_dev = \"dh-global-sales-data-dev\"\n",
    "\n",
    "query = f\"\"\" SELECT *\n",
    "    FROM `{project_id_dev}.{model_catalogue.CATALOGUE_GBQ_LOCATION}`\n",
    "    WHERE model_name = \"{model_catalogue.GEO_MODEL.model_id}\" and\n",
    "        model_version = \"{model_catalogue.GEO_MODEL.model_version}\"\n",
    "\"\"\"\n",
    "model_details = pandas_gbq.read_gbq(query, project_id=project_id_dev)\n",
    "model_details"
   ]
  },
  {
   "cell_type": "code",
   "execution_count": null,
   "id": "46b78e56-b884-470e-b807-68e2735fdb5e",
   "metadata": {},
   "outputs": [],
   "source": []
  },
  {
   "cell_type": "code",
   "execution_count": null,
   "id": "ac9a0897-688d-41ab-a3ce-7c3581b2277e",
   "metadata": {},
   "outputs": [],
   "source": []
  },
  {
   "cell_type": "code",
   "execution_count": 58,
   "id": "2cd6317f-ac72-4ffe-9190-58849497db10",
   "metadata": {
    "tags": []
   },
   "outputs": [],
   "source": [
    "RUN_NAME_GEO = \"geo-run-8-202409261501\"\n",
    "RUN_NAME_NON_GEO = \"non-geo-run-6-202409261633\"\n",
    "\n",
    "geo_results = experiment_df.query(\"run_name == @RUN_NAME_GEO\")\n",
    "non_geo_results = experiment_df.query(\"run_name == @RUN_NAME_NON_GEO\")"
   ]
  },
  {
   "cell_type": "code",
   "execution_count": 59,
   "id": "29fb1886-ff30-423a-b7e5-62492f3a9a77",
   "metadata": {
    "tags": []
   },
   "outputs": [
    {
     "data": {
      "text/html": [
       "<div>\n",
       "<style scoped>\n",
       "    .dataframe tbody tr th:only-of-type {\n",
       "        vertical-align: middle;\n",
       "    }\n",
       "\n",
       "    .dataframe tbody tr th {\n",
       "        vertical-align: top;\n",
       "    }\n",
       "\n",
       "    .dataframe thead th {\n",
       "        text-align: right;\n",
       "    }\n",
       "</style>\n",
       "<table border=\"1\" class=\"dataframe\">\n",
       "  <thead>\n",
       "    <tr style=\"text-align: right;\">\n",
       "      <th></th>\n",
       "      <th>3</th>\n",
       "    </tr>\n",
       "  </thead>\n",
       "  <tbody>\n",
       "    <tr>\n",
       "      <th>param.label_distribution</th>\n",
       "      <td>\\n                                y_train: ...</td>\n",
       "    </tr>\n",
       "    <tr>\n",
       "      <th>metric.precision</th>\n",
       "      <td>0.982</td>\n",
       "    </tr>\n",
       "    <tr>\n",
       "      <th>metric.recall</th>\n",
       "      <td>0.982</td>\n",
       "    </tr>\n",
       "    <tr>\n",
       "      <th>metric.fnr</th>\n",
       "      <td>0.019</td>\n",
       "    </tr>\n",
       "    <tr>\n",
       "      <th>metric.fpr</th>\n",
       "      <td>0.018</td>\n",
       "    </tr>\n",
       "    <tr>\n",
       "      <th>metric.f0_5score</th>\n",
       "      <td>0.981</td>\n",
       "    </tr>\n",
       "    <tr>\n",
       "      <th>metric.f1_score</th>\n",
       "      <td>0.981</td>\n",
       "    </tr>\n",
       "  </tbody>\n",
       "</table>\n",
       "</div>"
      ],
      "text/plain": [
       "                                                                          3\n",
       "param.label_distribution     \\n                                y_train: ...\n",
       "metric.precision                                                      0.982\n",
       "metric.recall                                                         0.982\n",
       "metric.fnr                                                            0.019\n",
       "metric.fpr                                                            0.018\n",
       "metric.f0_5score                                                      0.981\n",
       "metric.f1_score                                                       0.981"
      ]
     },
     "execution_count": 59,
     "metadata": {},
     "output_type": "execute_result"
    }
   ],
   "source": [
    "\n",
    "cols_metrics = [\"param.label_distribution\",\"metric.precision\",'metric.recall','metric.fnr', 'metric.fpr', 'metric.f0_5score','metric.f1_score']\n",
    "geo_results[cols_metrics].transpose()"
   ]
  },
  {
   "cell_type": "code",
   "execution_count": 61,
   "id": "75cbc184-7ad5-44bd-90af-309493802a30",
   "metadata": {
    "tags": []
   },
   "outputs": [
    {
     "data": {
      "text/html": [
       "<div>\n",
       "<style scoped>\n",
       "    .dataframe tbody tr th:only-of-type {\n",
       "        vertical-align: middle;\n",
       "    }\n",
       "\n",
       "    .dataframe tbody tr th {\n",
       "        vertical-align: top;\n",
       "    }\n",
       "\n",
       "    .dataframe thead th {\n",
       "        text-align: right;\n",
       "    }\n",
       "</style>\n",
       "<table border=\"1\" class=\"dataframe\">\n",
       "  <thead>\n",
       "    <tr style=\"text-align: right;\">\n",
       "      <th></th>\n",
       "      <th>0</th>\n",
       "    </tr>\n",
       "  </thead>\n",
       "  <tbody>\n",
       "    <tr>\n",
       "      <th>param.label_distribution</th>\n",
       "      <td>\\n                                y_train: ...</td>\n",
       "    </tr>\n",
       "    <tr>\n",
       "      <th>metric.precision</th>\n",
       "      <td>0.977</td>\n",
       "    </tr>\n",
       "    <tr>\n",
       "      <th>metric.recall</th>\n",
       "      <td>0.976</td>\n",
       "    </tr>\n",
       "    <tr>\n",
       "      <th>metric.fnr</th>\n",
       "      <td>0.028</td>\n",
       "    </tr>\n",
       "    <tr>\n",
       "      <th>metric.fpr</th>\n",
       "      <td>0.023</td>\n",
       "    </tr>\n",
       "    <tr>\n",
       "      <th>metric.f0_5score</th>\n",
       "      <td>0.931</td>\n",
       "    </tr>\n",
       "    <tr>\n",
       "      <th>metric.f1_score</th>\n",
       "      <td>0.946</td>\n",
       "    </tr>\n",
       "  </tbody>\n",
       "</table>\n",
       "</div>"
      ],
      "text/plain": [
       "                                                                          0\n",
       "param.label_distribution     \\n                                y_train: ...\n",
       "metric.precision                                                      0.977\n",
       "metric.recall                                                         0.976\n",
       "metric.fnr                                                            0.028\n",
       "metric.fpr                                                            0.023\n",
       "metric.f0_5score                                                      0.931\n",
       "metric.f1_score                                                       0.946"
      ]
     },
     "execution_count": 61,
     "metadata": {},
     "output_type": "execute_result"
    }
   ],
   "source": [
    "non_geo_results[cols_metrics].transpose()"
   ]
  },
  {
   "cell_type": "code",
   "execution_count": null,
   "id": "1712e8a5-16ed-470a-8761-0d68ef1e492a",
   "metadata": {},
   "outputs": [],
   "source": []
  },
  {
   "cell_type": "code",
   "execution_count": null,
   "id": "b04e9554-9784-48f8-a261-177eed01bec4",
   "metadata": {},
   "outputs": [],
   "source": []
  },
  {
   "cell_type": "markdown",
   "id": "20a1afa8-1c0e-4e9e-94f2-ebb10cdd22a2",
   "metadata": {},
   "source": [
    "## String Preprocess"
   ]
  },
  {
   "cell_type": "code",
   "execution_count": 12,
   "id": "730a08d9-6a49-448f-ba51-9f7bb456f8f4",
   "metadata": {
    "tags": []
   },
   "outputs": [
    {
     "name": "stdout",
     "output_type": "stream",
     "text": [
      "                        Name                                   Address  \\\n",
      "0  Restaurant Schütz Hamburg                     Pointgasse 2, Hamburg   \n",
      "1      Bierfink berlin mitte  Friedrich Kaiserstraße 69, mitte, berlin   \n",
      "\n",
      "        Cleaned_Name  \n",
      "0  Restaurant Schütz  \n",
      "1           Bierfink  \n"
     ]
    }
   ],
   "source": [
    "import pandas as pd\n",
    "import re\n",
    "\n",
    "# Sample DataFrame\n",
    "data = {\n",
    "    'Name': ['Restaurant Schütz Hamburg', 'Bierfink berlin mitte'],\n",
    "    'Address': ['Pointgasse 2, Hamburg', 'Friedrich Kaiserstraße 69, mitte, berlin']\n",
    "}\n",
    "df = pd.DataFrame(data)\n",
    "\n",
    "# Function to create a regex pattern from the address tokens\n",
    "def create_pattern(address):\n",
    "    # Extract tokens from the address\n",
    "    address_tokens = re.split(r'\\W+', address)\n",
    "    # Create a regex pattern to match any of the tokens\n",
    "    pattern = r'\\b(?:' + '|'.join(re.escape(token) for token in address_tokens if token) + r')\\b'\n",
    "    return pattern\n",
    "\n",
    "# Apply the function to create patterns for each address\n",
    "df['Pattern'] = df['Address'].apply(create_pattern)\n",
    "\n",
    "# Function to clean the name using the pattern\n",
    "def clean_name(name, pattern):\n",
    "    # Remove tokens from the name if they exist\n",
    "    cleaned_name = re.sub(pattern, '', name)\n",
    "    # Clean up extra spaces\n",
    "    cleaned_name = re.sub(r'\\s+', ' ', cleaned_name).strip()\n",
    "    return cleaned_name\n",
    "\n",
    "# Apply the clean_name function using the patterns\n",
    "df['Cleaned_Name'] = df.apply(lambda row: clean_name(row['Name'], row['Pattern']), axis=1)\n",
    "\n",
    "# Drop the temporary 'Pattern' column\n",
    "df.drop(columns=['Pattern'], inplace=True)\n",
    "\n",
    "# Display the updated DataFrame\n",
    "print(df)\n",
    "\n",
    "\n"
   ]
  },
  {
   "cell_type": "code",
   "execution_count": null,
   "id": "69ab03b0-735a-4deb-9881-e9f08463cec3",
   "metadata": {},
   "outputs": [],
   "source": []
  },
  {
   "cell_type": "code",
   "execution_count": 21,
   "id": "9daa50ee-783f-467c-be41-8f279d710787",
   "metadata": {
    "tags": []
   },
   "outputs": [
    {
     "name": "stdout",
     "output_type": "stream",
     "text": [
      "                          name                                   address  \\\n",
      "0  Restaurant Schütz (Hamburg)                     Pointgasse 2, Hamburg   \n",
      "1        Bierfink berlin mitte  Friedrich Kaiserstraße 69, mitte, berlin   \n",
      "\n",
      "           Cleaned_Name  \n",
      "0  Restaurant Schütz ()  \n",
      "1              Bierfink  \n"
     ]
    }
   ],
   "source": [
    "import pandas as pd\n",
    "import re\n",
    "\n",
    "# Sample DataFrame\n",
    "data = {\n",
    "    'name': ['Restaurant Schütz (Hamburg)', 'Bierfink berlin mitte'],\n",
    "    'address': ['Pointgasse 2, Hamburg', 'Friedrich Kaiserstraße 69, mitte, berlin']\n",
    "}\n",
    "df = pd.DataFrame(data)\n",
    "\n",
    "# Function to clean the name using the address\n",
    "def clean_name(name, address):\n",
    "    # Extract tokens from the address\n",
    "    address_tokens = re.split(r'\\W+', address)\n",
    "    # Create a regex pattern to match any of the tokens\n",
    "    pattern = r'\\b(?:' + '|'.join(re.escape(token) for token in address_tokens if token) + r')\\b'\n",
    "    # Remove tokens from the name if they exist\n",
    "    cleaned_name = re.sub(pattern, '', name)\n",
    "    # Clean up extra spaces\n",
    "    cleaned_name = re.sub(r'\\s+', ' ', cleaned_name).strip()\n",
    "    # print(111)\n",
    "    # print(cleaned_name)\n",
    "    return cleaned_name\n",
    "\n",
    "# Apply the clean_name function using vectorized operations\n",
    "df['Cleaned_Name'] = df.apply(lambda row: clean_name(row['name'], row['address']), axis=1)\n",
    "\n",
    "# Display the updated DataFrame\n",
    "print(df)"
   ]
  },
  {
   "cell_type": "code",
   "execution_count": null,
   "id": "6b06d108-e9c0-4b58-b0ba-d42c26795f6c",
   "metadata": {},
   "outputs": [],
   "source": []
  },
  {
   "cell_type": "code",
   "execution_count": 32,
   "id": "83abd814-012c-4339-8e6f-4ea041f75735",
   "metadata": {
    "tags": []
   },
   "outputs": [],
   "source": [
    "del(df)"
   ]
  },
  {
   "cell_type": "code",
   "execution_count": 46,
   "id": "2e721f0b-36d7-4734-9776-eab5e2fe9df6",
   "metadata": {
    "tags": []
   },
   "outputs": [
    {
     "name": "stdout",
     "output_type": "stream",
     "text": [
      "(0, 18)\n"
     ]
    },
    {
     "data": {
      "text/html": [
       "<div>\n",
       "<style scoped>\n",
       "    .dataframe tbody tr th:only-of-type {\n",
       "        vertical-align: middle;\n",
       "    }\n",
       "\n",
       "    .dataframe tbody tr th {\n",
       "        vertical-align: top;\n",
       "    }\n",
       "\n",
       "    .dataframe thead th {\n",
       "        text-align: right;\n",
       "    }\n",
       "</style>\n",
       "<table border=\"1\" class=\"dataframe\">\n",
       "  <thead>\n",
       "    <tr style=\"text-align: right;\">\n",
       "      <th></th>\n",
       "      <th>Unnamed: 0</th>\n",
       "      <th>country_iso</th>\n",
       "      <th>row_id</th>\n",
       "      <th>name</th>\n",
       "      <th>name_local</th>\n",
       "      <th>name_legal</th>\n",
       "      <th>name_translated</th>\n",
       "      <th>street</th>\n",
       "      <th>street_translated</th>\n",
       "      <th>phone_number</th>\n",
       "      <th>lat</th>\n",
       "      <th>lng</th>\n",
       "      <th>city_lat</th>\n",
       "      <th>city_lng</th>\n",
       "      <th>vendor_id</th>\n",
       "      <th>lead_uuid</th>\n",
       "      <th>report_date</th>\n",
       "      <th>registration_number</th>\n",
       "    </tr>\n",
       "  </thead>\n",
       "  <tbody>\n",
       "  </tbody>\n",
       "</table>\n",
       "</div>"
      ],
      "text/plain": [
       "Empty DataFrame\n",
       "Columns: [Unnamed: 0, country_iso, row_id, name, name_local, name_legal, name_translated, street, street_translated, phone_number, lat, lng, city_lat, city_lng, vendor_id, lead_uuid, report_date, registration_number]\n",
       "Index: []"
      ]
     },
     "execution_count": 46,
     "metadata": {},
     "output_type": "execute_result"
    }
   ],
   "source": [
    "# df = pd.read_csv(\"non_empty_input_df.csv\")\n",
    "df = pd.read_csv(\"empty_input_df.csv\")\n",
    "print(df.shape)\n",
    "df.head(2)"
   ]
  },
  {
   "cell_type": "code",
   "execution_count": 49,
   "id": "02d8c6ef-66da-42e5-806f-d6c768234b1f",
   "metadata": {
    "tags": []
   },
   "outputs": [
    {
     "data": {
      "text/html": [
       "<div>\n",
       "<style scoped>\n",
       "    .dataframe tbody tr th:only-of-type {\n",
       "        vertical-align: middle;\n",
       "    }\n",
       "\n",
       "    .dataframe tbody tr th {\n",
       "        vertical-align: top;\n",
       "    }\n",
       "\n",
       "    .dataframe thead th {\n",
       "        text-align: right;\n",
       "    }\n",
       "</style>\n",
       "<table border=\"1\" class=\"dataframe\">\n",
       "  <thead>\n",
       "    <tr style=\"text-align: right;\">\n",
       "      <th></th>\n",
       "      <th>Unnamed: 0</th>\n",
       "      <th>country_iso</th>\n",
       "      <th>row_id</th>\n",
       "      <th>name</th>\n",
       "      <th>name_local</th>\n",
       "      <th>name_legal</th>\n",
       "      <th>name_translated</th>\n",
       "      <th>street</th>\n",
       "      <th>street_translated</th>\n",
       "      <th>phone_number</th>\n",
       "      <th>lat</th>\n",
       "      <th>lng</th>\n",
       "      <th>city_lat</th>\n",
       "      <th>city_lng</th>\n",
       "      <th>vendor_id</th>\n",
       "      <th>lead_uuid</th>\n",
       "      <th>report_date</th>\n",
       "      <th>registration_number</th>\n",
       "      <th>cleaned_Name</th>\n",
       "    </tr>\n",
       "  </thead>\n",
       "  <tbody>\n",
       "  </tbody>\n",
       "</table>\n",
       "</div>"
      ],
      "text/plain": [
       "Empty DataFrame\n",
       "Columns: [Unnamed: 0, country_iso, row_id, name, name_local, name_legal, name_translated, street, street_translated, phone_number, lat, lng, city_lat, city_lng, vendor_id, lead_uuid, report_date, registration_number, cleaned_Name]\n",
       "Index: []"
      ]
     },
     "execution_count": 49,
     "metadata": {},
     "output_type": "execute_result"
    }
   ],
   "source": [
    "\n",
    "# df.head().apply(lambda row: clean_name(row['name'], row['street']), axis=1, result_type='reduce')\n",
    "\n",
    "df['cleaned_Name'] = df.apply(lambda row: clean_name(row['name'], row['street']), axis=1, result_type='reduce').astype(str)\n",
    "df.head()"
   ]
  },
  {
   "cell_type": "code",
   "execution_count": 50,
   "id": "f86b312c-c34a-44a7-a500-61d051928503",
   "metadata": {
    "tags": []
   },
   "outputs": [
    {
     "name": "stdout",
     "output_type": "stream",
     "text": [
      "<class 'pandas.core.frame.DataFrame'>\n",
      "Index: 0 entries\n",
      "Data columns (total 19 columns):\n",
      " #   Column               Non-Null Count  Dtype \n",
      "---  ------               --------------  ----- \n",
      " 0   Unnamed: 0           0 non-null      object\n",
      " 1   country_iso          0 non-null      object\n",
      " 2   row_id               0 non-null      object\n",
      " 3   name                 0 non-null      object\n",
      " 4   name_local           0 non-null      object\n",
      " 5   name_legal           0 non-null      object\n",
      " 6   name_translated      0 non-null      object\n",
      " 7   street               0 non-null      object\n",
      " 8   street_translated    0 non-null      object\n",
      " 9   phone_number         0 non-null      object\n",
      " 10  lat                  0 non-null      object\n",
      " 11  lng                  0 non-null      object\n",
      " 12  city_lat             0 non-null      object\n",
      " 13  city_lng             0 non-null      object\n",
      " 14  vendor_id            0 non-null      object\n",
      " 15  lead_uuid            0 non-null      object\n",
      " 16  report_date          0 non-null      object\n",
      " 17  registration_number  0 non-null      object\n",
      " 18  cleaned_Name         0 non-null      object\n",
      "dtypes: object(19)\n",
      "memory usage: 0.0+ bytes\n"
     ]
    }
   ],
   "source": [
    "df.info()"
   ]
  },
  {
   "cell_type": "code",
   "execution_count": null,
   "id": "1c4a71ad-a0cc-44db-9d0d-85a7ce573af1",
   "metadata": {},
   "outputs": [],
   "source": []
  },
  {
   "cell_type": "code",
   "execution_count": 15,
   "id": "d7c7cb47-6627-4c82-8cc4-63169be83814",
   "metadata": {
    "tags": []
   },
   "outputs": [
    {
     "data": {
      "text/plain": [
       "'dh-global-sales-data-dev.leadgen_cl.vendor_complete'"
      ]
     },
     "execution_count": 15,
     "metadata": {},
     "output_type": "execute_result"
    }
   ],
   "source": [
    "from match.achilles.config import AchillesConfig\n",
    "\n",
    "conf = AchillesConfig(\"\",\"\")\n",
    "\n",
    "conf.get_vendors_data_table()"
   ]
  },
  {
   "cell_type": "code",
   "execution_count": 38,
   "id": "fa999db1-8aaa-4cee-8908-8dac5b476b1b",
   "metadata": {
    "tags": []
   },
   "outputs": [
    {
     "name": "stdout",
     "output_type": "stream",
     "text": [
      "1kg jeongseongdameun jug sinjejujeom\n",
      "1kg jeongseongdameunjug sinjejujeom\n"
     ]
    }
   ],
   "source": [
    "from unidecode import unidecode\n",
    "str1 = \"1kg 정성담은 죽 신제주점\"\n",
    "str2 = \"1kg 정성담은죽 신제주점\"\n",
    "\n",
    "print(unidecode(str1))\n",
    "print(unidecode(str2))"
   ]
  },
  {
   "cell_type": "code",
   "execution_count": null,
   "id": "705ad471-6d98-4fdc-ace5-16910e815e25",
   "metadata": {},
   "outputs": [],
   "source": []
  },
  {
   "cell_type": "code",
   "execution_count": 5,
   "id": "157408b7-0e70-4801-b27c-529e3e82ae36",
   "metadata": {
    "scrolled": true,
    "tags": []
   },
   "outputs": [
    {
     "name": "stdout",
     "output_type": "stream",
     "text": [
      "Rev str1: \t여수죽림점 이차돌 \n",
      "length1:\t9\n",
      "Rev str2: \t이차돌여수죽림점 \n",
      "length2:\t8\n",
      "Jaro: \t \t97.4074074074074\n",
      "Jaro reversed: \t72.68518518518518\n"
     ]
    },
    {
     "name": "stderr",
     "output_type": "stream",
     "text": [
      "/var/folders/v2/gm8dwb2x6zxf_5zjljnwz7yjc9yj1q/T/ipykernel_87193/2884509040.py:24: DeprecationWarning: This function will be remove in v3.0.0. Use rapidfuzz.distance.JaroWinkler.similarity instead.\n",
      "  print(f\"Jaro: \\t \\t{jaro_winkler_similarity(str1,str2)}\")\n",
      "/var/folders/v2/gm8dwb2x6zxf_5zjljnwz7yjc9yj1q/T/ipykernel_87193/2884509040.py:25: DeprecationWarning: This function will be remove in v3.0.0. Use rapidfuzz.distance.JaroWinkler.similarity instead.\n",
      "  print(f\"Jaro reversed: \\t{jaro_winkler_similarity(rev_str1,rev_str2)}\")\n"
     ]
    }
   ],
   "source": [
    "from rapidfuzz.string_metric import (\n",
    "    jaro_winkler_similarity,\n",
    "     normalized_levenshtein,\n",
    "    levenshtein)\n",
    "\n",
    "\n",
    "# str1 = \"No. 10, Section 2\"\n",
    "# str2 = \"No. 10\"\n",
    "\n",
    "# str1 = \"10\"\n",
    "# str2 = \"10 2\"\n",
    "\n",
    "str1 = \"이차돌 여수죽림점\"\n",
    "str2 = \"이차돌여수죽림점\"\n",
    "\n",
    "# str1 = \"台式雲吞麵 8隻\"\n",
    "# str2 = \"台式雲吞麵 8隻 taiwanese wonton noodles 8pcs\"\n",
    "rev_str1 = \" \".join(str1.split()[::-1])\n",
    "rev_str2 = \" \".join(str2.split()[::-1])\n",
    "\n",
    "print(f\"Rev str1: \\t{rev_str1} \\nlength1:\\t{len(rev_str1)}\")\n",
    "print(f\"Rev str2: \\t{rev_str2} \\nlength2:\\t{len(rev_str2)}\")\n",
    "\n",
    "print(f\"Jaro: \\t \\t{jaro_winkler_similarity(str1,str2)}\")\n",
    "print(f\"Jaro reversed: \\t{jaro_winkler_similarity(rev_str1,rev_str2)}\")\n",
    "\n",
    "# print(f\"Norm Levenshtein: {normalized_levenshtein(str1,str2)}\")\n",
    "# print(f\"Levenshtein: \\t {levenshtein(str1,str2)}\")"
   ]
  },
  {
   "cell_type": "code",
   "execution_count": 1,
   "id": "e3808c2d-ba63-4615-929e-131df60ffe46",
   "metadata": {
    "scrolled": true,
    "tags": []
   },
   "outputs": [],
   "source": [
    "from rapidfuzz.fuzz import WRatio, token_set_ratio, token_sort_ratio\n",
    "import rapidfuzz.distance.JaroWinkler as jw_similarity\n",
    "from unidecode import unidecode\n",
    "\n",
    "from rapidfuzz.string_metric import (\n",
    "    # jaro_winkler_similarity,\n",
    "     normalized_levenshtein,\n",
    "    levenshtein)\n",
    "\n",
    "from rapidfuzz.distance.Levenshtein import distance, normalized_distance, normalized_similarity\n",
    "\n",
    "def print_scores(str1, str2):\n",
    "    print(f\"Wratio: \\t \\t \\t {WRatio(str1,str2)}\")\n",
    "    print(f\"Jaro: \\t \\t \\t \\t {jw_similarity.similarity (str1,str2)*100}\")\n",
    "    print(f\"tokenset: \\t\\t \\t {token_set_ratio(str1,str2)}\")\n",
    "    print(f\"tokensort: \\t \\t \\t {token_sort_ratio(str1,str2)}\")\n",
    "    print(f\"leven dist: \\t \\t \\t {distance(str1, str2)}\")\n",
    "    print(f\"norm dist: \\t \\t \\t {normalized_distance(str1, str2)}\")\n",
    "    print(f\"norm similarity: \\t \\t {normalized_similarity(str1, str2)}\")\n",
    "    \n",
    "    print(\"\\n\")\n",
    "\n"
   ]
  },
  {
   "cell_type": "code",
   "execution_count": 7,
   "id": "36ce77fe-de07-4b95-bfa6-c4a97fe54dcf",
   "metadata": {
    "scrolled": true,
    "tags": []
   },
   "outputs": [
    {
     "name": "stdout",
     "output_type": "stream",
     "text": [
      "Wratio: \t \t \t 90.0\n",
      "Jaro: \t \t \t \t 91.57894736842105\n",
      "tokenset: \t\t \t 100.0\n",
      "tokensort: \t \t \t 78.57142857142857\n",
      "leven dist: \t \t \t 8\n",
      "norm dist: \t \t \t 0.42105263157894735\n",
      "norm similarity: \t \t 0.5789473684210527\n",
      "\n",
      "\n"
     ]
    }
   ],
   "source": [
    "str1 = \"Burger King\"\n",
    "str2 = \"Burger King & Pizza\"\n",
    "print_scores(str1, str2)\n"
   ]
  },
  {
   "cell_type": "code",
   "execution_count": 6,
   "id": "dc9f4074-d388-40b8-956a-63afd8d93844",
   "metadata": {
    "tags": []
   },
   "outputs": [
    {
     "name": "stdout",
     "output_type": "stream",
     "text": [
      "Wratio: \t \t \t 85.5\n",
      "Jaro: \t \t \t \t 82.16450216450217\n",
      "tokenset: \t\t \t 70.58823529411765\n",
      "tokensort: \t \t \t 53.333333333333336\n",
      "leven dist: \t \t \t 13\n",
      "norm dist: \t \t \t 0.6190476190476191\n",
      "norm similarity: \t \t 0.38095238095238093\n",
      "\n",
      "\n"
     ]
    }
   ],
   "source": [
    "str1 = \"Burger King\"\n",
    "str2 = \"Burger Zimmer & Pizza\"\n",
    "print_scores(str1, str2)\n"
   ]
  },
  {
   "cell_type": "code",
   "execution_count": 8,
   "id": "c664cb1b-9a27-4d63-9925-cd44334cbe09",
   "metadata": {
    "scrolled": true,
    "tags": []
   },
   "outputs": [
    {
     "name": "stdout",
     "output_type": "stream",
     "text": [
      "Wratio: \t \t \t 85.5\n",
      "Jaro: \t \t \t \t 49.75468975468975\n",
      "tokenset: \t\t \t 70.58823529411765\n",
      "tokensort: \t \t \t 53.333333333333336\n",
      "leven dist: \t \t \t 13\n",
      "norm dist: \t \t \t 0.6190476190476191\n",
      "norm similarity: \t \t 0.38095238095238093\n",
      "\n",
      "\n"
     ]
    }
   ],
   "source": [
    "str1 = \"King Burger\"\n",
    "str2 = \"Pizza & Zimmer Burger\"\n",
    "print_scores(str1, str2)\n"
   ]
  },
  {
   "cell_type": "code",
   "execution_count": 54,
   "id": "b44d6af8-456e-4104-a922-05ebc4ef7741",
   "metadata": {
    "tags": []
   },
   "outputs": [
    {
     "name": "stdout",
     "output_type": "stream",
     "text": [
      "Wratio: \t \t \t 32.727272727272734\n",
      "Jaro: \t \t \t \t 38.45238095238095\n",
      "tokenset: \t\t \t 10.526315789473685\n",
      "tokensort: \t \t \t 10.526315789473683\n",
      "leven dist: \t \t \t 33\n",
      "norm dist: \t \t \t 0.9428571428571428\n",
      "norm similarity: \t \t 0.05714285714285716\n",
      "\n",
      "\n",
      "weon geuraendeuma napa raebseu, dwaejigogi & dwaeji bal - mia yeog jijeom\n",
      "\n",
      " norangtongdalg sasangjeom \n",
      "\n",
      "Wratio: \t \t \t 37.89473684210526\n",
      "Jaro: \t \t \t \t 53.30737803412641\n",
      "tokenset: \t\t \t 27.956989247311824\n",
      "tokensort: \t \t \t 27.956989247311824\n",
      "leven dist: \t \t \t 57\n",
      "norm dist: \t \t \t 0.7808219178082192\n",
      "norm similarity: \t \t 0.2191780821917808\n",
      "\n",
      "\n"
     ]
    }
   ],
   "source": [
    "str1 = \"원 그랜드마 나파 랩스, 돼지고기 & 돼지 발 - 미아 역 지점\"\n",
    "str2 = \"노랑통닭 사상점\"\n",
    "print_scores(str1, str2)\n",
    "\n",
    "str1 = unidecode(str1)\n",
    "str2 = unidecode(str2)\n",
    "print(str1)\n",
    "print(\"\\n\",str2,\"\\n\")\n",
    "\n",
    "print_scores(str1, str2)"
   ]
  },
  {
   "cell_type": "code",
   "execution_count": null,
   "id": "2b44bc00-309f-4511-88eb-ff4e4a35110a",
   "metadata": {},
   "outputs": [],
   "source": []
  },
  {
   "cell_type": "code",
   "execution_count": 29,
   "id": "05ab9077-9163-41c7-a6b0-4f278c076357",
   "metadata": {
    "tags": []
   },
   "outputs": [
    {
     "name": "stdout",
     "output_type": "stream",
     "text": [
      "Wratio: \t \t \t 66.66666666666667\n",
      "Jaro: \t \t \t \t 78.70370370370371\n",
      "tokenset: \t\t \t 42.10526315789474\n",
      "tokensort: \t \t \t 42.10526315789473\n",
      "leven dist: \t \t \t 5\n",
      "norm dist: \t \t \t 0.4166666666666667\n",
      "norm similarity: \t \t 0.5833333333333333\n",
      "\n",
      "\n",
      "Wratio: \t \t \t 84.0\n",
      "Jaro: \t \t \t \t 89.69404186795491\n",
      "tokenset: \t\t \t 66.66666666666666\n",
      "tokensort: \t \t \t 66.66666666666667\n",
      "leven dist: \t \t \t 6\n",
      "norm dist: \t \t \t 0.2222222222222222\n",
      "norm similarity: \t \t 0.7777777777777778\n",
      "\n",
      "\n"
     ]
    }
   ],
   "source": [
    "str1 = \"이차돌 여수죽림점\"\n",
    "str2 = \"2차돌 - 여수 중림점\"\n",
    "print_scores(str1, str2)\n",
    "\n",
    "str1 = \"2chadol - yeosu jungrimjeom\"\n",
    "str2 = \"ichadol yeosujukrimjeom\"\n",
    "print_scores(str1, str2)"
   ]
  },
  {
   "cell_type": "code",
   "execution_count": 55,
   "id": "469a2d41-1d5f-4133-adfd-100489085312",
   "metadata": {
    "tags": []
   },
   "outputs": [
    {
     "name": "stdout",
     "output_type": "stream",
     "text": [
      "Table dh-global-sales-data-dev.leadgen_sf_match_vertex_cl.leadgen_sf_match_BM_KR copied to dh-global-sales-data-dev.leadgen_sf_match_vertex_cl.leadgen_sf_match_BM_KR_v5_1_less_threshold\n"
     ]
    }
   ],
   "source": [
    "from google.cloud import bigquery\n",
    "\n",
    "def copy_table(source_table_id, destination_table_id):\n",
    "    \"\"\"Copies a table using the Google Cloud BigQuery client library.\n",
    "\n",
    "    Args:\n",
    "        source_table_id: Full ID of the source table in the format 'project.dataset.table'.\n",
    "        destination_table_id: Full ID of the destination table in the format 'project.dataset.table'.\n",
    "    \"\"\"\n",
    "\n",
    "    client = bigquery.Client()\n",
    "\n",
    "    # Construct full table references\n",
    "    source_table_ref = client.dataset(source_table_id.split('.')[1]).table(source_table_id.split('.')[2])\n",
    "    destination_table_ref = client.dataset(destination_table_id.split('.')[1]).table(destination_table_id.split('.')[2])\n",
    "\n",
    "    # Create a copy job configuration\n",
    "    job_config = bigquery.CopyJobConfig()\n",
    "    job_config.write_disposition = bigquery.WriteDisposition.WRITE_TRUNCATE  # Overwrite destination table\n",
    "\n",
    "    # Start the copy job\n",
    "    job = client.copy_table(source_table_ref, destination_table_ref, job_config=job_config)\n",
    "\n",
    "    # Wait for the job to complete\n",
    "    job.result()\n",
    "\n",
    "    print(f\"Table {source_table_id} copied to {destination_table_id}\")\n",
    "\n",
    "    \n",
    "# Example usage:\n",
    "source_table_id = \"dh-global-sales-data-dev.leadgen_sf_match_vertex_cl.leadgen_sf_match_BM_KR\"\n",
    "destination_table_id = \"dh-global-sales-data-dev.leadgen_sf_match_vertex_cl.leadgen_sf_match_BM_KR_v5_1_less_threshold\"\n",
    "copy_table(source_table_id, destination_table_id)"
   ]
  },
  {
   "cell_type": "code",
   "execution_count": null,
   "id": "c4358d1b-27a8-4c55-b02c-7a64c5b21069",
   "metadata": {},
   "outputs": [],
   "source": []
  },
  {
   "cell_type": "code",
   "execution_count": 26,
   "id": "e24d7b1e-6d6a-4f51-ba5b-dabd2ec70731",
   "metadata": {
    "tags": []
   },
   "outputs": [
    {
     "ename": "ModuleNotFoundError",
     "evalue": "No module named 'korean_romanizer'",
     "output_type": "error",
     "traceback": [
      "\u001b[0;31m---------------------------------------------------------------------------\u001b[0m",
      "\u001b[0;31mModuleNotFoundError\u001b[0m                       Traceback (most recent call last)",
      "\u001b[0;32m/var/folders/v2/gm8dwb2x6zxf_5zjljnwz7yjc9yj1q/T/ipykernel_87193/1945043556.py\u001b[0m in \u001b[0;36m<cell line: 1>\u001b[0;34m()\u001b[0m\n\u001b[0;32m----> 1\u001b[0;31m \u001b[0;32mfrom\u001b[0m \u001b[0mkorean_romanizer\u001b[0m \u001b[0;32mimport\u001b[0m \u001b[0mRomanizer\u001b[0m\u001b[0;34m\u001b[0m\u001b[0;34m\u001b[0m\u001b[0m\n\u001b[0m\u001b[1;32m      2\u001b[0m \u001b[0;32mdef\u001b[0m \u001b[0mtransform_query\u001b[0m\u001b[0;34m(\u001b[0m\u001b[0mq\u001b[0m\u001b[0;34m)\u001b[0m\u001b[0;34m:\u001b[0m\u001b[0;34m\u001b[0m\u001b[0;34m\u001b[0m\u001b[0m\n\u001b[1;32m      3\u001b[0m     \u001b[0;32mreturn\u001b[0m \u001b[0mRomanizer\u001b[0m\u001b[0;34m(\u001b[0m\u001b[0mq\u001b[0m\u001b[0;34m.\u001b[0m\u001b[0mstrip\u001b[0m\u001b[0;34m(\u001b[0m\u001b[0;34m)\u001b[0m\u001b[0;34m.\u001b[0m\u001b[0mcasefold\u001b[0m\u001b[0;34m(\u001b[0m\u001b[0;34m)\u001b[0m\u001b[0;34m)\u001b[0m\u001b[0;34m.\u001b[0m\u001b[0mromanize\u001b[0m\u001b[0;34m(\u001b[0m\u001b[0;34m)\u001b[0m\u001b[0;34m\u001b[0m\u001b[0;34m\u001b[0m\u001b[0m\n\u001b[1;32m      4\u001b[0m \u001b[0;34m\u001b[0m\u001b[0m\n\u001b[1;32m      5\u001b[0m \u001b[0mstr1\u001b[0m \u001b[0;34m=\u001b[0m \u001b[0;34m\"jikhwa jeyukjeguk&kongnamulgukbap sicheongjeom\"\u001b[0m\u001b[0;34m\u001b[0m\u001b[0;34m\u001b[0m\u001b[0m\n",
      "\u001b[0;31mModuleNotFoundError\u001b[0m: No module named 'korean_romanizer'"
     ]
    }
   ],
   "source": [
    "from korean_romanizer import Romanizer\n",
    "def transform_query(q):\n",
    "    return Romanizer(q.strip().casefold()).romanize()\n",
    "\n",
    "str1 = \"jikhwa jeyukjeguk&kongnamulgukbap sicheongjeom\"\n",
    "str2 = \"jeyukjeguk sicheongjeom\"\n",
    "\n",
    "print(f\"string 1: {transform_query(str1)}\")\n",
    "print(f\"string 2: {transform_query(str2)}\")"
   ]
  },
  {
   "cell_type": "code",
   "execution_count": 26,
   "id": "773e48f3-89dc-41da-a02c-0c468c07252c",
   "metadata": {
    "tags": []
   },
   "outputs": [],
   "source": [
    "from match.achilles.feature import SameRowDistanceMaker \n",
    "\n",
    "class SameRegistraionNumberMaker(SameRowDistanceMaker):\n",
    "    def separate_registrations(self, ser: pd.Series, value_=pd.NA) -> pd.Series:\n",
    "        return (\n",
    "            ser.astype(\"string\")\n",
    "            .replace(to_replace=r\"^\\s*$\", value=value_, regex=True)\n",
    "            .replace(to_replace=np.nan, value=value_, regex=True)\n",
    "            .str.split(\";\")\n",
    "        )\n",
    "\n",
    "    def transform(self, X: pd.DataFrame) -> pd.Series:\n",
    "        # Replace empty strings with pd.NA.\n",
    "        left_ser = self.separate_registrations(X[self.left_col], \"left_unk\")\n",
    "        right_ser = self.separate_registrations(X[self.right_col], \"right_unk\")\n",
    "\n",
    "        return self.pairwise_intersect(left_ser, right_ser)"
   ]
  },
  {
   "cell_type": "code",
   "execution_count": null,
   "id": "44ee2cb3-eefc-4e72-a1f2-e139e3a8c55c",
   "metadata": {},
   "outputs": [],
   "source": []
  },
  {
   "cell_type": "code",
   "execution_count": null,
   "id": "59d82253-7e52-4ec4-8dee-1b4885268727",
   "metadata": {},
   "outputs": [],
   "source": []
  },
  {
   "cell_type": "code",
   "execution_count": null,
   "id": "7c2a2ac6-f673-4533-bfe3-4c8443e1670e",
   "metadata": {},
   "outputs": [],
   "source": []
  },
  {
   "cell_type": "code",
   "execution_count": null,
   "id": "9c4a029d-03cb-4017-9b9b-d9b1d8b86755",
   "metadata": {
    "scrolled": true
   },
   "outputs": [],
   "source": []
  },
  {
   "cell_type": "code",
   "execution_count": null,
   "id": "65acb146-2993-4918-8c91-80ca4e04aa2e",
   "metadata": {
    "scrolled": true
   },
   "outputs": [],
   "source": []
  },
  {
   "cell_type": "code",
   "execution_count": 6,
   "id": "038d2681-88c7-43f0-ae29-85cb24a617af",
   "metadata": {
    "scrolled": true
   },
   "outputs": [
    {
     "name": "stderr",
     "output_type": "stream",
     "text": [
      "2023-06-14 17:18:34,859 - achilles - INFO - Query:\n",
      "CREATE TABLE `dh-global-sales-data-dev.leadgen_temp.left_leadgen_PO_FI` AS\n",
      "(\n",
      "WITH country_map AS (\n",
      "    SELECT DISTINCT\n",
      "        country_code AS country_iso,\n",
      "        global_entity_id\n",
      "    FROM\n",
      "        `fulfillment-dwh-production.curated_data_shared_central_dwh.global_entities`\n",
      "    \n",
      ")\n",
      "\n",
      "SELECT\n",
      "    l.country_iso,\n",
      "    `dh-global-sales-data.achilles.build_lead_row_id`(cm.global_entity_id,l.lead_provider,l.lead_source,l.lead_id) AS row_id,\n",
      "    l.restaurant_name AS name,\n",
      "    sf_account.translated_account_name__c AS name_local,\n",
      "    sf_account.legal_name__c AS name_legal,\n",
      "    --restaurant_name_translated AS name_translated,\n",
      "    CASE\n",
      "        -- TODO 06.03.23 this is a temporal crutch that should be removed once models have \n",
      "        -- more diverse feature set.\n",
      "        WHEN \n",
      "            cm.global_entity_id in ('TB_BH', 'TB_KW', 'FP_SG') \n",
      "            AND restaurant_name_ascii IS NOT NULL\n",
      "            -- to account for names that have just 1-2 ascii symbols in them and the rest is non-ascii\n",
      "            AND LENGTH(COALESCE(restaurant_name_ascii, '')) > 2\n",
      "            THEN restaurant_name_ascii\n",
      "        ELSE restaurant_name_translated\n",
      "    END AS name_translated,\n",
      "    restaurant_address AS street,\n",
      "    restaurant_address_translated AS street_translated,\n",
      "    phone_number,\n",
      "    restaurant_lat AS lat,\n",
      "    restaurant_long AS lng,\n",
      "    COALESCE(city_lat, restaurant_lat) as city_lat,\n",
      "    COALESCE(city_long, restaurant_long) AS city_lng,\n",
      "    sf_vendor_id AS vendor_id,\n",
      "    lead_uuid,\n",
      "    report_date\n",
      "FROM\n",
      "    `dh-global-sales-data.leadgen_cl.vendor_complete` AS l\n",
      "INNER JOIN\n",
      "    country_map AS cm\n",
      "ON\n",
      "    l.country_iso=cm.country_iso\n",
      "-- TODO Once translated_account_name__c is in the saleslayer this should be removed.\n",
      "LEFT JOIN `fulfillment-dwh-production.curated_data_shared_salesforce.account`  as sf_account\n",
      "ON\n",
      "    l.lead_id = sf_account.grid__c\n",
      "-- TODO Once rejected leads are part of saleslayer, this should be removed\n",
      "LEFT JOIN `dh-global-sales-data.cl_lead_publish.fct_manual_rejected` AS m_rejected\n",
      "ON\n",
      "    l.lead_id = m_rejected.lead_id\n",
      "WHERE\n",
      "    -- Do not consider brand-specific cloud kitchens.\n",
      "    (l.is_dark_kitchen IS NULL OR l.is_dark_kitchen = FALSE) AND\n",
      "    --Do not consider deleted salesforce objects.\n",
      "    (l.isdeleted IS NULL OR l.isdeleted = FALSE) AND\n",
      "    -- Only consider Main-Branch, virtual, kitchen and leads\n",
      "    (l.sf_type IS NULL OR l.sf_type in ('Branch - Main', 'Branch - Virtual Restaurant', 'Branch - Kitchen Restaurant', 'lead')) AND\n",
      "    -- Require location information.\n",
      "    (restaurant_address IS NOT NULL OR (restaurant_lat + restaurant_long IS NOT NULL)) AND\n",
      "    -- Ideally, we would require city location for candidate retrieval.\n",
      "    -- However, sometimes lead providers give us only vendor coordinates.\n",
      "    -- In this case we do a simple substitution (hence COALESCE statement for city_lat and city_long above)\n",
      "    -- with a vendor coordinates. Corollary: vendors without both vendor and city coordinates\n",
      "    -- should be discarded.\n",
      "    ((city_lat + city_long IS NOT NULL) OR (restaurant_lat + restaurant_long IS NOT NULL)) AND\n",
      "    -- Do not include manually rejected leads\n",
      "    m_rejected.lead_id IS NULL AND\n",
      "    -- Exclude leads with problems with lats/longs (see GSD-5197 ticket for more context)\n",
      "    (l.is_correct_lat_long is NULL or l.is_correct_lat_long = True)\n",
      "    -- Filter to specific sources.\n",
      "    \n",
      "    \n",
      ")\n",
      ";\n",
      "\n"
     ]
    }
   ],
   "source": [
    "from achilles.input import LeadGenInput\n",
    "\n",
    "lgi = LeadGenInput(global_entity_id= \"\",  \n",
    "        output_table=\"dh-global-sales-data-dev.leadgen_temp.left_leadgen_PO_FI\",\n",
    "        delta=False,\n",
    "        lead_source=None )\n",
    "\n",
    "lgi.build_input(dry_run=True)"
   ]
  },
  {
   "cell_type": "code",
   "execution_count": 5,
   "id": "2938c720-c2d6-4ef7-a5d6-45191c939ef9",
   "metadata": {
    "scrolled": true,
    "tags": []
   },
   "outputs": [
    {
     "name": "stdout",
     "output_type": "stream",
     "text": [
      "CREATE TABLE `output_table_dummy` AS\n",
      "\n",
      "SELECT\n",
      "    CURRENT_TIMESTAMP() AS run_timestamp,\n",
      "    \"dh-global-sales-data-dev.achilles.model_FI_v4_geo\" AS model_name,\n",
      "    \"feature_table_dummy\" AS input_table,\n",
      "    country_iso,\n",
      "    left_row_id,\n",
      "    right_row_id,\n",
      "    predicted_label,\n",
      "    predicted_label_probs\n",
      "FROM\n",
      "    ML.PREDICT(\n",
      "        MODEL `dh-global-sales-data-dev.achilles.model_FI_v4_geo`,\n",
      "        (\n",
      "        SELECT\n",
      "            country_iso,left_row_id,right_row_id,haversine,jaro_winkler_name,jaro_winkler_name_reversed,jaro_winkler_name_stop,levenshtein_name_stop_phonetic,same_phone,tokenset_name,tokenset_name_legal,tokenset_name_local_ascii_only,tokenset_name_stop,tokenset_street_stop,wratio_name,wratio_name_stop\n",
      "        FROM\n",
      "            `feature_table_dummy`\n",
      "        WHERE\n",
      "            haversine IS NOT NULL\n",
      "        ), STRUCT(0.6 AS threshold)\n",
      "    )\n",
      "\n",
      "UNION ALL\n",
      "\n",
      "SELECT\n",
      "    CURRENT_TIMESTAMP() AS run_timestamp,\n",
      "    \"dh-global-sales-data-dev.achilles.model_FI_v4\" AS model_name,\n",
      "    \"feature_table_dummy\" AS input_table,\n",
      "    country_iso,\n",
      "    left_row_id,\n",
      "    right_row_id,\n",
      "    predicted_label,\n",
      "    predicted_label_probs\n",
      "FROM\n",
      "    ML.PREDICT(\n",
      "        MODEL `dh-global-sales-data-dev.achilles.model_FI_v4`,\n",
      "        (\n",
      "        SELECT\n",
      "            country_iso,left_row_id,right_row_id,jaro_winkler_name,jaro_winkler_name_reversed,jaro_winkler_name_stop,levenshtein_name_stop_phonetic,same_phone,tokenset_name,tokenset_name_legal,tokenset_name_local_ascii_only,tokenset_name_stop,tokenset_street_stop,wratio_name,wratio_name_stop\n",
      "        FROM\n",
      "            `feature_table_dummy`\n",
      "        WHERE\n",
      "            haversine IS NULL\n",
      "        ), STRUCT(0.5 AS threshold)\n",
      "    )\n",
      "\n"
     ]
    }
   ],
   "source": [
    "query = AchillesConfig( \"FI\", \"4\").get_predict_query( feature_table= \"feature_table_dummy\",\n",
    "        output_table= \"output_table_dummy\",\n",
    "        model_id = \"FI\",\n",
    "        model_version = \"4\",\n",
    "        threshold = \"0.5\",\n",
    "        threshold_geo= \"0.6\",\n",
    "        append_output = False,)\n",
    "\n",
    "print(query)"
   ]
  },
  {
   "cell_type": "code",
   "execution_count": 26,
   "id": "0e2e35df-7f8b-45f7-8a65-7eb0ebdbcdcb",
   "metadata": {
    "scrolled": true
   },
   "outputs": [
    {
     "data": {
      "text/plain": [
       "0"
      ]
     },
     "execution_count": 26,
     "metadata": {},
     "output_type": "execute_result"
    }
   ],
   "source": [
    "l = \"\"\n",
    "len(l)"
   ]
  },
  {
   "cell_type": "code",
   "execution_count": 35,
   "id": "12cfeaf5-1853-4b03-b009-6630665febcf",
   "metadata": {
    "scrolled": true
   },
   "outputs": [
    {
     "name": "stdout",
     "output_type": "stream",
     "text": [
      "HU achilles.training_candidates_new\n",
      "4\n",
      "CZ achilles_train_test_data_update.DJ_CZ_vendor_matching_annotations\n",
      "None\n"
     ]
    }
   ],
   "source": [
    "labelled_data_paths = {\"NP_HU\":\"achilles.training_candidates_new\", \n",
    "              \"DJ_CZ\":\"achilles_train_test_data_update.DJ_CZ_vendor_matching_annotations\"}\n",
    "old_dataset_versions = {\"NP_HU\":\"4\"}\n",
    "\n",
    "for geid, path in labelled_data_paths.items():\n",
    "\n",
    "    print(geid.split(\"_\")[-1], path)\n",
    "    print(old_dataset_versions.get(geid))\n",
    " "
   ]
  },
  {
   "cell_type": "code",
   "execution_count": 39,
   "id": "9f898537-7ebb-4c3f-813b-0335b57a6977",
   "metadata": {
    "scrolled": true
   },
   "outputs": [
    {
     "data": {
      "text/plain": [
       "'20230607'"
      ]
     },
     "execution_count": 39,
     "metadata": {},
     "output_type": "execute_result"
    }
   ],
   "source": [
    "from datetime import datetime\n",
    "datetime.now().strftime(\"%Y%m%d\")"
   ]
  },
  {
   "cell_type": "code",
   "execution_count": 33,
   "id": "7e8ec252-293b-4b47-a61e-0cc88216f842",
   "metadata": {
    "scrolled": true
   },
   "outputs": [
    {
     "name": "stdout",
     "output_type": "stream",
     "text": [
      "NP_HU achilles.training_candidates_new\n",
      "None\n",
      "\n",
      "    SELECT *\n",
      "    FROM `achilles.training_candidates_new`\n",
      "    WHERE country_iso in ('HU')\n",
      "    AND model_version = '4'\n",
      "    \n",
      "    \n",
      "Downloading: 100%|\u001b[32m████████████████████████████████████████████████████████████████████████████████████\u001b[0m|\u001b[0m\n",
      "Total 2953 training pairs pulled for country_iso HU\n",
      "DJ_CZ achilles_train_test_data_update.DJ_CZ_vendor_matching_annotations\n",
      "None\n",
      "\n",
      "    SELECT *\n",
      "    FROM `achilles_train_test_data_update.DJ_CZ_vendor_matching_annotations`\n",
      "    WHERE country_iso in ('CZ')\n",
      "    \n",
      "    \n",
      "    \n",
      "Downloading: 100%|\u001b[32m████████████████████████████████████████████████████████████████████████████████████\u001b[0m|\u001b[0m\n",
      "Total 3085 training pairs pulled for country_iso CZ\n",
      "(6038, 33)\n"
     ]
    }
   ],
   "source": [
    "# data_paths = [\"achilles.training_candidates_new\", \n",
    "#               \"achilles_train_test_data_update.DJ_CZ_vendor_matching_annotations\"]\n",
    "# ciso = [\"HU\",\"CZ\"]\n",
    "# model_version = \"4\"\n",
    "\n",
    "\n",
    "labelled_data_paths = {\"NP_HU\":\"achilles.training_candidates_new\", \n",
    "              \"DJ_CZ\":\"achilles_train_test_data_update.DJ_CZ_vendor_matching_annotations\"}\n",
    "old_dataset_versions = {\"NP_HU\":\"4\"}\n",
    "\n",
    "\n",
    "\n",
    "\n",
    "def get_training_data(data_path: str, ciso: list, old_dataset_version: str = None):\n",
    "    # training_data\n",
    "    project_id = \"dh-global-sales-data-dev\"\n",
    "    \n",
    "    if old_dataset_version is not None:\n",
    "        old_version_condition = f\"AND model_version = '{old_dataset_version}'\"\n",
    "    else:\n",
    "        old_version_condition = \"\"\n",
    "   \n",
    "    sql = f\"\"\"\n",
    "    SELECT *\n",
    "    FROM `{data_path}`\n",
    "    WHERE country_iso in ('{ciso}')\n",
    "    {old_version_condition}\n",
    "    \n",
    "    \"\"\"\n",
    "    print(sql)\n",
    "\n",
    "    df = pandas_gbq.read_gbq(sql, project_id=project_id)\n",
    "\n",
    "    print(\n",
    "        f\"\"\"Total {df.shape[0]} training pairs pulled for country_iso {df.country_iso[0]}\"\"\"\n",
    "    )\n",
    "\n",
    "    return df\n",
    "\n",
    "df = pd.DataFrame()\n",
    "for geid,path in labelled_data_paths.items():\n",
    "# for path in data_paths:\n",
    "    print(geid, path)\n",
    "    print(old_dataset_versions.get(ciso))\n",
    "\n",
    "    df_temp = get_training_data(path , geid.split(\"_\")[-1], old_dataset_versions.get(geid))\n",
    "    df = df.append(df_temp, ignore_index = True)\n",
    "\n",
    "print(df.shape)"
   ]
  },
  {
   "cell_type": "code",
   "execution_count": 65,
   "id": "9f22b56b-2ae5-4a65-bc3a-ed1bad9410d8",
   "metadata": {
    "scrolled": true
   },
   "outputs": [],
   "source": []
  },
  {
   "cell_type": "code",
   "execution_count": null,
   "id": "aa9d951a-8257-4659-81ef-a072d9ca27a2",
   "metadata": {
    "scrolled": true
   },
   "outputs": [],
   "source": []
  },
  {
   "cell_type": "code",
   "execution_count": null,
   "id": "e7c580a3-384d-49de-b63e-6352c853ba4e",
   "metadata": {
    "scrolled": true
   },
   "outputs": [],
   "source": [
    "python achilles/training/training_script.py \\\n",
    "--dataset_model_id=\"CZ\" \\\n",
    "--dataset_model_version=\"4\" \\\n",
    "--scoring_name=\"f1_score\" \\\n",
    "--recreate_training_data=True \n",
    "\n",
    "\n"
   ]
  },
  {
   "cell_type": "code",
   "execution_count": null,
   "id": "c6eff46f-db8c-4590-b11c-8b0543242a6f",
   "metadata": {
    "scrolled": true
   },
   "outputs": [],
   "source": [
    "python achilles/training/training_script.py \\\n",
    "--dataset_model_id=\"CZ\" \\\n",
    "--dataset_model_version=\"4\" \\\n",
    "--scoring_name=\"f1_score\" \\\n",
    "--recreate_training_data=False \\\n",
    "--training_dataset_path=\"dh-global-sales-data-dev.leadgen_temp.CZ_data_with_all_features_202306211313\""
   ]
  },
  {
   "cell_type": "code",
   "execution_count": 3,
   "id": "c95c2141-3f0d-405a-8de5-fdf04e3151fa",
   "metadata": {
    "scrolled": true
   },
   "outputs": [],
   "source": [
    "\n",
    "import sys\n",
    "# sys.path.append('/home/abhilash_mandal/software/gsd-match')\n",
    "sys.path.append('/Users/a.mandal/software/gsd-match-vertex')"
   ]
  },
  {
   "cell_type": "code",
   "execution_count": null,
   "id": "f84c4659-94b9-4fa1-b7a5-a084ce2776b6",
   "metadata": {
    "scrolled": true
   },
   "outputs": [],
   "source": []
  },
  {
   "cell_type": "code",
   "execution_count": null,
   "id": "14da3012-a950-418d-b733-06b741da7b93",
   "metadata": {
    "scrolled": true
   },
   "outputs": [],
   "source": []
  },
  {
   "cell_type": "code",
   "execution_count": null,
   "id": "22d045ed-d213-4510-965c-b9679035bd12",
   "metadata": {
    "scrolled": true
   },
   "outputs": [],
   "source": []
  },
  {
   "cell_type": "code",
   "execution_count": null,
   "id": "d3313a1a-b1e5-48a6-bca1-b6ed39633f8f",
   "metadata": {
    "scrolled": true
   },
   "outputs": [],
   "source": []
  },
  {
   "cell_type": "code",
   "execution_count": null,
   "id": "b9c347bb-9116-4b41-ac5a-6045e76a0c2c",
   "metadata": {
    "scrolled": true
   },
   "outputs": [],
   "source": []
  },
  {
   "cell_type": "code",
   "execution_count": null,
   "id": "8d7bddaf-bd80-42ff-853a-2c4cb3c3ec35",
   "metadata": {
    "scrolled": true
   },
   "outputs": [],
   "source": []
  },
  {
   "cell_type": "code",
   "execution_count": 4,
   "id": "040783b4-ed08-4d4b-98a3-f92de1857c7b",
   "metadata": {
    "scrolled": true
   },
   "outputs": [
    {
     "name": "stdout",
     "output_type": "stream",
     "text": [
      "Downloading: 100%|\u001b[32m█████████████████████████████████████████████████████████████\u001b[0m|\u001b[0m\n",
      "(40, 6)\n"
     ]
    },
    {
     "data": {
      "text/html": [
       "<div>\n",
       "<style scoped>\n",
       "    .dataframe tbody tr th:only-of-type {\n",
       "        vertical-align: middle;\n",
       "    }\n",
       "\n",
       "    .dataframe tbody tr th {\n",
       "        vertical-align: top;\n",
       "    }\n",
       "\n",
       "    .dataframe thead th {\n",
       "        text-align: right;\n",
       "    }\n",
       "</style>\n",
       "<table border=\"1\" class=\"dataframe\">\n",
       "  <thead>\n",
       "    <tr style=\"text-align: right;\">\n",
       "      <th></th>\n",
       "      <th>model_type</th>\n",
       "      <th>model_name</th>\n",
       "      <th>model_version</th>\n",
       "      <th>features</th>\n",
       "      <th>threshold</th>\n",
       "      <th>date_modified</th>\n",
       "    </tr>\n",
       "  </thead>\n",
       "  <tbody>\n",
       "    <tr>\n",
       "      <th>0</th>\n",
       "      <td>geo</td>\n",
       "      <td>PH</td>\n",
       "      <td>5</td>\n",
       "      <td>['cosine_name_stop', 'jaro_winkler_name', 'tokenset_name_stop', 'jaro_winkler_name_local', 'tokenset_name_local', 'tokenset_street_stop', 'levenshtein_name_stop_phonetic', 'wratio_street_stop', 'tokenset_name_local_transliterated', 'same_phone', 'haver...</td>\n",
       "      <td>0.55</td>\n",
       "      <td>2022-09-12</td>\n",
       "    </tr>\n",
       "    <tr>\n",
       "      <th>1</th>\n",
       "      <td>non-geo</td>\n",
       "      <td>PH</td>\n",
       "      <td>5</td>\n",
       "      <td>['cosine_name_stop', 'jaro_winkler_name', 'tokenset_name_stop', 'jaro_winkler_name_local', 'tokenset_name_local', 'tokenset_street_stop', 'levenshtein_name_stop_phonetic', 'wratio_street_stop', 'tokenset_name_local_transliterated', 'same_phone', 'haver...</td>\n",
       "      <td>0.60</td>\n",
       "      <td>2022-09-12</td>\n",
       "    </tr>\n",
       "  </tbody>\n",
       "</table>\n",
       "</div>"
      ],
      "text/plain": [
       "  model_type model_name model_version  \\\n",
       "0        geo         PH             5   \n",
       "1    non-geo         PH             5   \n",
       "\n",
       "                                                                                                                                                                                                                                                          features  \\\n",
       "0  ['cosine_name_stop', 'jaro_winkler_name', 'tokenset_name_stop', 'jaro_winkler_name_local', 'tokenset_name_local', 'tokenset_street_stop', 'levenshtein_name_stop_phonetic', 'wratio_street_stop', 'tokenset_name_local_transliterated', 'same_phone', 'haver...   \n",
       "1  ['cosine_name_stop', 'jaro_winkler_name', 'tokenset_name_stop', 'jaro_winkler_name_local', 'tokenset_name_local', 'tokenset_street_stop', 'levenshtein_name_stop_phonetic', 'wratio_street_stop', 'tokenset_name_local_transliterated', 'same_phone', 'haver...   \n",
       "\n",
       "   threshold date_modified  \n",
       "0       0.55    2022-09-12  \n",
       "1       0.60    2022-09-12  "
      ]
     },
     "execution_count": 4,
     "metadata": {},
     "output_type": "execute_result"
    }
   ],
   "source": [
    "PROJECT_ID = \"dh-global-sales-data-dev\"\n",
    "sql = f\"\"\"\n",
    "SELECT *\n",
    "FROM `dh-global-sales-data-dev.achilles_modelling.model_catalogue`\n",
    "\"\"\"\n",
    "\n",
    "model_catalogue = pandas_gbq.read_gbq(sql, project_id=PROJECT_ID)\n",
    "print(model_catalogue.shape)\n",
    "model_catalogue.head(2)"
   ]
  },
  {
   "cell_type": "code",
   "execution_count": null,
   "id": "d94977e7-8bf9-47f5-84ff-43c06bed6ac3",
   "metadata": {
    "scrolled": true
   },
   "outputs": [],
   "source": []
  },
  {
   "cell_type": "code",
   "execution_count": 6,
   "id": "65ca684b-0418-4dce-aba3-608bb499d4eb",
   "metadata": {
    "scrolled": true
   },
   "outputs": [
    {
     "data": {
      "text/plain": [
       "\"['cosine_name_stop', 'jaro_winkler_name', 'tokenset_name_stop', 'jaro_winkler_name_local', 'tokenset_name_local', 'tokenset_street_stop', 'levenshtein_name_stop_phonetic', 'wratio_street_stop', 'tokenset_name_local_transliterated', 'same_phone', 'haversine']\""
      ]
     },
     "execution_count": 6,
     "metadata": {},
     "output_type": "execute_result"
    }
   ],
   "source": [
    "model_catalogue.features[1]"
   ]
  },
  {
   "cell_type": "code",
   "execution_count": 42,
   "id": "4c353031-20c4-4fb4-a21a-3deb9aa766b3",
   "metadata": {
    "scrolled": true,
    "tags": []
   },
   "outputs": [
    {
     "data": {
      "text/plain": [
       "['cosine_name_stop',\n",
       " 'jaro_winkler_name',\n",
       " 'tokenset_name_stop',\n",
       " 'jaro_winkler_name_local',\n",
       " 'tokenset_name_local',\n",
       " 'tokenset_street_stop',\n",
       " 'levenshtein_name_stop_phonetic',\n",
       " 'wratio_street_stop',\n",
       " 'tokenset_name_local_transliterated',\n",
       " 'same_phone',\n",
       " 'haversine']"
      ]
     },
     "execution_count": 42,
     "metadata": {},
     "output_type": "execute_result"
    }
   ],
   "source": [
    "model_catalogue.features.str.replace(\"[\\['\\],]\" ,\"\",regex=True)[0].split()"
   ]
  },
  {
   "cell_type": "code",
   "execution_count": null,
   "id": "35013e87-f275-473e-9dd0-d35fc6ecfbb4",
   "metadata": {
    "scrolled": true
   },
   "outputs": [],
   "source": []
  },
  {
   "cell_type": "code",
   "execution_count": null,
   "id": "e767fb7c-accd-4509-9063-7b201d2a6545",
   "metadata": {
    "scrolled": true
   },
   "outputs": [],
   "source": []
  },
  {
   "cell_type": "code",
   "execution_count": null,
   "id": "894a313f-121f-45eb-9886-d50ee5f9d35e",
   "metadata": {
    "scrolled": true
   },
   "outputs": [],
   "source": []
  },
  {
   "cell_type": "code",
   "execution_count": null,
   "id": "09e512cd-5383-4974-87c8-19ce75d7a7d6",
   "metadata": {
    "scrolled": true
   },
   "outputs": [],
   "source": []
  },
  {
   "cell_type": "code",
   "execution_count": null,
   "id": "66c27edd-b497-4d7c-a495-6475ebf7ce98",
   "metadata": {
    "scrolled": true
   },
   "outputs": [],
   "source": []
  },
  {
   "cell_type": "code",
   "execution_count": 196,
   "id": "21c917f9-33c3-4dba-b5c1-3c8f9a71c947",
   "metadata": {
    "scrolled": true,
    "tags": []
   },
   "outputs": [
    {
     "data": {
      "text/plain": [
       "['haversine',\n",
       " 'jaro_winkler_name',\n",
       " 'jaro_winkler_name_local',\n",
       " 'jaro_winkler_name_local_transliterated',\n",
       " 'jaro_winkler_name_stop',\n",
       " 'jw_name_local_ascii_only',\n",
       " 'jw_name_local_nonascii_only',\n",
       " 'levenshtein_name_stop_phonetic',\n",
       " 'same_phone',\n",
       " 'tokenset_name',\n",
       " 'tokenset_name_local_ascii_only',\n",
       " 'tokenset_name_local_nonascii_only',\n",
       " 'tokenset_name_local_transliterated',\n",
       " 'tokenset_name_stop',\n",
       " 'tokenset_street_stop',\n",
       " 'wratio_name',\n",
       " 'wratio_name_stop',\n",
       " 'wratio_street_stop']"
      ]
     },
     "execution_count": 196,
     "metadata": {},
     "output_type": "execute_result"
    }
   ],
   "source": [
    "feats = experiment_df.query(\"run_name == 'geo-run-03-202306261502'\")[\"param.model_features\"].str.replace(\"[\\['\\],]\" ,\"\",regex=True).iloc[0].split()\n",
    "feats"
   ]
  },
  {
   "cell_type": "code",
   "execution_count": 197,
   "id": "f740e469-993a-4637-a9ed-405d92aea098",
   "metadata": {
    "scrolled": true,
    "tags": []
   },
   "outputs": [
    {
     "name": "stdout",
     "output_type": "stream",
     "text": [
      "(3085, 54)\n",
      "<class 'pandas.core.frame.DataFrame'>\n",
      "RangeIndex: 3085 entries, 0 to 3084\n",
      "Data columns (total 54 columns):\n",
      " #   Column                                  Non-Null Count  Dtype  \n",
      "---  ------                                  --------------  -----  \n",
      " 0   index                                   3085 non-null   int64  \n",
      " 1   country_iso                             3085 non-null   object \n",
      " 2   left_row_id                             3085 non-null   object \n",
      " 3   left_name                               3085 non-null   object \n",
      " 4   left_name_local                         3085 non-null   object \n",
      " 5   left_name_stop                          3085 non-null   object \n",
      " 6   left_name_stop_phonetic                 3073 non-null   object \n",
      " 7   left_name_local_transliterated          3085 non-null   object \n",
      " 8   left_street                             3085 non-null   object \n",
      " 9   left_street_stop                        3085 non-null   object \n",
      " 10  left_street_stop_phonetic               3084 non-null   object \n",
      " 11  left_phone_number                       2648 non-null   float64\n",
      " 12  left_lat                                3050 non-null   float64\n",
      " 13  left_lng                                3050 non-null   float64\n",
      " 14  right_row_id                            3085 non-null   object \n",
      " 15  right_name                              3085 non-null   object \n",
      " 16  right_name_local                        3085 non-null   object \n",
      " 17  right_name_stop                         3085 non-null   object \n",
      " 18  right_name_legal                        1650 non-null   object \n",
      " 19  right_name_stop_phonetic                3076 non-null   object \n",
      " 20  right_name_local_transliterated         3085 non-null   object \n",
      " 21  right_street                            3085 non-null   object \n",
      " 22  right_street_stop                       3085 non-null   object \n",
      " 23  right_street_stop_phonetic              3079 non-null   object \n",
      " 24  right_phone_number                      2013 non-null   float64\n",
      " 25  right_lat                               3068 non-null   float64\n",
      " 26  right_lng                               3068 non-null   float64\n",
      " 27  label                                   3085 non-null   int64  \n",
      " 28  cosine_name_stop                        3085 non-null   float64\n",
      " 29  haversine                               3033 non-null   float64\n",
      " 30  jaro_winkler_name                       3085 non-null   float64\n",
      " 31  jaro_winkler_name_local                 3085 non-null   float64\n",
      " 32  jaro_winkler_name_local_transliterated  3085 non-null   float64\n",
      " 33  jaro_winkler_name_reversed              3085 non-null   float64\n",
      " 34  jaro_winkler_name_stop                  3085 non-null   float64\n",
      " 35  jw_name_local_ascii_only                3085 non-null   float64\n",
      " 36  jw_name_local_nonascii_only             3085 non-null   float64\n",
      " 37  levenshtein_name_stop_phonetic          3085 non-null   float64\n",
      " 38  levenshtein_street_stop_phonetic        3085 non-null   float64\n",
      " 39  same_phone                              3085 non-null   int64  \n",
      " 40  tokenset_name                           3085 non-null   float64\n",
      " 41  tokenset_name_legal                     3085 non-null   float64\n",
      " 42  tokenset_name_local                     3085 non-null   float64\n",
      " 43  tokenset_name_local_ascii_only          3085 non-null   float64\n",
      " 44  tokenset_name_local_nonascii_only       3085 non-null   float64\n",
      " 45  tokenset_name_local_transliterated      3085 non-null   float64\n",
      " 46  tokenset_name_stop                      3085 non-null   float64\n",
      " 47  tokenset_street_stop                    3085 non-null   float64\n",
      " 48  wratio_name                             3085 non-null   float64\n",
      " 49  wratio_name_stop                        3085 non-null   float64\n",
      " 50  wratio_street_stop                      3085 non-null   float64\n",
      " 51  pred_label                              3085 non-null   int64  \n",
      " 52  pred_prob                               3085 non-null   float64\n",
      " 53  col_type                                3085 non-null   object \n",
      "dtypes: float64(29), int64(4), object(21)\n",
      "memory usage: 1.3+ MB\n",
      "None\n",
      "<class 'pandas.core.frame.DataFrame'>\n",
      "RangeIndex: 3085 entries, 0 to 3084\n",
      "Data columns (total 18 columns):\n",
      " #   Column                                  Non-Null Count  Dtype  \n",
      "---  ------                                  --------------  -----  \n",
      " 0   haversine                               3033 non-null   float64\n",
      " 1   jaro_winkler_name                       3085 non-null   float64\n",
      " 2   jaro_winkler_name_local                 3085 non-null   float64\n",
      " 3   jaro_winkler_name_local_transliterated  3085 non-null   float64\n",
      " 4   jaro_winkler_name_stop                  3085 non-null   float64\n",
      " 5   jw_name_local_ascii_only                3085 non-null   float64\n",
      " 6   jw_name_local_nonascii_only             3085 non-null   float64\n",
      " 7   levenshtein_name_stop_phonetic          3085 non-null   float64\n",
      " 8   same_phone                              3085 non-null   int64  \n",
      " 9   tokenset_name                           3085 non-null   float64\n",
      " 10  tokenset_name_local_ascii_only          3085 non-null   float64\n",
      " 11  tokenset_name_local_nonascii_only       3085 non-null   float64\n",
      " 12  tokenset_name_local_transliterated      3085 non-null   float64\n",
      " 13  tokenset_name_stop                      3085 non-null   float64\n",
      " 14  tokenset_street_stop                    3085 non-null   float64\n",
      " 15  wratio_name                             3085 non-null   float64\n",
      " 16  wratio_name_stop                        3085 non-null   float64\n",
      " 17  wratio_street_stop                      3085 non-null   float64\n",
      "dtypes: float64(17), int64(1)\n",
      "memory usage: 434.0 KB\n",
      "None\n"
     ]
    }
   ],
   "source": [
    "from google.cloud import storage\n",
    "\n",
    "BUCKET_NAME = \"dh-global-sales-data-dev-tmp\"\n",
    "BUCKET_LOCATION = (\n",
    "    \"dh-global-sales-data-dev-tmp/achilles/training/cz-model-training/geo/5-202307111227\"\n",
    ")\n",
    "gcs_client = storage.Client()\n",
    "gcs_bucket = gcs_client.get_bucket(BUCKET_NAME)\n",
    "normal_log_gcs_path = f\"gs://{BUCKET_LOCATION}/total_dataset_prediction.csv\"\n",
    "blob = gcs_bucket.blob(normal_log_gcs_path)\n",
    "df = pd.read_csv(normal_log_gcs_path, index_col=False)\n",
    "print(df.shape)\n",
    "print(df.info())\n",
    "df_numeric = df.select_dtypes(include=[np.float64, np.int64])\n",
    "print(df_numeric[feats].info())\n"
   ]
  },
  {
   "cell_type": "code",
   "execution_count": 220,
   "id": "9e8fe92d-5050-44cd-956b-cc22a044fa1c",
   "metadata": {
    "scrolled": true,
    "tags": []
   },
   "outputs": [
    {
     "data": {
      "text/plain": [
       "['haversine float64',\n",
       " 'jaro_winkler_name float64',\n",
       " 'jaro_winkler_name_local float64',\n",
       " 'jaro_winkler_name_local_transliterated float64',\n",
       " 'jaro_winkler_name_stop float64',\n",
       " 'jw_name_local_ascii_only float64',\n",
       " 'jw_name_local_nonascii_only float64',\n",
       " 'levenshtein_name_stop_phonetic float64',\n",
       " 'same_phone int64',\n",
       " 'tokenset_name float64',\n",
       " 'tokenset_name_local_ascii_only float64',\n",
       " 'tokenset_name_local_nonascii_only float64',\n",
       " 'tokenset_name_local_transliterated float64',\n",
       " 'tokenset_name_stop float64',\n",
       " 'tokenset_street_stop float64',\n",
       " 'wratio_name float64',\n",
       " 'wratio_name_stop float64',\n",
       " 'wratio_street_stop float64']"
      ]
     },
     "execution_count": 220,
     "metadata": {},
     "output_type": "execute_result"
    }
   ],
   "source": [
    "def dtype_bqtype(dt):\n",
    "    if dt==\"float64\":\n",
    "        return \"float64\"\n",
    "    if dt==\"int64\":\n",
    "        return \"int64\"\n",
    "    \n",
    "l = [(f\"{feat} {dtype_bqtype(df[feat].dtype)}\" )for feat in feats]\n",
    "l\n"
   ]
  },
  {
   "cell_type": "code",
   "execution_count": 232,
   "id": "d1965565-cd83-490a-80ce-d3c902a9292b",
   "metadata": {
    "scrolled": true,
    "tags": []
   },
   "outputs": [
    {
     "data": {
      "text/plain": [
       "'haversine float64, jaro_winkler_name float64, jaro_winkler_name_local float64, jaro_winkler_name_local_transliterated float64, jaro_winkler_name_stop float64, jw_name_local_ascii_only float64, jw_name_local_nonascii_only float64, levenshtein_name_stop_phonetic float64, same_phone int64, tokenset_name float64, tokenset_name_local_ascii_only float64, tokenset_name_local_nonascii_only float64, tokenset_name_local_transliterated float64, tokenset_name_stop float64, tokenset_street_stop float64, wratio_name float64, wratio_name_stop float64, wratio_street_stop float64'"
      ]
     },
     "execution_count": 232,
     "metadata": {},
     "output_type": "execute_result"
    }
   ],
   "source": [
    "str(l).replace(r\"'\",\"\").replace(r\"[\",\"\").replace(r\"]\",\"\").replace(\"'\",\"(\")"
   ]
  },
  {
   "cell_type": "code",
   "execution_count": null,
   "id": "661fee3d-3091-4094-b2fa-53b6adb6922a",
   "metadata": {
    "scrolled": true
   },
   "outputs": [],
   "source": []
  },
  {
   "cell_type": "code",
   "execution_count": null,
   "id": "6027c2f9-b2b5-462c-a461-8352583e1f9a",
   "metadata": {
    "scrolled": true
   },
   "outputs": [],
   "source": []
  },
  {
   "cell_type": "code",
   "execution_count": 82,
   "id": "c68f946a-a2c0-424c-8e1a-3913154b039c",
   "metadata": {
    "scrolled": true,
    "tags": []
   },
   "outputs": [
    {
     "data": {
      "text/plain": [
       "'2023-06-27'"
      ]
     },
     "execution_count": 82,
     "metadata": {},
     "output_type": "execute_result"
    }
   ],
   "source": [
    "from datetime import datetime\n",
    "df_data = pd.DataFrame()\n",
    "datetime.now().strftime(\"%Y-%m-%d\")"
   ]
  },
  {
   "cell_type": "code",
   "execution_count": 83,
   "id": "033ebceb-b733-41d4-8a1e-ef7b7ac0e521",
   "metadata": {
    "scrolled": true,
    "tags": []
   },
   "outputs": [],
   "source": [
    "schema = [\n",
    "    {\"name\": \"model_type\", \"type\": \"STRING\"},\n",
    "    {\"name\": \"model_name\", \"type\": \"STRING\"},\n",
    "    {\"name\": \"model_version\", \"type\": \"STRING\"},\n",
    "    {\"name\": \"features\", \"type\": \"STRING\"},\n",
    "    {\"name\": \"threshold\", \"type\": \"FLOAT64\"},\n",
    "    {\"name\": \"date_modified\", \"type\": \"DATE\"},\n",
    "\n",
    "]"
   ]
  },
  {
   "cell_type": "code",
   "execution_count": 236,
   "id": "e6a250f8-2ceb-4005-b7a3-75c3f5dc85bd",
   "metadata": {
    "scrolled": true,
    "tags": []
   },
   "outputs": [
    {
     "data": {
      "text/html": [
       "<div>\n",
       "<style scoped>\n",
       "    .dataframe tbody tr th:only-of-type {\n",
       "        vertical-align: middle;\n",
       "    }\n",
       "\n",
       "    .dataframe tbody tr th {\n",
       "        vertical-align: top;\n",
       "    }\n",
       "\n",
       "    .dataframe thead th {\n",
       "        text-align: right;\n",
       "    }\n",
       "</style>\n",
       "<table border=\"1\" class=\"dataframe\">\n",
       "  <thead>\n",
       "    <tr style=\"text-align: right;\">\n",
       "      <th></th>\n",
       "      <th>model_type</th>\n",
       "      <th>model_name</th>\n",
       "      <th>model_version</th>\n",
       "      <th>features</th>\n",
       "      <th>threshold</th>\n",
       "      <th>date_modified</th>\n",
       "    </tr>\n",
       "  </thead>\n",
       "  <tbody>\n",
       "    <tr>\n",
       "      <th>0</th>\n",
       "      <td>geo</td>\n",
       "      <td>CZ</td>\n",
       "      <td>4</td>\n",
       "      <td>['haversine', 'jaro_winkler_name_local_transliterated', 'jaro_winkler_name_stop', 'jw_name_local_nonascii_only', 'same_phone', 'tokenset_name', 'tokenset_name_local_nonascii_only', 'tokenset_name_local_transliterated', 'tokenset_street_stop', 'wratio_n...</td>\n",
       "      <td>0.2</td>\n",
       "      <td>2023-07-18</td>\n",
       "    </tr>\n",
       "  </tbody>\n",
       "</table>\n",
       "</div>"
      ],
      "text/plain": [
       "  model_type model_name model_version  \\\n",
       "0        geo         CZ             4   \n",
       "\n",
       "                                                                                                                                                                                                                                                          features  \\\n",
       "0  ['haversine', 'jaro_winkler_name_local_transliterated', 'jaro_winkler_name_stop', 'jw_name_local_nonascii_only', 'same_phone', 'tokenset_name', 'tokenset_name_local_nonascii_only', 'tokenset_name_local_transliterated', 'tokenset_street_stop', 'wratio_n...   \n",
       "\n",
       "   threshold date_modified  \n",
       "0        0.2    2023-07-18  "
      ]
     },
     "execution_count": 236,
     "metadata": {},
     "output_type": "execute_result"
    }
   ],
   "source": [
    "df_data = pd.DataFrame()\n",
    "\n",
    "MODEL_TYPE = \"geo\"\n",
    "MODEL_ID = \"CZ\"\n",
    "RUN_NUMBER = \"4\"\n",
    "# RUN_NAME = \"geo-run-03-202306261502\"\n",
    "RUN_NAME = \"geo-run-5-202306281348\"\n",
    "\n",
    "\n",
    "df_data.loc[0,\"model_type\"] = MODEL_TYPE\n",
    "df_data.loc[0,\"model_name\"] = MODEL_ID\n",
    "df_data.loc[0,\"model_version\"] = RUN_NUMBER\n",
    "df_data[\"features\"] = experiment_df.query(\"run_name == @RUN_NAME\")[\"param.model_features\"].iloc[0]\n",
    "df_data.loc[0, \"threshold\"] = 0.2\n",
    "df_data.loc[0,\"date_modified\"] = datetime.now().strftime(\"%Y-%m-%d\")\n",
    "df_data"
   ]
  },
  {
   "cell_type": "code",
   "execution_count": 144,
   "id": "ba5c38ac-ea83-4fb7-aa76-01dcc8ac3a9d",
   "metadata": {
    "scrolled": true,
    "tags": []
   },
   "outputs": [
    {
     "data": {
      "text/plain": [
       "['haversine',\n",
       " 'jaro_winkler_name_local_transliterated',\n",
       " 'jaro_winkler_name_stop',\n",
       " 'jw_name_local_nonascii_only',\n",
       " 'same_phone',\n",
       " 'tokenset_name',\n",
       " 'tokenset_name_local_nonascii_only',\n",
       " 'tokenset_name_local_transliterated',\n",
       " 'tokenset_street_stop',\n",
       " 'wratio_name_stop',\n",
       " 'wratio_street_stop']"
      ]
     },
     "execution_count": 144,
     "metadata": {},
     "output_type": "execute_result"
    }
   ],
   "source": [
    "df_data[\"features\"].str.replace(\"[\\['\\],]\" ,\"\",regex=True)[0].split()"
   ]
  },
  {
   "cell_type": "code",
   "execution_count": 145,
   "id": "79467c8c-1767-4b0d-b5b9-52f57ba547c2",
   "metadata": {
    "scrolled": true,
    "tags": []
   },
   "outputs": [
    {
     "data": {
      "text/plain": [
       "11"
      ]
     },
     "execution_count": 145,
     "metadata": {},
     "output_type": "execute_result"
    }
   ],
   "source": [
    "len(df_data[\"features\"].str.replace(\"[\\['\\],]\" ,\"\",regex=True)[0].split())"
   ]
  },
  {
   "cell_type": "code",
   "execution_count": 146,
   "id": "3146e5b1-9417-4225-bc46-e0d183bf18da",
   "metadata": {
    "scrolled": true,
    "tags": []
   },
   "outputs": [
    {
     "name": "stderr",
     "output_type": "stream",
     "text": [
      "100%|███████████████████████████████████████████| 1/1 [00:00<00:00, 3426.72it/s]\n"
     ]
    }
   ],
   "source": [
    "import pandas_gbq\n",
    "\n",
    "# TODO: Set project_id to your Google Cloud Platform project ID.\n",
    "project_id = \"dh-global-sales-data-dev\"\n",
    "\n",
    "pandas_gbq.to_gbq(\n",
    "    df_data, f'achilles_modelling.model_catalogue', project_id=project_id, if_exists='append',\n",
    "    table_schema=schema\n",
    ")\n"
   ]
  },
  {
   "cell_type": "code",
   "execution_count": 147,
   "id": "ec2084f3-9552-4ee5-bb61-b63f0bedc11e",
   "metadata": {
    "scrolled": true,
    "tags": []
   },
   "outputs": [
    {
     "data": {
      "text/html": [
       "<div>\n",
       "<style scoped>\n",
       "    .dataframe tbody tr th:only-of-type {\n",
       "        vertical-align: middle;\n",
       "    }\n",
       "\n",
       "    .dataframe tbody tr th {\n",
       "        vertical-align: top;\n",
       "    }\n",
       "\n",
       "    .dataframe thead th {\n",
       "        text-align: right;\n",
       "    }\n",
       "</style>\n",
       "<table border=\"1\" class=\"dataframe\">\n",
       "  <thead>\n",
       "    <tr style=\"text-align: right;\">\n",
       "      <th></th>\n",
       "      <th>model_type</th>\n",
       "      <th>model_name</th>\n",
       "      <th>model_version</th>\n",
       "      <th>features</th>\n",
       "      <th>threshold</th>\n",
       "      <th>date_modified</th>\n",
       "    </tr>\n",
       "  </thead>\n",
       "  <tbody>\n",
       "    <tr>\n",
       "      <th>0</th>\n",
       "      <td>non-geo</td>\n",
       "      <td>CZ</td>\n",
       "      <td>4</td>\n",
       "      <td>['jaro_winkler_name_local_transliterated', 'jaro_winkler_name_stop', 'jw_name_local_nonascii_only', 'same_phone', 'tokenset_name', 'tokenset_name_local_nonascii_only', 'tokenset_name_local_transliterated', 'tokenset_street_stop', 'wratio_name_stop', 'w...</td>\n",
       "      <td>0.3</td>\n",
       "      <td>2023-06-28</td>\n",
       "    </tr>\n",
       "  </tbody>\n",
       "</table>\n",
       "</div>"
      ],
      "text/plain": [
       "  model_type model_name model_version  \\\n",
       "0    non-geo         CZ             4   \n",
       "\n",
       "                                                                                                                                                                                                                                                          features  \\\n",
       "0  ['jaro_winkler_name_local_transliterated', 'jaro_winkler_name_stop', 'jw_name_local_nonascii_only', 'same_phone', 'tokenset_name', 'tokenset_name_local_nonascii_only', 'tokenset_name_local_transliterated', 'tokenset_street_stop', 'wratio_name_stop', 'w...   \n",
       "\n",
       "   threshold date_modified  \n",
       "0        0.3    2023-06-28  "
      ]
     },
     "execution_count": 147,
     "metadata": {},
     "output_type": "execute_result"
    }
   ],
   "source": [
    "df_data = pd.DataFrame()\n",
    "\n",
    "MODEL_TYPE = \"non-geo\"\n",
    "MODEL_ID = \"CZ\"\n",
    "RUN_NUMBER = \"4\"\n",
    "RUN_NAME = \"non-geo-run-5-202306281334\"\n",
    "# RUN_NAME = \"non-geo-run-4-202306271051\"\n",
    "\n",
    "df_data.loc[0,\"model_type\"] = MODEL_TYPE\n",
    "df_data.loc[0,\"model_name\"] = MODEL_ID\n",
    "df_data.loc[0,\"model_version\"] = RUN_NUMBER\n",
    "df_data[\"features\"] = experiment_df.query(\"run_name == @RUN_NAME\")[\"param.model_features\"].iloc[0]\n",
    "df_data.loc[0, \"threshold\"] = 0.3\n",
    "df_data.loc[0,\"date_modified\"] = datetime.now().strftime(\"%Y-%m-%d\")\n",
    "df_data"
   ]
  },
  {
   "cell_type": "code",
   "execution_count": 148,
   "id": "0d043d99-2770-4a8c-b26c-0f4483bdb26a",
   "metadata": {
    "scrolled": true,
    "tags": []
   },
   "outputs": [
    {
     "data": {
      "text/plain": [
       "['jaro_winkler_name_local_transliterated',\n",
       " 'jaro_winkler_name_stop',\n",
       " 'jw_name_local_nonascii_only',\n",
       " 'same_phone',\n",
       " 'tokenset_name',\n",
       " 'tokenset_name_local_nonascii_only',\n",
       " 'tokenset_name_local_transliterated',\n",
       " 'tokenset_street_stop',\n",
       " 'wratio_name_stop',\n",
       " 'wratio_street_stop']"
      ]
     },
     "execution_count": 148,
     "metadata": {},
     "output_type": "execute_result"
    }
   ],
   "source": [
    "df_data[\"features\"].str.replace(\"[\\['\\],]\" ,\"\",regex=True)[0].split()"
   ]
  },
  {
   "cell_type": "code",
   "execution_count": 149,
   "id": "047ab3e3-8cae-46b4-8714-0d5aa3382066",
   "metadata": {
    "scrolled": true,
    "tags": []
   },
   "outputs": [
    {
     "data": {
      "text/plain": [
       "10"
      ]
     },
     "execution_count": 149,
     "metadata": {},
     "output_type": "execute_result"
    }
   ],
   "source": [
    "len(df_data[\"features\"].str.replace(\"[\\['\\],]\" ,\"\",regex=True)[0].split())"
   ]
  },
  {
   "cell_type": "code",
   "execution_count": 150,
   "id": "8216e8fa-022b-4d76-9783-a8b31c8c913f",
   "metadata": {
    "scrolled": true,
    "tags": []
   },
   "outputs": [
    {
     "name": "stderr",
     "output_type": "stream",
     "text": [
      "100%|███████████████████████████████████████████| 1/1 [00:00<00:00, 9157.87it/s]\n"
     ]
    }
   ],
   "source": [
    "import pandas_gbq\n",
    "\n",
    "# TODO: Set project_id to your Google Cloud Platform project ID.\n",
    "project_id = \"dh-global-sales-data-dev\"\n",
    "\n",
    "pandas_gbq.to_gbq(\n",
    "    df_data, f'achilles_modelling.model_catalogue', project_id=project_id, if_exists='append',\n",
    "    table_schema=schema\n",
    ")\n"
   ]
  },
  {
   "cell_type": "code",
   "execution_count": null,
   "id": "69b4c868-6689-44a8-a604-5044685254c3",
   "metadata": {
    "scrolled": true
   },
   "outputs": [],
   "source": []
  },
  {
   "cell_type": "code",
   "execution_count": 104,
   "id": "41d963a5-71f7-481b-880d-0cd18baef79b",
   "metadata": {
    "scrolled": true,
    "tags": []
   },
   "outputs": [
    {
     "name": "stdout",
     "output_type": "stream",
     "text": [
      "Downloading: 100%|\u001b[32m█████████████████████████████████████████████████████████████\u001b[0m|\u001b[0m\n"
     ]
    },
    {
     "data": {
      "text/html": [
       "<div>\n",
       "<style scoped>\n",
       "    .dataframe tbody tr th:only-of-type {\n",
       "        vertical-align: middle;\n",
       "    }\n",
       "\n",
       "    .dataframe tbody tr th {\n",
       "        vertical-align: top;\n",
       "    }\n",
       "\n",
       "    .dataframe thead th {\n",
       "        text-align: right;\n",
       "    }\n",
       "</style>\n",
       "<table border=\"1\" class=\"dataframe\">\n",
       "  <thead>\n",
       "    <tr style=\"text-align: right;\">\n",
       "      <th></th>\n",
       "      <th>model_type</th>\n",
       "      <th>features</th>\n",
       "      <th>threshold</th>\n",
       "    </tr>\n",
       "  </thead>\n",
       "  <tbody>\n",
       "    <tr>\n",
       "      <th>0</th>\n",
       "      <td>non-geo</td>\n",
       "      <td>['jaro_winkler_name', 'jaro_winkler_name_local', 'jaro_winkler_name_local_transliterated', 'jaro_winkler_name_stop', 'jw_name_local_ascii_only', 'jw_name_local_nonascii_only', 'levenshtein_name_stop_phonetic', 'same_phone', 'tokenset_name', 'tokenset_n...</td>\n",
       "      <td>0.3</td>\n",
       "    </tr>\n",
       "    <tr>\n",
       "      <th>1</th>\n",
       "      <td>geo</td>\n",
       "      <td>['haversine', 'jaro_winkler_name', 'jaro_winkler_name_local', 'jaro_winkler_name_local_transliterated', 'jaro_winkler_name_stop', 'jw_name_local_ascii_only', 'jw_name_local_nonascii_only', 'levenshtein_name_stop_phonetic', 'same_phone', 'tokenset_name'...</td>\n",
       "      <td>0.5</td>\n",
       "    </tr>\n",
       "  </tbody>\n",
       "</table>\n",
       "</div>"
      ],
      "text/plain": [
       "  model_type  \\\n",
       "0    non-geo   \n",
       "1        geo   \n",
       "\n",
       "                                                                                                                                                                                                                                                          features  \\\n",
       "0  ['jaro_winkler_name', 'jaro_winkler_name_local', 'jaro_winkler_name_local_transliterated', 'jaro_winkler_name_stop', 'jw_name_local_ascii_only', 'jw_name_local_nonascii_only', 'levenshtein_name_stop_phonetic', 'same_phone', 'tokenset_name', 'tokenset_n...   \n",
       "1  ['haversine', 'jaro_winkler_name', 'jaro_winkler_name_local', 'jaro_winkler_name_local_transliterated', 'jaro_winkler_name_stop', 'jw_name_local_ascii_only', 'jw_name_local_nonascii_only', 'levenshtein_name_stop_phonetic', 'same_phone', 'tokenset_name'...   \n",
       "\n",
       "   threshold  \n",
       "0        0.3  \n",
       "1        0.5  "
      ]
     },
     "execution_count": 104,
     "metadata": {},
     "output_type": "execute_result"
    }
   ],
   "source": [
    "MODEL_ID = \"CZ\"\n",
    "RUN_NUMBER = \"3\"\n",
    "sql = f\"\"\"\n",
    "SELECT model_type, features, threshold\n",
    "FROM `achilles_modelling.model_catalogue`\n",
    "WHERE model_name = \"{MODEL_ID}\" and model_version = \"{RUN_NUMBER}\"\n",
    "\"\"\"\n",
    "\n",
    "feats = pandas_gbq.read_gbq(sql, project_id=\"dh-global-sales-data-dev\")\n",
    "feats"
   ]
  },
  {
   "cell_type": "code",
   "execution_count": 5,
   "id": "3ec182a3-490f-4f9f-b4d5-d125b78e9804",
   "metadata": {},
   "outputs": [
    {
     "data": {
      "text/html": [
       "<div>\n",
       "<style scoped>\n",
       "    .dataframe tbody tr th:only-of-type {\n",
       "        vertical-align: middle;\n",
       "    }\n",
       "\n",
       "    .dataframe tbody tr th {\n",
       "        vertical-align: top;\n",
       "    }\n",
       "\n",
       "    .dataframe thead th {\n",
       "        text-align: right;\n",
       "    }\n",
       "</style>\n",
       "<table border=\"1\" class=\"dataframe\">\n",
       "  <thead>\n",
       "    <tr style=\"text-align: right;\">\n",
       "      <th></th>\n",
       "      <th>left_lat</th>\n",
       "      <th>left_lng</th>\n",
       "      <th>right_lat</th>\n",
       "      <th>right_lng</th>\n",
       "      <th>label</th>\n",
       "      <th>cosine_name_stop</th>\n",
       "      <th>haversine</th>\n",
       "      <th>jaro_winkler_name</th>\n",
       "      <th>jaro_winkler_name_local</th>\n",
       "      <th>jaro_winkler_name_local_transliterated</th>\n",
       "      <th>jaro_winkler_name_reversed</th>\n",
       "      <th>jaro_winkler_name_stop</th>\n",
       "      <th>jw_name_local_ascii_only</th>\n",
       "      <th>jw_name_local_nonascii_only</th>\n",
       "      <th>levenshtein_name_stop_phonetic</th>\n",
       "      <th>levenshtein_street_stop_phonetic</th>\n",
       "      <th>same_phone</th>\n",
       "      <th>tokenset_name</th>\n",
       "      <th>tokenset_name_legal</th>\n",
       "      <th>tokenset_name_local</th>\n",
       "      <th>tokenset_name_local_ascii_only</th>\n",
       "      <th>tokenset_name_local_nonascii_only</th>\n",
       "      <th>tokenset_name_local_transliterated</th>\n",
       "      <th>tokenset_name_stop</th>\n",
       "      <th>tokenset_street_number</th>\n",
       "      <th>tokenset_street_stop</th>\n",
       "      <th>wratio_name</th>\n",
       "      <th>wratio_name_stop</th>\n",
       "      <th>wratio_street</th>\n",
       "      <th>wratio_street_number</th>\n",
       "      <th>wratio_street_stop</th>\n",
       "    </tr>\n",
       "  </thead>\n",
       "  <tbody>\n",
       "    <tr>\n",
       "      <th>count</th>\n",
       "      <td>3050.000000</td>\n",
       "      <td>3050.000000</td>\n",
       "      <td>3067.000000</td>\n",
       "      <td>3067.000000</td>\n",
       "      <td>3085.000000</td>\n",
       "      <td>3.085000e+03</td>\n",
       "      <td>3032.000000</td>\n",
       "      <td>3085.000000</td>\n",
       "      <td>3085.000000</td>\n",
       "      <td>3085.000000</td>\n",
       "      <td>3085.000000</td>\n",
       "      <td>3085.000000</td>\n",
       "      <td>3085.000000</td>\n",
       "      <td>3085.000000</td>\n",
       "      <td>3085.000000</td>\n",
       "      <td>3085.000000</td>\n",
       "      <td>3085.000000</td>\n",
       "      <td>3085.000000</td>\n",
       "      <td>3085.000000</td>\n",
       "      <td>3085.000000</td>\n",
       "      <td>3085.000000</td>\n",
       "      <td>3085.0</td>\n",
       "      <td>3085.000000</td>\n",
       "      <td>3085.000000</td>\n",
       "      <td>0.0</td>\n",
       "      <td>3085.000000</td>\n",
       "      <td>3085.000000</td>\n",
       "      <td>3085.000000</td>\n",
       "      <td>3085.000000</td>\n",
       "      <td>0.0</td>\n",
       "      <td>3085.000000</td>\n",
       "    </tr>\n",
       "    <tr>\n",
       "      <th>mean</th>\n",
       "      <td>49.957817</td>\n",
       "      <td>15.092072</td>\n",
       "      <td>49.961677</td>\n",
       "      <td>15.104277</td>\n",
       "      <td>0.211994</td>\n",
       "      <td>3.256330e-01</td>\n",
       "      <td>0.510252</td>\n",
       "      <td>0.770063</td>\n",
       "      <td>0.769543</td>\n",
       "      <td>0.769543</td>\n",
       "      <td>0.731918</td>\n",
       "      <td>0.598265</td>\n",
       "      <td>0.768714</td>\n",
       "      <td>0.015935</td>\n",
       "      <td>0.381822</td>\n",
       "      <td>0.504926</td>\n",
       "      <td>0.053809</td>\n",
       "      <td>0.753392</td>\n",
       "      <td>0.191839</td>\n",
       "      <td>0.753392</td>\n",
       "      <td>0.637227</td>\n",
       "      <td>0.0</td>\n",
       "      <td>0.753392</td>\n",
       "      <td>0.533162</td>\n",
       "      <td>NaN</td>\n",
       "      <td>0.615586</td>\n",
       "      <td>0.760952</td>\n",
       "      <td>0.568791</td>\n",
       "      <td>0.621672</td>\n",
       "      <td>NaN</td>\n",
       "      <td>0.620924</td>\n",
       "    </tr>\n",
       "    <tr>\n",
       "      <th>std</th>\n",
       "      <td>0.416867</td>\n",
       "      <td>1.341495</td>\n",
       "      <td>0.421606</td>\n",
       "      <td>1.342137</td>\n",
       "      <td>0.408787</td>\n",
       "      <td>3.547345e-01</td>\n",
       "      <td>0.941924</td>\n",
       "      <td>0.141032</td>\n",
       "      <td>0.140751</td>\n",
       "      <td>0.140751</td>\n",
       "      <td>0.147416</td>\n",
       "      <td>0.272071</td>\n",
       "      <td>0.141551</td>\n",
       "      <td>0.124393</td>\n",
       "      <td>0.324058</td>\n",
       "      <td>0.391920</td>\n",
       "      <td>0.225676</td>\n",
       "      <td>0.157553</td>\n",
       "      <td>0.216603</td>\n",
       "      <td>0.157553</td>\n",
       "      <td>0.158650</td>\n",
       "      <td>0.0</td>\n",
       "      <td>0.157553</td>\n",
       "      <td>0.341226</td>\n",
       "      <td>NaN</td>\n",
       "      <td>0.325416</td>\n",
       "      <td>0.140661</td>\n",
       "      <td>0.299559</td>\n",
       "      <td>0.281515</td>\n",
       "      <td>NaN</td>\n",
       "      <td>0.283054</td>\n",
       "    </tr>\n",
       "    <tr>\n",
       "      <th>min</th>\n",
       "      <td>48.639000</td>\n",
       "      <td>12.369900</td>\n",
       "      <td>48.645750</td>\n",
       "      <td>12.369010</td>\n",
       "      <td>0.000000</td>\n",
       "      <td>-6.661338e-16</td>\n",
       "      <td>0.000000</td>\n",
       "      <td>0.000000</td>\n",
       "      <td>0.000000</td>\n",
       "      <td>0.000000</td>\n",
       "      <td>0.000000</td>\n",
       "      <td>0.000000</td>\n",
       "      <td>0.000000</td>\n",
       "      <td>0.000000</td>\n",
       "      <td>0.000000</td>\n",
       "      <td>0.000000</td>\n",
       "      <td>0.000000</td>\n",
       "      <td>0.000000</td>\n",
       "      <td>0.000000</td>\n",
       "      <td>0.000000</td>\n",
       "      <td>0.000000</td>\n",
       "      <td>0.0</td>\n",
       "      <td>0.000000</td>\n",
       "      <td>0.000000</td>\n",
       "      <td>NaN</td>\n",
       "      <td>0.000000</td>\n",
       "      <td>0.000000</td>\n",
       "      <td>0.000000</td>\n",
       "      <td>0.083333</td>\n",
       "      <td>NaN</td>\n",
       "      <td>0.000000</td>\n",
       "    </tr>\n",
       "    <tr>\n",
       "      <th>25%</th>\n",
       "      <td>49.830325</td>\n",
       "      <td>14.420725</td>\n",
       "      <td>49.829625</td>\n",
       "      <td>14.420552</td>\n",
       "      <td>0.000000</td>\n",
       "      <td>2.483935e-02</td>\n",
       "      <td>0.054683</td>\n",
       "      <td>0.656667</td>\n",
       "      <td>0.655556</td>\n",
       "      <td>0.655556</td>\n",
       "      <td>0.634270</td>\n",
       "      <td>0.454545</td>\n",
       "      <td>0.656277</td>\n",
       "      <td>0.000000</td>\n",
       "      <td>0.125000</td>\n",
       "      <td>0.166667</td>\n",
       "      <td>0.000000</td>\n",
       "      <td>0.689655</td>\n",
       "      <td>0.000000</td>\n",
       "      <td>0.689655</td>\n",
       "      <td>0.533333</td>\n",
       "      <td>0.0</td>\n",
       "      <td>0.689655</td>\n",
       "      <td>0.222222</td>\n",
       "      <td>NaN</td>\n",
       "      <td>0.307692</td>\n",
       "      <td>0.678571</td>\n",
       "      <td>0.327273</td>\n",
       "      <td>0.357143</td>\n",
       "      <td>NaN</td>\n",
       "      <td>0.357143</td>\n",
       "    </tr>\n",
       "    <tr>\n",
       "      <th>50%</th>\n",
       "      <td>50.075268</td>\n",
       "      <td>14.452100</td>\n",
       "      <td>50.075347</td>\n",
       "      <td>14.453102</td>\n",
       "      <td>0.000000</td>\n",
       "      <td>1.058164e-01</td>\n",
       "      <td>0.274579</td>\n",
       "      <td>0.794809</td>\n",
       "      <td>0.794375</td>\n",
       "      <td>0.794375</td>\n",
       "      <td>0.708333</td>\n",
       "      <td>0.577778</td>\n",
       "      <td>0.790491</td>\n",
       "      <td>0.000000</td>\n",
       "      <td>0.300000</td>\n",
       "      <td>0.333333</td>\n",
       "      <td>0.000000</td>\n",
       "      <td>0.744186</td>\n",
       "      <td>0.190476</td>\n",
       "      <td>0.744186</td>\n",
       "      <td>0.631579</td>\n",
       "      <td>0.0</td>\n",
       "      <td>0.744186</td>\n",
       "      <td>0.461538</td>\n",
       "      <td>NaN</td>\n",
       "      <td>0.518519</td>\n",
       "      <td>0.764706</td>\n",
       "      <td>0.514286</td>\n",
       "      <td>0.540000</td>\n",
       "      <td>NaN</td>\n",
       "      <td>0.540000</td>\n",
       "    </tr>\n",
       "    <tr>\n",
       "      <th>75%</th>\n",
       "      <td>50.093809</td>\n",
       "      <td>15.762700</td>\n",
       "      <td>50.092813</td>\n",
       "      <td>15.768739</td>\n",
       "      <td>0.000000</td>\n",
       "      <td>5.940314e-01</td>\n",
       "      <td>0.740281</td>\n",
       "      <td>0.881287</td>\n",
       "      <td>0.880769</td>\n",
       "      <td>0.880769</td>\n",
       "      <td>0.859316</td>\n",
       "      <td>0.811429</td>\n",
       "      <td>0.880000</td>\n",
       "      <td>0.000000</td>\n",
       "      <td>0.583333</td>\n",
       "      <td>1.000000</td>\n",
       "      <td>0.000000</td>\n",
       "      <td>0.833333</td>\n",
       "      <td>0.333333</td>\n",
       "      <td>0.833333</td>\n",
       "      <td>0.720000</td>\n",
       "      <td>0.0</td>\n",
       "      <td>0.833333</td>\n",
       "      <td>0.869565</td>\n",
       "      <td>NaN</td>\n",
       "      <td>1.000000</td>\n",
       "      <td>0.855000</td>\n",
       "      <td>0.855000</td>\n",
       "      <td>0.900000</td>\n",
       "      <td>NaN</td>\n",
       "      <td>0.900000</td>\n",
       "    </tr>\n",
       "    <tr>\n",
       "      <th>max</th>\n",
       "      <td>50.907600</td>\n",
       "      <td>18.650700</td>\n",
       "      <td>50.907676</td>\n",
       "      <td>18.671247</td>\n",
       "      <td>1.000000</td>\n",
       "      <td>1.000000e+00</td>\n",
       "      <td>30.970836</td>\n",
       "      <td>1.000000</td>\n",
       "      <td>1.000000</td>\n",
       "      <td>1.000000</td>\n",
       "      <td>1.000000</td>\n",
       "      <td>1.000000</td>\n",
       "      <td>1.000000</td>\n",
       "      <td>1.000000</td>\n",
       "      <td>1.000000</td>\n",
       "      <td>1.000000</td>\n",
       "      <td>1.000000</td>\n",
       "      <td>1.000000</td>\n",
       "      <td>1.000000</td>\n",
       "      <td>1.000000</td>\n",
       "      <td>1.000000</td>\n",
       "      <td>0.0</td>\n",
       "      <td>1.000000</td>\n",
       "      <td>1.000000</td>\n",
       "      <td>NaN</td>\n",
       "      <td>1.000000</td>\n",
       "      <td>1.000000</td>\n",
       "      <td>1.000000</td>\n",
       "      <td>1.000000</td>\n",
       "      <td>NaN</td>\n",
       "      <td>1.000000</td>\n",
       "    </tr>\n",
       "  </tbody>\n",
       "</table>\n",
       "</div>"
      ],
      "text/plain": [
       "          left_lat     left_lng    right_lat    right_lng        label  \\\n",
       "count  3050.000000  3050.000000  3067.000000  3067.000000  3085.000000   \n",
       "mean     49.957817    15.092072    49.961677    15.104277     0.211994   \n",
       "std       0.416867     1.341495     0.421606     1.342137     0.408787   \n",
       "min      48.639000    12.369900    48.645750    12.369010     0.000000   \n",
       "25%      49.830325    14.420725    49.829625    14.420552     0.000000   \n",
       "50%      50.075268    14.452100    50.075347    14.453102     0.000000   \n",
       "75%      50.093809    15.762700    50.092813    15.768739     0.000000   \n",
       "max      50.907600    18.650700    50.907676    18.671247     1.000000   \n",
       "\n",
       "       cosine_name_stop    haversine  jaro_winkler_name  \\\n",
       "count      3.085000e+03  3032.000000        3085.000000   \n",
       "mean       3.256330e-01     0.510252           0.770063   \n",
       "std        3.547345e-01     0.941924           0.141032   \n",
       "min       -6.661338e-16     0.000000           0.000000   \n",
       "25%        2.483935e-02     0.054683           0.656667   \n",
       "50%        1.058164e-01     0.274579           0.794809   \n",
       "75%        5.940314e-01     0.740281           0.881287   \n",
       "max        1.000000e+00    30.970836           1.000000   \n",
       "\n",
       "       jaro_winkler_name_local  jaro_winkler_name_local_transliterated  \\\n",
       "count              3085.000000                             3085.000000   \n",
       "mean                  0.769543                                0.769543   \n",
       "std                   0.140751                                0.140751   \n",
       "min                   0.000000                                0.000000   \n",
       "25%                   0.655556                                0.655556   \n",
       "50%                   0.794375                                0.794375   \n",
       "75%                   0.880769                                0.880769   \n",
       "max                   1.000000                                1.000000   \n",
       "\n",
       "       jaro_winkler_name_reversed  jaro_winkler_name_stop  \\\n",
       "count                 3085.000000             3085.000000   \n",
       "mean                     0.731918                0.598265   \n",
       "std                      0.147416                0.272071   \n",
       "min                      0.000000                0.000000   \n",
       "25%                      0.634270                0.454545   \n",
       "50%                      0.708333                0.577778   \n",
       "75%                      0.859316                0.811429   \n",
       "max                      1.000000                1.000000   \n",
       "\n",
       "       jw_name_local_ascii_only  jw_name_local_nonascii_only  \\\n",
       "count               3085.000000                  3085.000000   \n",
       "mean                   0.768714                     0.015935   \n",
       "std                    0.141551                     0.124393   \n",
       "min                    0.000000                     0.000000   \n",
       "25%                    0.656277                     0.000000   \n",
       "50%                    0.790491                     0.000000   \n",
       "75%                    0.880000                     0.000000   \n",
       "max                    1.000000                     1.000000   \n",
       "\n",
       "       levenshtein_name_stop_phonetic  levenshtein_street_stop_phonetic  \\\n",
       "count                     3085.000000                       3085.000000   \n",
       "mean                         0.381822                          0.504926   \n",
       "std                          0.324058                          0.391920   \n",
       "min                          0.000000                          0.000000   \n",
       "25%                          0.125000                          0.166667   \n",
       "50%                          0.300000                          0.333333   \n",
       "75%                          0.583333                          1.000000   \n",
       "max                          1.000000                          1.000000   \n",
       "\n",
       "        same_phone  tokenset_name  tokenset_name_legal  tokenset_name_local  \\\n",
       "count  3085.000000    3085.000000          3085.000000          3085.000000   \n",
       "mean      0.053809       0.753392             0.191839             0.753392   \n",
       "std       0.225676       0.157553             0.216603             0.157553   \n",
       "min       0.000000       0.000000             0.000000             0.000000   \n",
       "25%       0.000000       0.689655             0.000000             0.689655   \n",
       "50%       0.000000       0.744186             0.190476             0.744186   \n",
       "75%       0.000000       0.833333             0.333333             0.833333   \n",
       "max       1.000000       1.000000             1.000000             1.000000   \n",
       "\n",
       "       tokenset_name_local_ascii_only  tokenset_name_local_nonascii_only  \\\n",
       "count                     3085.000000                             3085.0   \n",
       "mean                         0.637227                                0.0   \n",
       "std                          0.158650                                0.0   \n",
       "min                          0.000000                                0.0   \n",
       "25%                          0.533333                                0.0   \n",
       "50%                          0.631579                                0.0   \n",
       "75%                          0.720000                                0.0   \n",
       "max                          1.000000                                0.0   \n",
       "\n",
       "       tokenset_name_local_transliterated  tokenset_name_stop  \\\n",
       "count                         3085.000000         3085.000000   \n",
       "mean                             0.753392            0.533162   \n",
       "std                              0.157553            0.341226   \n",
       "min                              0.000000            0.000000   \n",
       "25%                              0.689655            0.222222   \n",
       "50%                              0.744186            0.461538   \n",
       "75%                              0.833333            0.869565   \n",
       "max                              1.000000            1.000000   \n",
       "\n",
       "       tokenset_street_number  tokenset_street_stop  wratio_name  \\\n",
       "count                     0.0           3085.000000  3085.000000   \n",
       "mean                      NaN              0.615586     0.760952   \n",
       "std                       NaN              0.325416     0.140661   \n",
       "min                       NaN              0.000000     0.000000   \n",
       "25%                       NaN              0.307692     0.678571   \n",
       "50%                       NaN              0.518519     0.764706   \n",
       "75%                       NaN              1.000000     0.855000   \n",
       "max                       NaN              1.000000     1.000000   \n",
       "\n",
       "       wratio_name_stop  wratio_street  wratio_street_number  \\\n",
       "count       3085.000000    3085.000000                   0.0   \n",
       "mean           0.568791       0.621672                   NaN   \n",
       "std            0.299559       0.281515                   NaN   \n",
       "min            0.000000       0.083333                   NaN   \n",
       "25%            0.327273       0.357143                   NaN   \n",
       "50%            0.514286       0.540000                   NaN   \n",
       "75%            0.855000       0.900000                   NaN   \n",
       "max            1.000000       1.000000                   NaN   \n",
       "\n",
       "       wratio_street_stop  \n",
       "count         3085.000000  \n",
       "mean             0.620924  \n",
       "std              0.283054  \n",
       "min              0.000000  \n",
       "25%              0.357143  \n",
       "50%              0.540000  \n",
       "75%              0.900000  \n",
       "max              1.000000  "
      ]
     },
     "execution_count": 5,
     "metadata": {},
     "output_type": "execute_result"
    }
   ],
   "source": [
    "df.describe()"
   ]
  },
  {
   "cell_type": "code",
   "execution_count": null,
   "id": "18fb5796-2671-4df2-8753-1f660d3ca28e",
   "metadata": {},
   "outputs": [],
   "source": []
  },
  {
   "cell_type": "code",
   "execution_count": 1,
   "id": "ce1e26d0-8cc5-4947-9e7f-d2a09ae0e89f",
   "metadata": {},
   "outputs": [
    {
     "name": "stderr",
     "output_type": "stream",
     "text": [
      "2023-10-26 12:42:28,479 - achilles - WARNING - Usage of /Users/a.mandal/software/gsd-match-vertex/achilles/feature.py has been deprecated.Use achilles/feature_pyspark.py module instead.\n"
     ]
    },
    {
     "name": "stdout",
     "output_type": "stream",
     "text": [
      "> \u001b[0;32m/Users/a.mandal/software/gsd-match-vertex/achilles/vertex/config.py\u001b[0m(195)\u001b[0;36mget\u001b[0;34m()\u001b[0m\n",
      "\u001b[0;32m    194 \u001b[0;31m        \u001b[0mipdb\u001b[0m\u001b[0;34m.\u001b[0m\u001b[0mset_trace\u001b[0m\u001b[0;34m(\u001b[0m\u001b[0;34m)\u001b[0m\u001b[0;34m\u001b[0m\u001b[0;34m\u001b[0m\u001b[0m\n",
      "\u001b[0m\u001b[0;32m--> 195 \u001b[0;31m        \u001b[0;32mreturn\u001b[0m \u001b[0mPipelineRuntimeConfig\u001b[0m\u001b[0;34m.\u001b[0m\u001b[0mparse_obj\u001b[0m\u001b[0;34m(\u001b[0m\u001b[0mextended_config\u001b[0m\u001b[0;34m)\u001b[0m\u001b[0;34m\u001b[0m\u001b[0;34m\u001b[0m\u001b[0m\n",
      "\u001b[0m\u001b[0;32m    196 \u001b[0;31m\u001b[0;34m\u001b[0m\u001b[0m\n",
      "\u001b[0m\n"
     ]
    },
    {
     "name": "stdin",
     "output_type": "stream",
     "text": [
      "ipdb>  extended_config\n"
     ]
    },
    {
     "name": "stdout",
     "output_type": "stream",
     "text": [
      "{'default': {'location': 'us-central1', 'bq_location': 'US', 'leads_input_data_table': 'dh-global-sales-data.leadgen_cl.vendor_complete', 'bq_dataset': {'full': 'leadgen_sf_match_vertex_raw', 'delta': 'leadgen_sf_match_vertex_delta_raw'}, 'project': 'dh-global-sales-data-dev', 'bq_project': 'dh-global-sales-data-dev'}, 'input_left': {'output': {'table': 'left_leadgen'}, 'default': {'location': 'us-central1', 'bq_location': 'US', 'leads_input_data_table': 'dh-global-sales-data.leadgen_cl.vendor_complete', 'bq_dataset': {'full': 'leadgen_sf_match_vertex_raw', 'delta': 'leadgen_sf_match_vertex_delta_raw'}, 'project': 'dh-global-sales-data-dev', 'bq_project': 'dh-global-sales-data-dev'}, 'context': {'global_entity_id': 'PY_AR', 'run_type': 'full', 'version': None}}, 'input_right': {'output': {'table': 'right_sf'}, 'default': {'location': 'us-central1', 'bq_location': 'US', 'leads_input_data_table': 'dh-global-sales-data.leadgen_cl.vendor_complete', 'bq_dataset': {'full': 'leadgen_sf_match_vertex_raw', 'delta': 'leadgen_sf_match_vertex_delta_raw'}, 'project': 'dh-global-sales-data-dev', 'bq_project': 'dh-global-sales-data-dev'}, 'context': {'global_entity_id': 'PY_AR', 'run_type': 'full', 'version': None}}, 'preprocess_left': {'output': {'table': 'left_processed'}, 'default': {'location': 'us-central1', 'bq_location': 'US', 'leads_input_data_table': 'dh-global-sales-data.leadgen_cl.vendor_complete', 'bq_dataset': {'full': 'leadgen_sf_match_vertex_raw', 'delta': 'leadgen_sf_match_vertex_delta_raw'}, 'project': 'dh-global-sales-data-dev', 'bq_project': 'dh-global-sales-data-dev'}, 'context': {'global_entity_id': 'PY_AR', 'run_type': 'full', 'version': None}}, 'preprocess_right': {'output': {'table': 'right_processed'}, 'default': {'location': 'us-central1', 'bq_location': 'US', 'leads_input_data_table': 'dh-global-sales-data.leadgen_cl.vendor_complete', 'bq_dataset': {'full': 'leadgen_sf_match_vertex_raw', 'delta': 'leadgen_sf_match_vertex_delta_raw'}, 'project': 'dh-global-sales-data-dev', 'bq_project': 'dh-global-sales-data-dev'}, 'context': {'global_entity_id': 'PY_AR', 'run_type': 'full', 'version': None}}, 'candidate_generation': {'output': {'table': 'candidates'}, 'candidate_comparator': 'token_set_ratio_levenshtein', 'h3_resolution': 8, 'h3_kring': 2, 'city_h3_resolution': 5, 'city_h3_kring': 2, 'tokenset_name_candidate_threshold': 0.5, 'shard_total': {'geo_geo': 1, 'geo_non': 3, 'non_all': 1, 'union': 1}, 'stages': ['geo_geo', 'geo_non', 'non_all', 'union'], 'default': {'location': 'us-central1', 'bq_location': 'US', 'leads_input_data_table': 'dh-global-sales-data.leadgen_cl.vendor_complete', 'bq_dataset': {'full': 'leadgen_sf_match_vertex_raw', 'delta': 'leadgen_sf_match_vertex_delta_raw'}, 'project': 'dh-global-sales-data-dev', 'bq_project': 'dh-global-sales-data-dev'}, 'context': {'global_entity_id': 'PY_AR', 'run_type': 'full', 'version': None}}, 'build_features': {'output': {'table': 'features'}, 'pyspark': {'image': 'gsd-vendor-match/features-pyspark:latest', 'runtime_config_version': '2.0', 'main_python_file_uri': 'file:///opt/python/packages/achilles/scripts/build_features_pyspark.py', 'jar_file_uris': ['gs://spark-lib/bigquery/spark-3.1-bigquery-0.28.0-preview.jar'], 'subnetwork': 'vpc-network', 'num_executor_instances': '10', 'num_driver_cores': '4', 'num_executor_cores': '4', 'executor_allocation_ratio': '0.3', 'max_executors': '150'}, 'default': {'location': 'us-central1', 'bq_location': 'US', 'leads_input_data_table': 'dh-global-sales-data.leadgen_cl.vendor_complete', 'bq_dataset': {'full': 'leadgen_sf_match_vertex_raw', 'delta': 'leadgen_sf_match_vertex_delta_raw'}, 'project': 'dh-global-sales-data-dev', 'bq_project': 'dh-global-sales-data-dev'}, 'context': {'global_entity_id': 'PY_AR', 'run_type': 'full', 'version': None}}, 'predict': {'output': {'table': 'matched'}, 'model_bq_dataset': 'achilles', 'append_output': False, 'match_cache_output': {'dataset': 'cl_saleslayer', 'table': 'matching_predict_cache'}, 'default': {'location': 'us-central1', 'bq_location': 'US', 'leads_input_data_table': 'dh-global-sales-data.leadgen_cl.vendor_complete', 'bq_dataset': {'full': 'leadgen_sf_match_vertex_raw', 'delta': 'leadgen_sf_match_vertex_delta_raw'}, 'project': 'dh-global-sales-data-dev', 'bq_project': 'dh-global-sales-data-dev'}, 'context': {'global_entity_id': 'PY_AR', 'run_type': 'full', 'version': None}}, 'postprocess': {'output': {'table': 'leadgen_sf_match', 'dataset': 'leadgen_sf_match_vertex_cl'}, 'working': {'dataset': 'leadgen_sf_match_vertex_raw', 'table': 'postprocess_working'}, 'default': {'location': 'us-central1', 'bq_location': 'US', 'leads_input_data_table': 'dh-global-sales-data.leadgen_cl.vendor_complete', 'bq_dataset': {'full': 'leadgen_sf_match_vertex_raw', 'delta': 'leadgen_sf_match_vertex_delta_raw'}, 'project': 'dh-global-sales-data-dev', 'bq_project': 'dh-global-sales-data-dev'}, 'context': {'global_entity_id': 'PY_AR', 'run_type': 'full', 'version': None}}, 'postprocess_shops': {'output': {'table': 'shops_leadgen_sf_match', 'dataset': 'leadgen_sf_match_vertex_cl'}, 'working': {'dataset': 'leadgen_sf_match_vertex_raw', 'table': 'shops_postprocess_working'}, 'default': {'location': 'us-central1', 'bq_location': 'US', 'leads_input_data_table': 'dh-global-sales-data.leadgen_cl.vendor_complete', 'bq_dataset': {'full': 'leadgen_sf_match_vertex_raw', 'delta': 'leadgen_sf_match_vertex_delta_raw'}, 'project': 'dh-global-sales-data-dev', 'bq_project': 'dh-global-sales-data-dev'}, 'context': {'global_entity_id': 'PY_AR', 'run_type': 'full', 'version': None}}, 'brand_match': {'output': {'table': 'leadgen_brand_match', 'dataset': 'leadgen_sf_match_vertex_cl'}, 'threshold': 0.8, 'default': {'location': 'us-central1', 'bq_location': 'US', 'leads_input_data_table': 'dh-global-sales-data.leadgen_cl.vendor_complete', 'bq_dataset': {'full': 'leadgen_sf_match_vertex_raw', 'delta': 'leadgen_sf_match_vertex_delta_raw'}, 'project': 'dh-global-sales-data-dev', 'bq_project': 'dh-global-sales-data-dev'}, 'context': {'global_entity_id': 'PY_AR', 'run_type': 'full', 'version': None}}, 'labels': {'dh_app': 'vendor-matching', 'dh_cc_id': '1001025045', 'dh_env': 'dev'}, 'preprocessing': {'cpu': 4, 'memory': 16000, 'default': {'location': 'us-central1', 'bq_location': 'US', 'leads_input_data_table': 'dh-global-sales-data.leadgen_cl.vendor_complete', 'bq_dataset': {'full': 'leadgen_sf_match_vertex_raw', 'delta': 'leadgen_sf_match_vertex_delta_raw'}, 'project': 'dh-global-sales-data-dev', 'bq_project': 'dh-global-sales-data-dev'}, 'context': {'global_entity_id': 'PY_AR', 'run_type': 'full', 'version': None}}}\n"
     ]
    },
    {
     "name": "stdin",
     "output_type": "stream",
     "text": [
      "ipdb>  q\n"
     ]
    }
   ],
   "source": [
    "from achilles.vertex.config import PipelineRuntimeConfigFactory\n",
    "from pathlib import Path\n",
    "\n",
    "ENVIRONMENT = \"dev\"\n",
    "REGION = \"latam\"\n",
    "RUN_TYPE = \"full\"\n",
    "CONFIG_ROOT_PATH = Path( \"/Users/a.mandal/software/gsd-match-vertex/configurations/\")\n",
    "GLOBAL_ENTITY_ID = \"PY_AR\"\n",
    "GLOBAL_ENTITY_ID_2 = \"PQ_RS\"\n",
    "\n",
    "config = PipelineRuntimeConfigFactory(\n",
    "        environment=ENVIRONMENT,\n",
    "        region=REGION,\n",
    "        global_entity_id=GLOBAL_ENTITY_ID,\n",
    "        run_type=RUN_TYPE,\n",
    "        root_dir=CONFIG_ROOT_PATH,\n",
    "    )\n",
    "print(config.get())"
   ]
  },
  {
   "cell_type": "code",
   "execution_count": 3,
   "id": "df1467fc-e95c-4a80-bc72-baa2fb9cd8e1",
   "metadata": {},
   "outputs": [
    {
     "data": {
      "application/json": {
       "brand_match": {
        "context": {
         "global_entity_id": "PY_AR",
         "run_type": "full",
         "version": null
        },
        "default": {
         "bq_dataset": {
          "delta": "leadgen_sf_match_vertex_delta_raw",
          "full": "leadgen_sf_match_vertex_raw"
         },
         "bq_location": "US",
         "bq_project": "dh-global-sales-data-dev",
         "leads_input_data_table": "dh-global-sales-data.leadgen_cl.vendor_complete",
         "location": "us-central1",
         "project": "dh-global-sales-data-dev"
        },
        "output": {
         "dataset": "leadgen_sf_match_vertex_cl",
         "table": "leadgen_brand_match"
        },
        "threshold": 0.8
       },
       "build_features": {
        "context": {
         "global_entity_id": "PY_AR",
         "run_type": "full",
         "version": null
        },
        "default": {
         "bq_dataset": {
          "delta": "leadgen_sf_match_vertex_delta_raw",
          "full": "leadgen_sf_match_vertex_raw"
         },
         "bq_location": "US",
         "bq_project": "dh-global-sales-data-dev",
         "leads_input_data_table": "dh-global-sales-data.leadgen_cl.vendor_complete",
         "location": "us-central1",
         "project": "dh-global-sales-data-dev"
        },
        "output": {
         "table": "features"
        },
        "pyspark": {
         "executor_allocation_ratio": "0.3",
         "image": "gsd-vendor-match/features-pyspark:latest",
         "jar_file_uris": [
          "gs://spark-lib/bigquery/spark-3.1-bigquery-0.28.0-preview.jar"
         ],
         "main_python_file_uri": "file:///opt/python/packages/achilles/scripts/build_features_pyspark.py",
         "max_executors": "150",
         "num_driver_cores": "4",
         "num_executor_cores": "4",
         "num_executor_instances": "10",
         "runtime_config_version": "2.0",
         "subnetwork": "vpc-network"
        }
       },
       "candidate_generation": {
        "candidate_comparator": "token_set_ratio_levenshtein",
        "city_h3_kring": 2,
        "city_h3_resolution": 5,
        "context": {
         "global_entity_id": "PY_AR",
         "run_type": "full",
         "version": null
        },
        "default": {
         "bq_dataset": {
          "delta": "leadgen_sf_match_vertex_delta_raw",
          "full": "leadgen_sf_match_vertex_raw"
         },
         "bq_location": "US",
         "bq_project": "dh-global-sales-data-dev",
         "leads_input_data_table": "dh-global-sales-data.leadgen_cl.vendor_complete",
         "location": "us-central1",
         "project": "dh-global-sales-data-dev"
        },
        "h3_kring": 2,
        "h3_resolution": 8,
        "output": {
         "table": "candidates"
        },
        "shard_total": {
         "geo_geo": 1,
         "geo_non": 3,
         "non_all": 1,
         "union": 1
        },
        "stages": [
         "geo_geo",
         "geo_non",
         "non_all",
         "union"
        ],
        "tokenset_name_candidate_threshold": 0.5
       },
       "default": {
        "bq_dataset": {
         "delta": "leadgen_sf_match_vertex_delta_raw",
         "full": "leadgen_sf_match_vertex_raw"
        },
        "bq_location": "US",
        "bq_project": "dh-global-sales-data-dev",
        "leads_input_data_table": "dh-global-sales-data.leadgen_cl.vendor_complete",
        "location": "us-central1",
        "project": "dh-global-sales-data-dev"
       },
       "input_left": {
        "context": {
         "global_entity_id": "PY_AR",
         "run_type": "full",
         "version": null
        },
        "default": {
         "bq_dataset": {
          "delta": "leadgen_sf_match_vertex_delta_raw",
          "full": "leadgen_sf_match_vertex_raw"
         },
         "bq_location": "US",
         "bq_project": "dh-global-sales-data-dev",
         "leads_input_data_table": "dh-global-sales-data.leadgen_cl.vendor_complete",
         "location": "us-central1",
         "project": "dh-global-sales-data-dev"
        },
        "output": {
         "table": "left_leadgen"
        }
       },
       "input_right": {
        "context": {
         "global_entity_id": "PY_AR",
         "run_type": "full",
         "version": null
        },
        "default": {
         "bq_dataset": {
          "delta": "leadgen_sf_match_vertex_delta_raw",
          "full": "leadgen_sf_match_vertex_raw"
         },
         "bq_location": "US",
         "bq_project": "dh-global-sales-data-dev",
         "leads_input_data_table": "dh-global-sales-data.leadgen_cl.vendor_complete",
         "location": "us-central1",
         "project": "dh-global-sales-data-dev"
        },
        "output": {
         "table": "right_sf"
        }
       },
       "labels": {
        "dh_app": "vendor-matching",
        "dh_cc_id": "1001025045",
        "dh_env": "dev"
       },
       "postprocess": {
        "context": {
         "global_entity_id": "PY_AR",
         "run_type": "full",
         "version": null
        },
        "default": {
         "bq_dataset": {
          "delta": "leadgen_sf_match_vertex_delta_raw",
          "full": "leadgen_sf_match_vertex_raw"
         },
         "bq_location": "US",
         "bq_project": "dh-global-sales-data-dev",
         "leads_input_data_table": "dh-global-sales-data.leadgen_cl.vendor_complete",
         "location": "us-central1",
         "project": "dh-global-sales-data-dev"
        },
        "output": {
         "dataset": "leadgen_sf_match_vertex_cl",
         "table": "leadgen_sf_match"
        },
        "working": {
         "dataset": "leadgen_sf_match_vertex_raw",
         "table": "postprocess_working"
        }
       },
       "postprocess_shops": {
        "context": {
         "global_entity_id": "PY_AR",
         "run_type": "full",
         "version": null
        },
        "default": {
         "bq_dataset": {
          "delta": "leadgen_sf_match_vertex_delta_raw",
          "full": "leadgen_sf_match_vertex_raw"
         },
         "bq_location": "US",
         "bq_project": "dh-global-sales-data-dev",
         "leads_input_data_table": "dh-global-sales-data.leadgen_cl.vendor_complete",
         "location": "us-central1",
         "project": "dh-global-sales-data-dev"
        },
        "output": {
         "dataset": "leadgen_sf_match_vertex_cl",
         "table": "shops_leadgen_sf_match"
        },
        "working": {
         "dataset": "leadgen_sf_match_vertex_raw",
         "table": "shops_postprocess_working"
        }
       },
       "predict": {
        "append_output": false,
        "context": {
         "global_entity_id": "PY_AR",
         "run_type": "full",
         "version": null
        },
        "default": {
         "bq_dataset": {
          "delta": "leadgen_sf_match_vertex_delta_raw",
          "full": "leadgen_sf_match_vertex_raw"
         },
         "bq_location": "US",
         "bq_project": "dh-global-sales-data-dev",
         "leads_input_data_table": "dh-global-sales-data.leadgen_cl.vendor_complete",
         "location": "us-central1",
         "project": "dh-global-sales-data-dev"
        },
        "match_cache_output": {
         "dataset": "cl_saleslayer",
         "table": "matching_predict_cache"
        },
        "model_bq_dataset": "achilles",
        "output": {
         "table": "matched"
        }
       },
       "preprocess_left": {
        "context": {
         "global_entity_id": "PY_AR",
         "run_type": "full",
         "version": null
        },
        "default": {
         "bq_dataset": {
          "delta": "leadgen_sf_match_vertex_delta_raw",
          "full": "leadgen_sf_match_vertex_raw"
         },
         "bq_location": "US",
         "bq_project": "dh-global-sales-data-dev",
         "leads_input_data_table": "dh-global-sales-data.leadgen_cl.vendor_complete",
         "location": "us-central1",
         "project": "dh-global-sales-data-dev"
        },
        "output": {
         "table": "left_processed"
        }
       },
       "preprocess_right": {
        "context": {
         "global_entity_id": "PY_AR",
         "run_type": "full",
         "version": null
        },
        "default": {
         "bq_dataset": {
          "delta": "leadgen_sf_match_vertex_delta_raw",
          "full": "leadgen_sf_match_vertex_raw"
         },
         "bq_location": "US",
         "bq_project": "dh-global-sales-data-dev",
         "leads_input_data_table": "dh-global-sales-data.leadgen_cl.vendor_complete",
         "location": "us-central1",
         "project": "dh-global-sales-data-dev"
        },
        "output": {
         "table": "right_processed"
        }
       },
       "preprocessing": {
        "context": {
         "global_entity_id": "PY_AR",
         "run_type": "full",
         "version": null
        },
        "cpu": 4,
        "default": {
         "bq_dataset": {
          "delta": "leadgen_sf_match_vertex_delta_raw",
          "full": "leadgen_sf_match_vertex_raw"
         },
         "bq_location": "US",
         "bq_project": "dh-global-sales-data-dev",
         "leads_input_data_table": "dh-global-sales-data.leadgen_cl.vendor_complete",
         "location": "us-central1",
         "project": "dh-global-sales-data-dev"
        },
        "memory": 16000
       }
      },
      "text/plain": [
       "<IPython.core.display.JSON object>"
      ]
     },
     "execution_count": 3,
     "metadata": {
      "application/json": {
       "expanded": false,
       "root": "root"
      }
     },
     "output_type": "execute_result"
    }
   ],
   "source": [
    "from IPython.display import JSON\n",
    "\n",
    "JSON({'default': {'location': 'us-central1', 'bq_location': 'US', 'leads_input_data_table': 'dh-global-sales-data.leadgen_cl.vendor_complete', 'bq_dataset': {'full': 'leadgen_sf_match_vertex_raw', 'delta': 'leadgen_sf_match_vertex_delta_raw'}, 'project': 'dh-global-sales-data-dev', 'bq_project': 'dh-global-sales-data-dev'}, 'input_left': {'output': {'table': 'left_leadgen'}, 'default': {'location': 'us-central1', 'bq_location': 'US', 'leads_input_data_table': 'dh-global-sales-data.leadgen_cl.vendor_complete', 'bq_dataset': {'full': 'leadgen_sf_match_vertex_raw', 'delta': 'leadgen_sf_match_vertex_delta_raw'}, 'project': 'dh-global-sales-data-dev', 'bq_project': 'dh-global-sales-data-dev'}, 'context': {'global_entity_id': 'PY_AR', 'run_type': 'full', 'version': None}}, 'input_right': {'output': {'table': 'right_sf'}, 'default': {'location': 'us-central1', 'bq_location': 'US', 'leads_input_data_table': 'dh-global-sales-data.leadgen_cl.vendor_complete', 'bq_dataset': {'full': 'leadgen_sf_match_vertex_raw', 'delta': 'leadgen_sf_match_vertex_delta_raw'}, 'project': 'dh-global-sales-data-dev', 'bq_project': 'dh-global-sales-data-dev'}, 'context': {'global_entity_id': 'PY_AR', 'run_type': 'full', 'version': None}}, 'preprocess_left': {'output': {'table': 'left_processed'}, 'default': {'location': 'us-central1', 'bq_location': 'US', 'leads_input_data_table': 'dh-global-sales-data.leadgen_cl.vendor_complete', 'bq_dataset': {'full': 'leadgen_sf_match_vertex_raw', 'delta': 'leadgen_sf_match_vertex_delta_raw'}, 'project': 'dh-global-sales-data-dev', 'bq_project': 'dh-global-sales-data-dev'}, 'context': {'global_entity_id': 'PY_AR', 'run_type': 'full', 'version': None}}, 'preprocess_right': {'output': {'table': 'right_processed'}, 'default': {'location': 'us-central1', 'bq_location': 'US', 'leads_input_data_table': 'dh-global-sales-data.leadgen_cl.vendor_complete', 'bq_dataset': {'full': 'leadgen_sf_match_vertex_raw', 'delta': 'leadgen_sf_match_vertex_delta_raw'}, 'project': 'dh-global-sales-data-dev', 'bq_project': 'dh-global-sales-data-dev'}, 'context': {'global_entity_id': 'PY_AR', 'run_type': 'full', 'version': None}}, 'candidate_generation': {'output': {'table': 'candidates'}, 'candidate_comparator': 'token_set_ratio_levenshtein', 'h3_resolution': 8, 'h3_kring': 2, 'city_h3_resolution': 5, 'city_h3_kring': 2, 'tokenset_name_candidate_threshold': 0.5, 'shard_total': {'geo_geo': 1, 'geo_non': 3, 'non_all': 1, 'union': 1}, 'stages': ['geo_geo', 'geo_non', 'non_all', 'union'], 'default': {'location': 'us-central1', 'bq_location': 'US', 'leads_input_data_table': 'dh-global-sales-data.leadgen_cl.vendor_complete', 'bq_dataset': {'full': 'leadgen_sf_match_vertex_raw', 'delta': 'leadgen_sf_match_vertex_delta_raw'}, 'project': 'dh-global-sales-data-dev', 'bq_project': 'dh-global-sales-data-dev'}, 'context': {'global_entity_id': 'PY_AR', 'run_type': 'full', 'version': None}}, 'build_features': {'output': {'table': 'features'}, 'pyspark': {'image': 'gsd-vendor-match/features-pyspark:latest', 'runtime_config_version': '2.0', 'main_python_file_uri': 'file:///opt/python/packages/achilles/scripts/build_features_pyspark.py', 'jar_file_uris': ['gs://spark-lib/bigquery/spark-3.1-bigquery-0.28.0-preview.jar'], 'subnetwork': 'vpc-network', 'num_executor_instances': '10', 'num_driver_cores': '4', 'num_executor_cores': '4', 'executor_allocation_ratio': '0.3', 'max_executors': '150'}, 'default': {'location': 'us-central1', 'bq_location': 'US', 'leads_input_data_table': 'dh-global-sales-data.leadgen_cl.vendor_complete', 'bq_dataset': {'full': 'leadgen_sf_match_vertex_raw', 'delta': 'leadgen_sf_match_vertex_delta_raw'}, 'project': 'dh-global-sales-data-dev', 'bq_project': 'dh-global-sales-data-dev'}, 'context': {'global_entity_id': 'PY_AR', 'run_type': 'full', 'version': None}}, 'predict': {'output': {'table': 'matched'}, 'model_bq_dataset': 'achilles', 'append_output': False, 'match_cache_output': {'dataset': 'cl_saleslayer', 'table': 'matching_predict_cache'}, 'default': {'location': 'us-central1', 'bq_location': 'US', 'leads_input_data_table': 'dh-global-sales-data.leadgen_cl.vendor_complete', 'bq_dataset': {'full': 'leadgen_sf_match_vertex_raw', 'delta': 'leadgen_sf_match_vertex_delta_raw'}, 'project': 'dh-global-sales-data-dev', 'bq_project': 'dh-global-sales-data-dev'}, 'context': {'global_entity_id': 'PY_AR', 'run_type': 'full', 'version': None}}, 'postprocess': {'output': {'table': 'leadgen_sf_match', 'dataset': 'leadgen_sf_match_vertex_cl'}, 'working': {'dataset': 'leadgen_sf_match_vertex_raw', 'table': 'postprocess_working'}, 'default': {'location': 'us-central1', 'bq_location': 'US', 'leads_input_data_table': 'dh-global-sales-data.leadgen_cl.vendor_complete', 'bq_dataset': {'full': 'leadgen_sf_match_vertex_raw', 'delta': 'leadgen_sf_match_vertex_delta_raw'}, 'project': 'dh-global-sales-data-dev', 'bq_project': 'dh-global-sales-data-dev'}, 'context': {'global_entity_id': 'PY_AR', 'run_type': 'full', 'version': None}}, 'postprocess_shops': {'output': {'table': 'shops_leadgen_sf_match', 'dataset': 'leadgen_sf_match_vertex_cl'}, 'working': {'dataset': 'leadgen_sf_match_vertex_raw', 'table': 'shops_postprocess_working'}, 'default': {'location': 'us-central1', 'bq_location': 'US', 'leads_input_data_table': 'dh-global-sales-data.leadgen_cl.vendor_complete', 'bq_dataset': {'full': 'leadgen_sf_match_vertex_raw', 'delta': 'leadgen_sf_match_vertex_delta_raw'}, 'project': 'dh-global-sales-data-dev', 'bq_project': 'dh-global-sales-data-dev'}, 'context': {'global_entity_id': 'PY_AR', 'run_type': 'full', 'version': None}}, 'brand_match': {'output': {'table': 'leadgen_brand_match', 'dataset': 'leadgen_sf_match_vertex_cl'}, 'threshold': 0.8, 'default': {'location': 'us-central1', 'bq_location': 'US', 'leads_input_data_table': 'dh-global-sales-data.leadgen_cl.vendor_complete', 'bq_dataset': {'full': 'leadgen_sf_match_vertex_raw', 'delta': 'leadgen_sf_match_vertex_delta_raw'}, 'project': 'dh-global-sales-data-dev', 'bq_project': 'dh-global-sales-data-dev'}, 'context': {'global_entity_id': 'PY_AR', 'run_type': 'full', 'version': None}}, 'labels': {'dh_app': 'vendor-matching', 'dh_cc_id': '1001025045', 'dh_env': 'dev'}, 'preprocessing': {'cpu': 4, 'memory': 16000, 'default': {'location': 'us-central1', 'bq_location': 'US', 'leads_input_data_table': 'dh-global-sales-data.leadgen_cl.vendor_complete', 'bq_dataset': {'full': 'leadgen_sf_match_vertex_raw', 'delta': 'leadgen_sf_match_vertex_delta_raw'}, 'project': 'dh-global-sales-data-dev', 'bq_project': 'dh-global-sales-data-dev'}, 'context': {'global_entity_id': 'PY_AR', 'run_type': 'full', 'version': None}}})"
   ]
  },
  {
   "cell_type": "code",
   "execution_count": 20,
   "id": "9455ae4a-4229-4d8d-ad83-a3a1aaecdb6a",
   "metadata": {},
   "outputs": [
    {
     "data": {
      "application/json": {
       "common": {
        "bq_dataset": {
         "delta": "leadgen_sf_match_vertex_delta_raw",
         "full": "leadgen_sf_match_vertex_raw"
        },
        "bq_location": "US",
        "bq_project": "dh-global-sales-data-dev",
        "docker_image": "prediction",
        "docker_image_tag_default": "latest",
        "gar_docker_repo": "gsd-vendor-match",
        "gar_kfp_repo": "gsd-vendor-match-pipeline",
        "gcp_project": "dh-global-sales-data-dev",
        "leads_input_data_table": "dh-global-sales-data.leadgen_cl.vendor_complete",
        "location": "us-central1",
        "project": "dh-global-sales-data-dev"
       },
       "labels": {
        "dh_app": "vendor-matching",
        "dh_cc_id": "1001025045",
        "dh_env": "dev"
       },
       "prediction": {
        "bq_dataset": {
         "delta": "leadgen_sf_match_vertex_delta_raw",
         "full": "leadgen_sf_match_vertex_raw"
        },
        "bq_location": "US",
        "bq_project": "dh-global-sales-data-dev",
        "brand_match": {
         "common": {
          "bq_dataset": {
           "delta": "leadgen_sf_match_vertex_delta_raw",
           "full": "leadgen_sf_match_vertex_raw"
          },
          "bq_location": "US",
          "bq_project": "dh-global-sales-data-dev",
          "docker_image": "prediction",
          "docker_image_tag_default": "latest",
          "gar_docker_repo": "gsd-vendor-match",
          "gar_kfp_repo": "gsd-vendor-match-pipeline",
          "gcp_project": "dh-global-sales-data-dev",
          "leads_input_data_table": "dh-global-sales-data.leadgen_cl.vendor_complete",
          "location": "us-central1",
          "project": "dh-global-sales-data-dev"
         },
         "context": {
          "global_entity_id": "PY_AR",
          "run_type": "full",
          "version": null
         },
         "output": {
          "dataset": "leadgen_sf_match_vertex_cl",
          "table": "leadgen_brand_match"
         },
         "threshold": 0.8
        },
        "build_features": {
         "common": {
          "bq_dataset": {
           "delta": "leadgen_sf_match_vertex_delta_raw",
           "full": "leadgen_sf_match_vertex_raw"
          },
          "bq_location": "US",
          "bq_project": "dh-global-sales-data-dev",
          "docker_image": "prediction",
          "docker_image_tag_default": "latest",
          "gar_docker_repo": "gsd-vendor-match",
          "gar_kfp_repo": "gsd-vendor-match-pipeline",
          "gcp_project": "dh-global-sales-data-dev",
          "leads_input_data_table": "dh-global-sales-data.leadgen_cl.vendor_complete",
          "location": "us-central1",
          "project": "dh-global-sales-data-dev"
         },
         "context": {
          "global_entity_id": "PY_AR",
          "run_type": "full",
          "version": null
         },
         "output": {
          "table": "features"
         },
         "pyspark": {
          "executor_allocation_ratio": "0.3",
          "image": "${common.gar_docker_repo}/features-pyspark:${docker_image_tag_default}",
          "jar_file_uris": [
           "gs://spark-lib/bigquery/spark-3.1-bigquery-0.28.0-preview.jar"
          ],
          "main_python_file_uri": "file:///opt/python/packages/achilles/scripts/build_features_pyspark.py",
          "max_executors": "150",
          "num_driver_cores": "4",
          "num_executor_cores": "4",
          "num_executor_instances": "10",
          "runtime_config_version": "2.0",
          "subnetwork": "vpc-network"
         }
        },
        "candidate_generation": {
         "candidate_comparator": "token_set_ratio_levenshtein",
         "city_h3_kring": 2,
         "city_h3_resolution": 5,
         "common": {
          "bq_dataset": {
           "delta": "leadgen_sf_match_vertex_delta_raw",
           "full": "leadgen_sf_match_vertex_raw"
          },
          "bq_location": "US",
          "bq_project": "dh-global-sales-data-dev",
          "docker_image": "prediction",
          "docker_image_tag_default": "latest",
          "gar_docker_repo": "gsd-vendor-match",
          "gar_kfp_repo": "gsd-vendor-match-pipeline",
          "gcp_project": "dh-global-sales-data-dev",
          "leads_input_data_table": "dh-global-sales-data.leadgen_cl.vendor_complete",
          "location": "us-central1",
          "project": "dh-global-sales-data-dev"
         },
         "context": {
          "global_entity_id": "PY_AR",
          "run_type": "full",
          "version": null
         },
         "h3_kring": 2,
         "h3_resolution": 8,
         "output": {
          "table": "candidates"
         },
         "shard_total": {
          "geo_geo": 1,
          "geo_non": 3,
          "non_all": 1,
          "union": 1
         },
         "stages": [
          "geo_geo",
          "geo_non",
          "non_all",
          "union"
         ],
         "tokenset_name_candidate_threshold": 0.5
        },
        "docker_image": "prediction",
        "docker_image_tag_default": "latest",
        "gar_docker_repo": "gsd-vendor-match",
        "gar_kfp_repo": "gsd-vendor-match-pipeline",
        "gcp_project": "dh-global-sales-data-dev",
        "input_left": {
         "common": {
          "bq_dataset": {
           "delta": "leadgen_sf_match_vertex_delta_raw",
           "full": "leadgen_sf_match_vertex_raw"
          },
          "bq_location": "US",
          "bq_project": "dh-global-sales-data-dev",
          "docker_image": "prediction",
          "docker_image_tag_default": "latest",
          "gar_docker_repo": "gsd-vendor-match",
          "gar_kfp_repo": "gsd-vendor-match-pipeline",
          "gcp_project": "dh-global-sales-data-dev",
          "leads_input_data_table": "dh-global-sales-data.leadgen_cl.vendor_complete",
          "location": "us-central1",
          "project": "dh-global-sales-data-dev"
         },
         "context": {
          "global_entity_id": "PY_AR",
          "run_type": "full",
          "version": null
         },
         "output": {
          "table": "left_leadgen"
         }
        },
        "input_right": {
         "common": {
          "bq_dataset": {
           "delta": "leadgen_sf_match_vertex_delta_raw",
           "full": "leadgen_sf_match_vertex_raw"
          },
          "bq_location": "US",
          "bq_project": "dh-global-sales-data-dev",
          "docker_image": "prediction",
          "docker_image_tag_default": "latest",
          "gar_docker_repo": "gsd-vendor-match",
          "gar_kfp_repo": "gsd-vendor-match-pipeline",
          "gcp_project": "dh-global-sales-data-dev",
          "leads_input_data_table": "dh-global-sales-data.leadgen_cl.vendor_complete",
          "location": "us-central1",
          "project": "dh-global-sales-data-dev"
         },
         "context": {
          "global_entity_id": "PY_AR",
          "run_type": "full",
          "version": null
         },
         "output": {
          "table": "right_sf"
         }
        },
        "kfp_name": "vendor-matching-prediction",
        "leads_input_data_table": "dh-global-sales-data.leadgen_cl.vendor_complete",
        "location": "us-central1",
        "postprocess": {
         "common": {
          "bq_dataset": {
           "delta": "leadgen_sf_match_vertex_delta_raw",
           "full": "leadgen_sf_match_vertex_raw"
          },
          "bq_location": "US",
          "bq_project": "dh-global-sales-data-dev",
          "docker_image": "prediction",
          "docker_image_tag_default": "latest",
          "gar_docker_repo": "gsd-vendor-match",
          "gar_kfp_repo": "gsd-vendor-match-pipeline",
          "gcp_project": "dh-global-sales-data-dev",
          "leads_input_data_table": "dh-global-sales-data.leadgen_cl.vendor_complete",
          "location": "us-central1",
          "project": "dh-global-sales-data-dev"
         },
         "context": {
          "global_entity_id": "PY_AR",
          "run_type": "full",
          "version": null
         },
         "output": {
          "dataset": "leadgen_sf_match_vertex_cl",
          "table": "leadgen_sf_match"
         },
         "working": {
          "dataset": "leadgen_sf_match_vertex_raw",
          "table": "postprocess_working"
         }
        },
        "postprocess_shops": {
         "common": {
          "bq_dataset": {
           "delta": "leadgen_sf_match_vertex_delta_raw",
           "full": "leadgen_sf_match_vertex_raw"
          },
          "bq_location": "US",
          "bq_project": "dh-global-sales-data-dev",
          "docker_image": "prediction",
          "docker_image_tag_default": "latest",
          "gar_docker_repo": "gsd-vendor-match",
          "gar_kfp_repo": "gsd-vendor-match-pipeline",
          "gcp_project": "dh-global-sales-data-dev",
          "leads_input_data_table": "dh-global-sales-data.leadgen_cl.vendor_complete",
          "location": "us-central1",
          "project": "dh-global-sales-data-dev"
         },
         "context": {
          "global_entity_id": "PY_AR",
          "run_type": "full",
          "version": null
         },
         "output": {
          "dataset": "leadgen_sf_match_vertex_cl",
          "table": "shops_leadgen_sf_match"
         },
         "working": {
          "dataset": "leadgen_sf_match_vertex_raw",
          "table": "shops_postprocess_working"
         }
        },
        "predict": {
         "append_output": false,
         "common": {
          "bq_dataset": {
           "delta": "leadgen_sf_match_vertex_delta_raw",
           "full": "leadgen_sf_match_vertex_raw"
          },
          "bq_location": "US",
          "bq_project": "dh-global-sales-data-dev",
          "docker_image": "prediction",
          "docker_image_tag_default": "latest",
          "gar_docker_repo": "gsd-vendor-match",
          "gar_kfp_repo": "gsd-vendor-match-pipeline",
          "gcp_project": "dh-global-sales-data-dev",
          "leads_input_data_table": "dh-global-sales-data.leadgen_cl.vendor_complete",
          "location": "us-central1",
          "project": "dh-global-sales-data-dev"
         },
         "context": {
          "global_entity_id": "PY_AR",
          "run_type": "full",
          "version": null
         },
         "match_cache_output": {
          "dataset": "cl_saleslayer",
          "table": "matching_predict_cache"
         },
         "model_bq_dataset": "achilles",
         "output": {
          "table": "matched"
         }
        },
        "preprocess_left": {
         "common": {
          "bq_dataset": {
           "delta": "leadgen_sf_match_vertex_delta_raw",
           "full": "leadgen_sf_match_vertex_raw"
          },
          "bq_location": "US",
          "bq_project": "dh-global-sales-data-dev",
          "docker_image": "prediction",
          "docker_image_tag_default": "latest",
          "gar_docker_repo": "gsd-vendor-match",
          "gar_kfp_repo": "gsd-vendor-match-pipeline",
          "gcp_project": "dh-global-sales-data-dev",
          "leads_input_data_table": "dh-global-sales-data.leadgen_cl.vendor_complete",
          "location": "us-central1",
          "project": "dh-global-sales-data-dev"
         },
         "context": {
          "global_entity_id": "PY_AR",
          "run_type": "full",
          "version": null
         },
         "output": {
          "table": "left_processed"
         }
        },
        "preprocess_right": {
         "common": {
          "bq_dataset": {
           "delta": "leadgen_sf_match_vertex_delta_raw",
           "full": "leadgen_sf_match_vertex_raw"
          },
          "bq_location": "US",
          "bq_project": "dh-global-sales-data-dev",
          "docker_image": "prediction",
          "docker_image_tag_default": "latest",
          "gar_docker_repo": "gsd-vendor-match",
          "gar_kfp_repo": "gsd-vendor-match-pipeline",
          "gcp_project": "dh-global-sales-data-dev",
          "leads_input_data_table": "dh-global-sales-data.leadgen_cl.vendor_complete",
          "location": "us-central1",
          "project": "dh-global-sales-data-dev"
         },
         "context": {
          "global_entity_id": "PY_AR",
          "run_type": "full",
          "version": null
         },
         "output": {
          "table": "right_processed"
         }
        },
        "preprocessing": {
         "cpu": 4,
         "memory": 16000
        },
        "project": "dh-global-sales-data-dev"
       },
       "training": {
        "bq_dataset": {
         "delta": "leadgen_sf_match_vertex_delta_raw",
         "full": "leadgen_sf_match_vertex_raw"
        },
        "bq_location": "US",
        "bq_project": "dh-global-sales-data-dev",
        "docker_image": "prediction",
        "docker_image_tag_default": "latest",
        "gar_docker_repo": "gsd-vendor-match",
        "gar_kfp_repo": "gsd-vendor-match-pipeline",
        "gcp_project": "dh-global-sales-data-dev",
        "kfp_name": "vendor-matching-training",
        "leads_input_data_table": "dh-global-sales-data.leadgen_cl.vendor_complete",
        "location": "us-central1",
        "project": "dh-global-sales-data-dev"
       }
      },
      "text/plain": [
       "<IPython.core.display.JSON object>"
      ]
     },
     "execution_count": 20,
     "metadata": {
      "application/json": {
       "expanded": false,
       "root": "root"
      }
     },
     "output_type": "execute_result"
    }
   ],
   "source": [
    "from IPython.display import JSON\n",
    "JSON({'common': {'location': 'us-central1', 'gcp_project': 'dh-global-sales-data-dev', 'project': 'dh-global-sales-data-dev', 'bq_project': 'dh-global-sales-data-dev', 'bq_location': 'US', 'leads_input_data_table': 'dh-global-sales-data.leadgen_cl.vendor_complete', 'bq_dataset': {'full': 'leadgen_sf_match_vertex_raw', 'delta': 'leadgen_sf_match_vertex_delta_raw'}, 'gar_docker_repo': 'gsd-vendor-match', 'docker_image': 'prediction', 'docker_image_tag_default': 'latest', 'gar_kfp_repo': 'gsd-vendor-match-pipeline'}, 'prediction': {'location': 'us-central1', 'gcp_project': 'dh-global-sales-data-dev', 'project': 'dh-global-sales-data-dev', 'bq_project': 'dh-global-sales-data-dev', 'bq_location': 'US', 'leads_input_data_table': 'dh-global-sales-data.leadgen_cl.vendor_complete', 'bq_dataset': {'full': 'leadgen_sf_match_vertex_raw', 'delta': 'leadgen_sf_match_vertex_delta_raw'}, 'gar_docker_repo': 'gsd-vendor-match', 'docker_image': 'prediction', 'docker_image_tag_default': 'latest', 'gar_kfp_repo': 'gsd-vendor-match-pipeline', 'kfp_name': 'vendor-matching-prediction', 'input_left': {'output': {'table': 'left_leadgen'}, 'common': {'location': 'us-central1', 'gcp_project': 'dh-global-sales-data-dev', 'project': 'dh-global-sales-data-dev', 'bq_project': 'dh-global-sales-data-dev', 'bq_location': 'US', 'leads_input_data_table': 'dh-global-sales-data.leadgen_cl.vendor_complete', 'bq_dataset': {'full': 'leadgen_sf_match_vertex_raw', 'delta': 'leadgen_sf_match_vertex_delta_raw'}, 'gar_docker_repo': 'gsd-vendor-match', 'docker_image': 'prediction', 'docker_image_tag_default': 'latest', 'gar_kfp_repo': 'gsd-vendor-match-pipeline'}, 'context': {'global_entity_id': 'PY_AR', 'run_type': 'full', 'version': None}}, 'input_right': {'output': {'table': 'right_sf'}, 'common': {'location': 'us-central1', 'gcp_project': 'dh-global-sales-data-dev', 'project': 'dh-global-sales-data-dev', 'bq_project': 'dh-global-sales-data-dev', 'bq_location': 'US', 'leads_input_data_table': 'dh-global-sales-data.leadgen_cl.vendor_complete', 'bq_dataset': {'full': 'leadgen_sf_match_vertex_raw', 'delta': 'leadgen_sf_match_vertex_delta_raw'}, 'gar_docker_repo': 'gsd-vendor-match', 'docker_image': 'prediction', 'docker_image_tag_default': 'latest', 'gar_kfp_repo': 'gsd-vendor-match-pipeline'}, 'context': {'global_entity_id': 'PY_AR', 'run_type': 'full', 'version': None}}, 'preprocess_left': {'output': {'table': 'left_processed'}, 'common': {'location': 'us-central1', 'gcp_project': 'dh-global-sales-data-dev', 'project': 'dh-global-sales-data-dev', 'bq_project': 'dh-global-sales-data-dev', 'bq_location': 'US', 'leads_input_data_table': 'dh-global-sales-data.leadgen_cl.vendor_complete', 'bq_dataset': {'full': 'leadgen_sf_match_vertex_raw', 'delta': 'leadgen_sf_match_vertex_delta_raw'}, 'gar_docker_repo': 'gsd-vendor-match', 'docker_image': 'prediction', 'docker_image_tag_default': 'latest', 'gar_kfp_repo': 'gsd-vendor-match-pipeline'}, 'context': {'global_entity_id': 'PY_AR', 'run_type': 'full', 'version': None}}, 'preprocess_right': {'output': {'table': 'right_processed'}, 'common': {'location': 'us-central1', 'gcp_project': 'dh-global-sales-data-dev', 'project': 'dh-global-sales-data-dev', 'bq_project': 'dh-global-sales-data-dev', 'bq_location': 'US', 'leads_input_data_table': 'dh-global-sales-data.leadgen_cl.vendor_complete', 'bq_dataset': {'full': 'leadgen_sf_match_vertex_raw', 'delta': 'leadgen_sf_match_vertex_delta_raw'}, 'gar_docker_repo': 'gsd-vendor-match', 'docker_image': 'prediction', 'docker_image_tag_default': 'latest', 'gar_kfp_repo': 'gsd-vendor-match-pipeline'}, 'context': {'global_entity_id': 'PY_AR', 'run_type': 'full', 'version': None}}, 'candidate_generation': {'output': {'table': 'candidates'}, 'candidate_comparator': 'token_set_ratio_levenshtein', 'h3_resolution': 8, 'h3_kring': 2, 'city_h3_resolution': 5, 'city_h3_kring': 2, 'tokenset_name_candidate_threshold': 0.5, 'shard_total': {'geo_geo': 1, 'geo_non': 3, 'non_all': 1, 'union': 1}, 'stages': ['geo_geo', 'geo_non', 'non_all', 'union'], 'common': {'location': 'us-central1', 'gcp_project': 'dh-global-sales-data-dev', 'project': 'dh-global-sales-data-dev', 'bq_project': 'dh-global-sales-data-dev', 'bq_location': 'US', 'leads_input_data_table': 'dh-global-sales-data.leadgen_cl.vendor_complete', 'bq_dataset': {'full': 'leadgen_sf_match_vertex_raw', 'delta': 'leadgen_sf_match_vertex_delta_raw'}, 'gar_docker_repo': 'gsd-vendor-match', 'docker_image': 'prediction', 'docker_image_tag_default': 'latest', 'gar_kfp_repo': 'gsd-vendor-match-pipeline'}, 'context': {'global_entity_id': 'PY_AR', 'run_type': 'full', 'version': None}}, 'build_features': {'output': {'table': 'features'}, 'pyspark': {'image': '${common.gar_docker_repo}/features-pyspark:${docker_image_tag_default}', 'runtime_config_version': '2.0', 'main_python_file_uri': 'file:///opt/python/packages/achilles/scripts/build_features_pyspark.py', 'jar_file_uris': ['gs://spark-lib/bigquery/spark-3.1-bigquery-0.28.0-preview.jar'], 'subnetwork': 'vpc-network', 'num_executor_instances': '10', 'num_driver_cores': '4', 'num_executor_cores': '4', 'executor_allocation_ratio': '0.3', 'max_executors': '150'}, 'common': {'location': 'us-central1', 'gcp_project': 'dh-global-sales-data-dev', 'project': 'dh-global-sales-data-dev', 'bq_project': 'dh-global-sales-data-dev', 'bq_location': 'US', 'leads_input_data_table': 'dh-global-sales-data.leadgen_cl.vendor_complete', 'bq_dataset': {'full': 'leadgen_sf_match_vertex_raw', 'delta': 'leadgen_sf_match_vertex_delta_raw'}, 'gar_docker_repo': 'gsd-vendor-match', 'docker_image': 'prediction', 'docker_image_tag_default': 'latest', 'gar_kfp_repo': 'gsd-vendor-match-pipeline'}, 'context': {'global_entity_id': 'PY_AR', 'run_type': 'full', 'version': None}}, 'predict': {'output': {'table': 'matched'}, 'model_bq_dataset': 'achilles', 'append_output': False, 'match_cache_output': {'dataset': 'cl_saleslayer', 'table': 'matching_predict_cache'}, 'common': {'location': 'us-central1', 'gcp_project': 'dh-global-sales-data-dev', 'project': 'dh-global-sales-data-dev', 'bq_project': 'dh-global-sales-data-dev', 'bq_location': 'US', 'leads_input_data_table': 'dh-global-sales-data.leadgen_cl.vendor_complete', 'bq_dataset': {'full': 'leadgen_sf_match_vertex_raw', 'delta': 'leadgen_sf_match_vertex_delta_raw'}, 'gar_docker_repo': 'gsd-vendor-match', 'docker_image': 'prediction', 'docker_image_tag_default': 'latest', 'gar_kfp_repo': 'gsd-vendor-match-pipeline'}, 'context': {'global_entity_id': 'PY_AR', 'run_type': 'full', 'version': None}}, 'postprocess': {'output': {'table': 'leadgen_sf_match', 'dataset': 'leadgen_sf_match_vertex_cl'}, 'working': {'dataset': 'leadgen_sf_match_vertex_raw', 'table': 'postprocess_working'}, 'common': {'location': 'us-central1', 'gcp_project': 'dh-global-sales-data-dev', 'project': 'dh-global-sales-data-dev', 'bq_project': 'dh-global-sales-data-dev', 'bq_location': 'US', 'leads_input_data_table': 'dh-global-sales-data.leadgen_cl.vendor_complete', 'bq_dataset': {'full': 'leadgen_sf_match_vertex_raw', 'delta': 'leadgen_sf_match_vertex_delta_raw'}, 'gar_docker_repo': 'gsd-vendor-match', 'docker_image': 'prediction', 'docker_image_tag_default': 'latest', 'gar_kfp_repo': 'gsd-vendor-match-pipeline'}, 'context': {'global_entity_id': 'PY_AR', 'run_type': 'full', 'version': None}}, 'postprocess_shops': {'output': {'table': 'shops_leadgen_sf_match', 'dataset': 'leadgen_sf_match_vertex_cl'}, 'working': {'dataset': 'leadgen_sf_match_vertex_raw', 'table': 'shops_postprocess_working'}, 'common': {'location': 'us-central1', 'gcp_project': 'dh-global-sales-data-dev', 'project': 'dh-global-sales-data-dev', 'bq_project': 'dh-global-sales-data-dev', 'bq_location': 'US', 'leads_input_data_table': 'dh-global-sales-data.leadgen_cl.vendor_complete', 'bq_dataset': {'full': 'leadgen_sf_match_vertex_raw', 'delta': 'leadgen_sf_match_vertex_delta_raw'}, 'gar_docker_repo': 'gsd-vendor-match', 'docker_image': 'prediction', 'docker_image_tag_default': 'latest', 'gar_kfp_repo': 'gsd-vendor-match-pipeline'}, 'context': {'global_entity_id': 'PY_AR', 'run_type': 'full', 'version': None}}, 'brand_match': {'output': {'table': 'leadgen_brand_match', 'dataset': 'leadgen_sf_match_vertex_cl'}, 'threshold': 0.8, 'common': {'location': 'us-central1', 'gcp_project': 'dh-global-sales-data-dev', 'project': 'dh-global-sales-data-dev', 'bq_project': 'dh-global-sales-data-dev', 'bq_location': 'US', 'leads_input_data_table': 'dh-global-sales-data.leadgen_cl.vendor_complete', 'bq_dataset': {'full': 'leadgen_sf_match_vertex_raw', 'delta': 'leadgen_sf_match_vertex_delta_raw'}, 'gar_docker_repo': 'gsd-vendor-match', 'docker_image': 'prediction', 'docker_image_tag_default': 'latest', 'gar_kfp_repo': 'gsd-vendor-match-pipeline'}, 'context': {'global_entity_id': 'PY_AR', 'run_type': 'full', 'version': None}}, 'preprocessing': {'cpu': 4, 'memory': 16000}}, 'labels': {'dh_app': 'vendor-matching', 'dh_cc_id': '1001025045', 'dh_env': 'dev'}, 'training': {'location': 'us-central1', 'gcp_project': 'dh-global-sales-data-dev', 'project': 'dh-global-sales-data-dev', 'bq_project': 'dh-global-sales-data-dev', 'bq_location': 'US', 'leads_input_data_table': 'dh-global-sales-data.leadgen_cl.vendor_complete', 'bq_dataset': {'full': 'leadgen_sf_match_vertex_raw', 'delta': 'leadgen_sf_match_vertex_delta_raw'}, 'gar_docker_repo': 'gsd-vendor-match', 'docker_image': 'prediction', 'docker_image_tag_default': 'latest', 'gar_kfp_repo': 'gsd-vendor-match-pipeline', 'kfp_name': 'vendor-matching-training'}}\n",
    ")"
   ]
  },
  {
   "cell_type": "code",
   "execution_count": 13,
   "id": "ad0f34af-d405-4100-9d6f-cb43a0898a69",
   "metadata": {},
   "outputs": [],
   "source": [
    " bq_dataset = {'full': 'leadgen_sf_match_vertex_raw', 'delta': 'leadgen_sf_match_vertex_delta_raw'}"
   ]
  },
  {
   "cell_type": "code",
   "execution_count": null,
   "id": "3c959dd9-a89a-4861-8f08-26a4e676814f",
   "metadata": {},
   "outputs": [],
   "source": []
  },
  {
   "cell_type": "code",
   "execution_count": null,
   "id": "c9a70673-056d-4caf-bbbd-4122bd636651",
   "metadata": {},
   "outputs": [],
   "source": []
  },
  {
   "cell_type": "code",
   "execution_count": null,
   "id": "a36f9d39-3e55-4272-a7a3-c406d790f1d0",
   "metadata": {},
   "outputs": [],
   "source": []
  },
  {
   "cell_type": "code",
   "execution_count": null,
   "id": "e319487f-2d11-4ee8-8b65-7efe61547c3e",
   "metadata": {},
   "outputs": [],
   "source": []
  }
 ],
 "metadata": {
  "kernelspec": {
   "display_name": "batch-match",
   "language": "python",
   "name": "batch-match"
  },
  "language_info": {
   "codemirror_mode": {
    "name": "ipython",
    "version": 3
   },
   "file_extension": ".py",
   "mimetype": "text/x-python",
   "name": "python",
   "nbconvert_exporter": "python",
   "pygments_lexer": "ipython3",
   "version": "3.9.18"
  },
  "toc-autonumbering": true
 },
 "nbformat": 4,
 "nbformat_minor": 5
}
