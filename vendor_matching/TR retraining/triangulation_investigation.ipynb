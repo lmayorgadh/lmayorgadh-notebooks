{
 "cells": [
  {
   "cell_type": "code",
   "execution_count": 9,
   "id": "fd79cc1e-2900-4d63-9a88-cbf6f81b832f",
   "metadata": {},
   "outputs": [
    {
     "name": "stdout",
     "output_type": "stream",
     "text": [
      "Estimated restaurant location: [52.51678976 13.40012467]\n"
     ]
    }
   ],
   "source": [
    "import numpy as np\n",
    "import math\n",
    "from scipy.optimize import least_squares\n",
    "\n",
    "# Haversine formula to calculate the distance between two points\n",
    "def haversine(lat1, lon1, lat2, lon2) -> float:\n",
    "    \"\"\"\n",
    "    Returns haversine distance in *km*\n",
    "    \"\"\"\n",
    "    # Convert coordinates from degrees to radians\n",
    "    lat1, lon1, lat2, lon2 = map(math.radians, [lat1, lon1, lat2, lon2])\n",
    "\n",
    "    # Haversine formula\n",
    "    dlon = lon2 - lon1\n",
    "    dlat = lat2 - lat1\n",
    "    a = (\n",
    "        math.sin(dlat / 2) ** 2\n",
    "        + math.cos(lat1) * math.cos(lat2) * math.sin(dlon / 2) ** 2\n",
    "    )\n",
    "    c = 2 * math.asin(math.sqrt(a))\n",
    "\n",
    "    # Radius of earth in kilometers is 6371\n",
    "    km = 6371 * c\n",
    "    return km\n",
    "\n",
    "# Error function for least squares optimization\n",
    "def error_func(restaurant_loc, customer_locs, distances):\n",
    "    lat_r, lon_r = restaurant_loc\n",
    "    errors = []\n",
    "    for (lat_i, lon_i), d in zip(customer_locs, distances):\n",
    "        dist = haversine(lat_i, lon_i, lat_r, lon_r)\n",
    "        errors.append(dist - d)\n",
    "    return errors\n",
    "\n",
    "# Example data: customer locations (lat, lon) and distances\n",
    "customer_locs = [(52.5200, 13.4050), (52.5201, 13.4052), (52.5198, 13.4048)]  # lat, lon in degrees\n",
    "distances = [0.2, 1, 0.25]  # distances in kilometers\n",
    "\n",
    "# Initial guess for the restaurant location\n",
    "initial_guess = (52.5200, 13.4050)\n",
    "\n",
    "# Solve using least squares\n",
    "result = least_squares(error_func, initial_guess, args=(customer_locs, distances))\n",
    "estimated_loc = result.x\n",
    "\n",
    "print(f\"Estimated restaurant location: {estimated_loc}\")"
   ]
  },
  {
   "cell_type": "code",
   "execution_count": null,
   "id": "cc6f96d5-e3e3-4c29-8410-a1814f22405f",
   "metadata": {
    "scrolled": true
   },
   "outputs": [],
   "source": [
    "import pandas as pd\n",
    "\n",
    "# Extract data of customer locations and distances to restaurants when ordering\n",
    "query = f\"\"\"\n",
    "WITH MaxDate AS (\n",
    "  SELECT\n",
    "     MAX(ingestion_date) AS max_date\n",
    "  FROM\n",
    "    `dhub-yemek.brandzone_raw.daily_restaurants`\n",
    "  \n",
    ")\n",
    "\n",
    "SELECT r.location_id , Id as rival_rest_id , latitude , longitude , name , isClosed , location.neighborhoodName , location.distance , ingestion_date\n",
    "FROM `dhub-yemek.brandzone_raw.daily_restaurants` r\n",
    "INNER JOIN MaxDate m\n",
    "ON r.ingestion_date = m.max_date\n",
    "where exists --extract location for leads used in training dataset, to focus checks here first\n",
    "(select 1 from `dh-global-sales-data-dev.achilles_train_test_data_update.YS_TR_vendor_matching_annotations_v4_2`\n",
    "  where `dh-global-sales-data.achilles.row_id_to_lead_id`(left_row_id) = Id\n",
    ")\n",
    "\"\"\"\n",
    "\n",
    "triangulation_data = pd.read_gbq(query, use_bqstorage_api= True).reset_index(drop= True)"
   ]
  },
  {
   "cell_type": "code",
   "execution_count": null,
   "id": "7f4ee7f3-accb-4f3e-a4a6-5e78f1a06847",
   "metadata": {},
   "outputs": [],
   "source": [
    "# Compute estimations\n",
    "lead_ids = triangulation_data[\"rival_rest_id\"].unique()\n",
    "results_dict = {}\n",
    "\n",
    "for lead_id in lead_ids:\n",
    "    # Filter data for this lead_id\n",
    "    lead_data = triangulation_data[triangulation_data[\"rival_rest_id\"] == lead_id]\n",
    "    \n",
    "    # Extract data\n",
    "    lats = lead_data[\"latitude\"].tolist()\n",
    "    lons = lead_data[\"longitude\"].tolist()  # Changed from \"long\" to \"lon\"\n",
    "    customer_locs = [(lat, lon) for lat, lon in zip(lats, lons)]\n",
    "    distances = lead_data[\"distance\"].tolist()\n",
    "    \n",
    "    # Initial guess: mean of latitudes and longitudes\n",
    "    initial_guess = (np.mean(lats), np.mean(lons))\n",
    "    \n",
    "    # Optimize to find the restaurant's location\n",
    "    result = least_squares(error_func, initial_guess, args=(customer_locs, distances))\n",
    "    estimated_location = result.x  # Extract the optimized values\n",
    "    \n",
    "    # Store result\n",
    "    results_dict[lead_id] = estimated_location"
   ]
  }
 ],
 "metadata": {
  "kernelspec": {
   "display_name": "vm_analysis",
   "language": "python",
   "name": "vm_analysis"
  },
  "language_info": {
   "codemirror_mode": {
    "name": "ipython",
    "version": 3
   },
   "file_extension": ".py",
   "mimetype": "text/x-python",
   "name": "python",
   "nbconvert_exporter": "python",
   "pygments_lexer": "ipython3",
   "version": "3.9.16"
  }
 },
 "nbformat": 4,
 "nbformat_minor": 5
}
