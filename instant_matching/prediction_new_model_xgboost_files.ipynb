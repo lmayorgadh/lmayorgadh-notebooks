{
 "cells": [
  {
   "cell_type": "markdown",
   "id": "2301caa9-2cac-44e9-82d5-f5ddbff3f4d2",
   "metadata": {},
   "source": [
    "General comments about changes to support xgboost model files:\n",
    "\n",
    "-Environment changes needed: pandas -> 1.5.2, xgboost -> 1.5.1\n",
    "\n",
    "-Load and predict through xgboost library\n",
    "\n",
    "-Check ok to delete country_iso & row_ids from features for prediction\n",
    "\n",
    "-Confirm same vectorizer for both model types\n",
    "\n",
    "-Need to handle output differently"
   ]
  },
  {
   "cell_type": "code",
   "execution_count": 41,
   "id": "2ff5dd5e-c80d-41e7-9557-c807120faadc",
   "metadata": {},
   "outputs": [],
   "source": [
    "from instant_match.loader.assets_loader import extract_model_to_gcs, download_gcs_folder_to_local"
   ]
  },
  {
   "cell_type": "code",
   "execution_count": 42,
   "id": "4c7ebdae-b6bc-4dc2-a229-6b4a3f3ed565",
   "metadata": {},
   "outputs": [
    {
     "name": "stdout",
     "output_type": "stream",
     "text": [
      "Model model_TW_xgboost_v5_geo extracted to gs://dh-gsd-achilles-dev/xgboost_model_test successfully\n"
     ]
    }
   ],
   "source": [
    "dataset_name=\"achilles\"\n",
    "model_name=\"model_TW_xgboost_v5_geo\"\n",
    "gcs_bucket=\"dh-gsd-achilles-dev\"\n",
    "gcs_path=\"xgboost_model_test\"\n",
    "\n",
    "extract_model_to_gcs(dataset_name=dataset_name, model_name=model_name, gcs_bucket=gcs_bucket, gcs_path=gcs_path)"
   ]
  },
  {
   "cell_type": "code",
   "execution_count": 43,
   "id": "10adfc21-0ee8-45a1-83b1-ba4f3cce8c8b",
   "metadata": {},
   "outputs": [
    {
     "name": "stdout",
     "output_type": "stream",
     "text": [
      "xgboost_model_test/model_TW_xgboost_v5_geo/model.json\n",
      "Downloaded xgboost_model_test/model_TW_xgboost_v5_geo/model.json to .//model.json\n"
     ]
    }
   ],
   "source": [
    "gcs_bucket=\"dh-gsd-achilles-dev\"\n",
    "gcs_folder_path=\"xgboost_model_test/model_TW_xgboost_v5_geo\"\n",
    "local_folder_path=\".\"\n",
    "\n",
    "download_gcs_folder_to_local(gcs_bucket=gcs_bucket, gcs_folder_path=gcs_folder_path, local_folder_path=local_folder_path)"
   ]
  },
  {
   "cell_type": "code",
   "execution_count": 45,
   "id": "b2de8003-7fde-468e-9a38-fd2fa163d1ee",
   "metadata": {},
   "outputs": [],
   "source": [
    "import xgboost as xgb\n",
    "\n",
    "model = xgb.Booster()\n",
    "model.load_model('model.json')"
   ]
  },
  {
   "cell_type": "code",
   "execution_count": 46,
   "id": "40120655-7898-44be-8e60-159127242b01",
   "metadata": {},
   "outputs": [
    {
     "data": {
      "text/plain": [
       "<xgboost.core.Booster at 0x30bc18070>"
      ]
     },
     "execution_count": 46,
     "metadata": {},
     "output_type": "execute_result"
    }
   ],
   "source": [
    "model"
   ]
  },
  {
   "cell_type": "code",
   "execution_count": 47,
   "id": "bdfa96fd-dbdf-47f8-986b-3b0859dc89fd",
   "metadata": {},
   "outputs": [],
   "source": [
    "import pandas as pd\n",
    "import pandas_gbq\n",
    "from google.oauth2 import service_account\n",
    "\n",
    "credentials = service_account.Credentials.from_service_account_file(\n",
    "    '../../../secret.json',\n",
    "    scopes=[\"https://www.googleapis.com/auth/cloud-platform\"],\n",
    ")"
   ]
  },
  {
   "cell_type": "code",
   "execution_count": 48,
   "id": "8f662576-140d-4c7e-b112-1a38ba34deab",
   "metadata": {},
   "outputs": [
    {
     "name": "stdout",
     "output_type": "stream",
     "text": [
      "Downloading: 100%|\u001b[32m█████████████████████████████████████████████████████████████████████████████████████████████████████████████████████████████████████████████████████████████████████████\u001b[0m|\u001b[0m\n"
     ]
    }
   ],
   "source": [
    "query = f\"\"\"\n",
    "select * \n",
    "from `dh-global-sales-data-dev.leadgen_sf_match_vertex_raw.candidates_FP_TW`\n",
    "limit 5000\n",
    "\"\"\"\n",
    "\n",
    "df_candidates = pandas_gbq.read_gbq(query, project_id=credentials.project_id, credentials=credentials)"
   ]
  },
  {
   "cell_type": "code",
   "execution_count": 49,
   "id": "f1f38b24-3506-4bf3-8c75-8c7bc0d829c6",
   "metadata": {},
   "outputs": [
    {
     "data": {
      "text/plain": [
       "Index(['country_iso', 'left_row_id', 'left_name', 'left_name_local',\n",
       "       'left_name_stop', 'left_name_stop_phonetic',\n",
       "       'left_name_local_transliterated', 'left_street', 'left_street_stop',\n",
       "       'left_street_stop_phonetic', 'left_phone_number', 'left_lat',\n",
       "       'left_lng', 'right_row_id', 'right_name', 'right_name_local',\n",
       "       'right_name_legal', 'right_name_stop', 'right_name_stop_phonetic',\n",
       "       'right_name_local_transliterated', 'right_street', 'right_street_stop',\n",
       "       'right_street_stop_phonetic', 'right_phone_number', 'right_lat',\n",
       "       'right_lng', 'haversine', 'tokenset_name_stop', 'tokenset_street_stop',\n",
       "       'tokenset_name_local', 'tokenset_name_local_transliterated',\n",
       "       'tokenset_name_legal'],\n",
       "      dtype='object')"
      ]
     },
     "execution_count": 49,
     "metadata": {},
     "output_type": "execute_result"
    }
   ],
   "source": [
    "df_candidates.columns"
   ]
  },
  {
   "cell_type": "code",
   "execution_count": 50,
   "id": "e0624c5c-926a-44e8-958d-bd9253849bca",
   "metadata": {},
   "outputs": [],
   "source": [
    "from instant_match import INSTANT_MATCH_ROOT\n",
    "\n",
    "model_id = \"TW\"\n",
    "model_version = \"5\"\n",
    "\n",
    "model_catalogue = json.loads(\n",
    "    (\n",
    "        INSTANT_MATCH_ROOT\n",
    "        / \"instant_match/instant_match/assets/model_catalogue.json\"\n",
    "    ).read_text()\n",
    ")\n",
    "\n",
    "key = f\"{model_id}_{model_version}\"\n",
    "\n",
    "model_config = model_catalogue[key]"
   ]
  },
  {
   "cell_type": "code",
   "execution_count": 51,
   "id": "52c2a636-61db-422c-b0d8-4fdec2e621c0",
   "metadata": {},
   "outputs": [
    {
     "data": {
      "text/plain": [
       "{'model_type': 'geo',\n",
       " 'model_name': 'TW',\n",
       " 'model_version': '5',\n",
       " 'features': ['haversine',\n",
       "  'jaro_winkler_name_local',\n",
       "  'jaro_winkler_name_local_transliterated',\n",
       "  'jw_name_local_nonascii_only',\n",
       "  'levenshtein_street_stop_phonetic',\n",
       "  'same_phone',\n",
       "  'tokenset_name_local_ascii_only',\n",
       "  'tokenset_name_local_nonascii_only',\n",
       "  'tokenset_name_local_transliterated',\n",
       "  'tokenset_name_stop',\n",
       "  'tokenset_street_number',\n",
       "  'wratio_name',\n",
       "  'wratio_street_number'],\n",
       " 'threshold': 0.6,\n",
       " 'date_modified': 1692921600000,\n",
       " 'model_source': 'XGBoost'}"
      ]
     },
     "execution_count": 51,
     "metadata": {},
     "output_type": "execute_result"
    }
   ],
   "source": [
    "model_config"
   ]
  },
  {
   "cell_type": "code",
   "execution_count": 52,
   "id": "44551568-a643-493f-a432-33fe478774ed",
   "metadata": {},
   "outputs": [],
   "source": [
    "_COLS_TO_ADD = [\n",
    "    \"country_iso\",\n",
    "    \"left_row_id\",\n",
    "    \"right_row_id\",\n",
    "]\n",
    "\n",
    "features = _COLS_TO_ADD + model_config[\"features\"] "
   ]
  },
  {
   "cell_type": "code",
   "execution_count": 53,
   "id": "96c80e14-a226-4b12-9c7b-66ffcb7c7e6b",
   "metadata": {},
   "outputs": [],
   "source": [
    "from instant_match.loader.startup import get_vectorizer_path\n",
    "\n",
    "local_vectorizer_path = get_vectorizer_path(model_id, model_version)"
   ]
  },
  {
   "cell_type": "code",
   "execution_count": 54,
   "id": "1afe5a5e-1e71-48a7-b922-2c6c090bc496",
   "metadata": {},
   "outputs": [],
   "source": [
    "from match.achilles.model import Achilles\n",
    "\n",
    "feature_pipeline = Achilles(\n",
    "        model_id=model_id,\n",
    "        model_version=model_version,\n",
    "        local_vectoriser_path=local_vectorizer_path,\n",
    "        feature_list=features,\n",
    "    )"
   ]
  },
  {
   "cell_type": "code",
   "execution_count": 55,
   "id": "8e514d91-f076-4b5d-a7ad-be6de0a274cf",
   "metadata": {},
   "outputs": [],
   "source": [
    "from instant_match.components import (\n",
    "    build_features\n",
    ")"
   ]
  },
  {
   "cell_type": "code",
   "execution_count": 61,
   "id": "c89f49e8-bbb9-4dc5-a84c-4fc6109299dc",
   "metadata": {},
   "outputs": [
    {
     "name": "stderr",
     "output_type": "stream",
     "text": [
      "2024-11-25 18:01:22,157 - match.achilles - DEBUG - <class 'match.achilles.feature.RowDistanceMaker'>\n",
      "2024-11-25 18:01:22,173 - match.achilles - DEBUG - <class 'match.achilles.feature.RowDistanceMaker'>\n",
      "2024-11-25 18:01:22,182 - match.achilles - DEBUG - <class 'match.achilles.feature.RowDistanceMaker'>\n",
      "2024-11-25 18:01:22,214 - match.achilles - DEBUG - <class 'match.achilles.feature.RowDistanceMaker'>\n",
      "2024-11-25 18:01:22,223 - match.achilles - DEBUG - <class 'match.achilles.feature.RowDistanceMaker'>\n",
      "2024-11-25 18:01:22,232 - match.achilles - DEBUG - <class 'match.achilles.feature.RowDistanceMaker'>\n",
      "2024-11-25 18:01:22,256 - match.achilles - DEBUG - <class 'match.achilles.feature.RowDistanceMaker'>\n",
      "2024-11-25 18:01:22,267 - match.achilles - DEBUG - <class 'match.achilles.feature.RowDistanceMaker'>\n",
      "2024-11-25 18:01:22,274 - match.achilles - DEBUG - <class 'match.achilles.feature.HaversineDistance'>\n",
      "2024-11-25 18:01:22,277 - match.achilles - DEBUG - <class 'match.achilles.feature.RowDistanceMaker'>\n",
      "2024-11-25 18:01:22,289 - match.achilles - DEBUG - <class 'match.achilles.feature.SamePhoneMaker'>\n",
      "2024-11-25 18:01:22,341 - match.achilles - DEBUG - <class 'match.achilles.feature.RowDistanceMaker'>\n",
      "2024-11-25 18:01:22,351 - match.achilles - DEBUG - <class 'match.achilles.feature.RowDistanceMaker'>\n",
      "2024-11-25 18:01:22,361 - match.achilles - DEBUG - <class 'match.achilles.feature.FeatureFilter'>\n",
      "2024-11-25 18:01:22,362 - instant_match.log_util - INFO - build_features took 0.24 seconds to execute.\n"
     ]
    }
   ],
   "source": [
    "features_df = build_features(df_candidates, feature_pipeline)"
   ]
  },
  {
   "cell_type": "code",
   "execution_count": 64,
   "id": "69abbb29-45ed-4e1e-8ba1-c968097bd285",
   "metadata": {},
   "outputs": [],
   "source": [
    "features_df = features_df.drop(columns=[\"country_iso\", \"left_row_id\", \"right_row_id\"])"
   ]
  },
  {
   "cell_type": "code",
   "execution_count": 65,
   "id": "39f84c3c-d75c-4954-a3d5-6fff4511476f",
   "metadata": {},
   "outputs": [
    {
     "name": "stdout",
     "output_type": "stream",
     "text": [
      "<class 'pandas.core.frame.DataFrame'>\n",
      "RangeIndex: 5000 entries, 0 to 4999\n",
      "Data columns (total 13 columns):\n",
      " #   Column                                  Non-Null Count  Dtype  \n",
      "---  ------                                  --------------  -----  \n",
      " 0   haversine                               4088 non-null   float64\n",
      " 1   jaro_winkler_name_local                 5000 non-null   float64\n",
      " 2   jaro_winkler_name_local_transliterated  5000 non-null   float64\n",
      " 3   jw_name_local_nonascii_only             5000 non-null   float64\n",
      " 4   levenshtein_street_stop_phonetic        4997 non-null   float64\n",
      " 5   same_phone                              5000 non-null   int64  \n",
      " 6   tokenset_name_local_ascii_only          5000 non-null   float64\n",
      " 7   tokenset_name_local_nonascii_only       5000 non-null   float64\n",
      " 8   tokenset_name_local_transliterated      5000 non-null   float64\n",
      " 9   tokenset_name_stop                      5000 non-null   float64\n",
      " 10  tokenset_street_number                  1810 non-null   float64\n",
      " 11  wratio_name                             5000 non-null   float64\n",
      " 12  wratio_street_number                    1810 non-null   float64\n",
      "dtypes: float64(12), int64(1)\n",
      "memory usage: 507.9 KB\n"
     ]
    }
   ],
   "source": [
    "features_df.info()"
   ]
  },
  {
   "cell_type": "code",
   "execution_count": 66,
   "id": "9215c70c-944a-4088-adcf-d751a8bc1ed7",
   "metadata": {},
   "outputs": [],
   "source": [
    "dtest = xgb.DMatrix(features_df)\n",
    "predictions = model.predict(dtest)"
   ]
  },
  {
   "cell_type": "code",
   "execution_count": 60,
   "id": "f919a2d9-5a25-4cab-8b6b-693eddbea354",
   "metadata": {},
   "outputs": [
    {
     "data": {
      "text/plain": [
       "array([0.00617153, 0.02306852, 0.03042689, ..., 0.00750858, 0.00250992,\n",
       "       0.00282061], dtype=float32)"
      ]
     },
     "execution_count": 60,
     "metadata": {},
     "output_type": "execute_result"
    }
   ],
   "source": [
    "predictions"
   ]
  },
  {
   "cell_type": "code",
   "execution_count": 68,
   "id": "20714d31-b44f-4766-9220-f02eab185c7d",
   "metadata": {},
   "outputs": [
    {
     "ename": "XGBoostError",
     "evalue": "[18:13:07] /private/var/folders/pt/q9f5cng91njf3hmhhhn0_7mr0000gq/T/pip-install-vjh31kpp/xgboost_f7497d8f1908443789cd208fc7a1b4d2/build/temp.macosx-11.1-arm64-cpython-39/xgboost/dmlc-core/src/io/local_filesys.cc:209: Check failed: allow_null:  LocalFileSystem::Open \"./model.bst\": No such file or directory\nStack trace:\n  [bt] (0) 1   libxgboost.dylib                    0x0000000303ee97b4 dmlc::LogMessageFatal::~LogMessageFatal() + 124\n  [bt] (1) 2   libxgboost.dylib                    0x0000000304089658 dmlc::io::LocalFileSystem::Open(dmlc::io::URI const&, char const*, bool) + 788\n  [bt] (2) 3   libxgboost.dylib                    0x00000003040725d8 dmlc::Stream::Create(char const*, char const*, bool) + 68\n  [bt] (3) 4   libxgboost.dylib                    0x0000000303ee3dec XGBoosterLoadModel + 364\n  [bt] (4) 5   libffi.8.dylib                      0x00000001032ec04c ffi_call_SYSV + 76\n  [bt] (5) 6   libffi.8.dylib                      0x00000001032e9834 ffi_call_int + 1404\n  [bt] (6) 7   _ctypes.cpython-39-darwin.so        0x000000010331c10c _ctypes_callproc + 792\n  [bt] (7) 8   _ctypes.cpython-39-darwin.so        0x0000000103316a58 PyCFuncPtr_call + 236\n  [bt] (8) 9   python3.9                           0x0000000102abd2d0 _PyEval_EvalFrameDefault + 54472\n\n",
     "output_type": "error",
     "traceback": [
      "\u001b[0;31m---------------------------------------------------------------------------\u001b[0m",
      "\u001b[0;31mXGBoostError\u001b[0m                              Traceback (most recent call last)",
      "Cell \u001b[0;32mIn[68], line 3\u001b[0m\n\u001b[1;32m      1\u001b[0m \u001b[38;5;28;01mfrom\u001b[39;00m \u001b[38;5;21;01minstant_match\u001b[39;00m\u001b[38;5;21;01m.\u001b[39;00m\u001b[38;5;21;01mbq_predictor\u001b[39;00m \u001b[38;5;28;01mimport\u001b[39;00m Predictor\n\u001b[0;32m----> 3\u001b[0m test \u001b[38;5;241m=\u001b[39m \u001b[43mPredictor\u001b[49m\u001b[38;5;241;43m.\u001b[39;49m\u001b[43mfrom_path\u001b[49m\u001b[43m(\u001b[49m\u001b[38;5;124;43m\"\u001b[39;49m\u001b[38;5;124;43m.\u001b[39;49m\u001b[38;5;124;43m\"\u001b[39;49m\u001b[43m)\u001b[49m\n",
      "File \u001b[0;32m~/git-repos/gsd-match-vertex/instant_match/instant_match/bq_predictor.py:379\u001b[0m, in \u001b[0;36mPredictor.from_path\u001b[0;34m(cls, model_dir)\u001b[0m\n\u001b[1;32m    377\u001b[0m \u001b[38;5;66;03m# Keep model name the same as ml::kXgboostFinalModelFilename.\u001b[39;00m\n\u001b[1;32m    378\u001b[0m model_path \u001b[38;5;241m=\u001b[39m os\u001b[38;5;241m.\u001b[39mpath\u001b[38;5;241m.\u001b[39mjoin(model_dir, \u001b[38;5;124m\"\u001b[39m\u001b[38;5;124mmodel.bst\u001b[39m\u001b[38;5;124m\"\u001b[39m)\n\u001b[0;32m--> 379\u001b[0m model \u001b[38;5;241m=\u001b[39m \u001b[43mxgb\u001b[49m\u001b[38;5;241;43m.\u001b[39;49m\u001b[43mBooster\u001b[49m\u001b[43m(\u001b[49m\u001b[43mmodel_file\u001b[49m\u001b[38;5;241;43m=\u001b[39;49m\u001b[43mmodel_path\u001b[49m\u001b[43m)\u001b[49m\n\u001b[1;32m    380\u001b[0m assets_path \u001b[38;5;241m=\u001b[39m os\u001b[38;5;241m.\u001b[39mpath\u001b[38;5;241m.\u001b[39mjoin(model_dir, \u001b[38;5;124m\"\u001b[39m\u001b[38;5;124massets\u001b[39m\u001b[38;5;124m\"\u001b[39m)\n\u001b[1;32m    381\u001b[0m model_metadata_path \u001b[38;5;241m=\u001b[39m os\u001b[38;5;241m.\u001b[39mpath\u001b[38;5;241m.\u001b[39mjoin(assets_path, \u001b[38;5;124m\"\u001b[39m\u001b[38;5;124mmodel_metadata.json\u001b[39m\u001b[38;5;124m\"\u001b[39m)\n",
      "File \u001b[0;32m/opt/homebrew/anaconda3/envs/instant_match/lib/python3.9/site-packages/xgboost/core.py:1326\u001b[0m, in \u001b[0;36mBooster.__init__\u001b[0;34m(self, params, cache, model_file)\u001b[0m\n\u001b[1;32m   1324\u001b[0m     \u001b[38;5;28mself\u001b[39m\u001b[38;5;241m.\u001b[39m\u001b[38;5;18m__dict__\u001b[39m\u001b[38;5;241m.\u001b[39mupdate(state)\n\u001b[1;32m   1325\u001b[0m \u001b[38;5;28;01melif\u001b[39;00m \u001b[38;5;28misinstance\u001b[39m(model_file, (STRING_TYPES, os\u001b[38;5;241m.\u001b[39mPathLike, \u001b[38;5;28mbytearray\u001b[39m)):\n\u001b[0;32m-> 1326\u001b[0m     \u001b[38;5;28;43mself\u001b[39;49m\u001b[38;5;241;43m.\u001b[39;49m\u001b[43mload_model\u001b[49m\u001b[43m(\u001b[49m\u001b[43mmodel_file\u001b[49m\u001b[43m)\u001b[49m\n\u001b[1;32m   1327\u001b[0m \u001b[38;5;28;01melif\u001b[39;00m model_file \u001b[38;5;129;01mis\u001b[39;00m \u001b[38;5;28;01mNone\u001b[39;00m:\n\u001b[1;32m   1328\u001b[0m     \u001b[38;5;28;01mpass\u001b[39;00m\n",
      "File \u001b[0;32m/opt/homebrew/anaconda3/envs/instant_match/lib/python3.9/site-packages/xgboost/core.py:2169\u001b[0m, in \u001b[0;36mBooster.load_model\u001b[0;34m(self, fname)\u001b[0m\n\u001b[1;32m   2165\u001b[0m \u001b[38;5;28;01mif\u001b[39;00m \u001b[38;5;28misinstance\u001b[39m(fname, (\u001b[38;5;28mstr\u001b[39m, os\u001b[38;5;241m.\u001b[39mPathLike)):\n\u001b[1;32m   2166\u001b[0m     \u001b[38;5;66;03m# assume file name, cannot use os.path.exist to check, file can be\u001b[39;00m\n\u001b[1;32m   2167\u001b[0m     \u001b[38;5;66;03m# from URL.\u001b[39;00m\n\u001b[1;32m   2168\u001b[0m     fname \u001b[38;5;241m=\u001b[39m os\u001b[38;5;241m.\u001b[39mfspath(os\u001b[38;5;241m.\u001b[39mpath\u001b[38;5;241m.\u001b[39mexpanduser(fname))\n\u001b[0;32m-> 2169\u001b[0m     \u001b[43m_check_call\u001b[49m\u001b[43m(\u001b[49m\u001b[43m_LIB\u001b[49m\u001b[38;5;241;43m.\u001b[39;49m\u001b[43mXGBoosterLoadModel\u001b[49m\u001b[43m(\u001b[49m\n\u001b[1;32m   2170\u001b[0m \u001b[43m        \u001b[49m\u001b[38;5;28;43mself\u001b[39;49m\u001b[38;5;241;43m.\u001b[39;49m\u001b[43mhandle\u001b[49m\u001b[43m,\u001b[49m\u001b[43m \u001b[49m\u001b[43mc_str\u001b[49m\u001b[43m(\u001b[49m\u001b[43mfname\u001b[49m\u001b[43m)\u001b[49m\u001b[43m)\u001b[49m\u001b[43m)\u001b[49m\n\u001b[1;32m   2171\u001b[0m \u001b[38;5;28;01melif\u001b[39;00m \u001b[38;5;28misinstance\u001b[39m(fname, \u001b[38;5;28mbytearray\u001b[39m):\n\u001b[1;32m   2172\u001b[0m     buf \u001b[38;5;241m=\u001b[39m fname\n",
      "File \u001b[0;32m/opt/homebrew/anaconda3/envs/instant_match/lib/python3.9/site-packages/xgboost/core.py:218\u001b[0m, in \u001b[0;36m_check_call\u001b[0;34m(ret)\u001b[0m\n\u001b[1;32m    207\u001b[0m \u001b[38;5;250m\u001b[39m\u001b[38;5;124;03m\"\"\"Check the return value of C API call\u001b[39;00m\n\u001b[1;32m    208\u001b[0m \n\u001b[1;32m    209\u001b[0m \u001b[38;5;124;03mThis function will raise exception when error occurs.\u001b[39;00m\n\u001b[0;32m   (...)\u001b[0m\n\u001b[1;32m    215\u001b[0m \u001b[38;5;124;03m    return value from API calls\u001b[39;00m\n\u001b[1;32m    216\u001b[0m \u001b[38;5;124;03m\"\"\"\u001b[39;00m\n\u001b[1;32m    217\u001b[0m \u001b[38;5;28;01mif\u001b[39;00m ret \u001b[38;5;241m!=\u001b[39m \u001b[38;5;241m0\u001b[39m:\n\u001b[0;32m--> 218\u001b[0m     \u001b[38;5;28;01mraise\u001b[39;00m XGBoostError(py_str(_LIB\u001b[38;5;241m.\u001b[39mXGBGetLastError()))\n",
      "\u001b[0;31mXGBoostError\u001b[0m: [18:13:07] /private/var/folders/pt/q9f5cng91njf3hmhhhn0_7mr0000gq/T/pip-install-vjh31kpp/xgboost_f7497d8f1908443789cd208fc7a1b4d2/build/temp.macosx-11.1-arm64-cpython-39/xgboost/dmlc-core/src/io/local_filesys.cc:209: Check failed: allow_null:  LocalFileSystem::Open \"./model.bst\": No such file or directory\nStack trace:\n  [bt] (0) 1   libxgboost.dylib                    0x0000000303ee97b4 dmlc::LogMessageFatal::~LogMessageFatal() + 124\n  [bt] (1) 2   libxgboost.dylib                    0x0000000304089658 dmlc::io::LocalFileSystem::Open(dmlc::io::URI const&, char const*, bool) + 788\n  [bt] (2) 3   libxgboost.dylib                    0x00000003040725d8 dmlc::Stream::Create(char const*, char const*, bool) + 68\n  [bt] (3) 4   libxgboost.dylib                    0x0000000303ee3dec XGBoosterLoadModel + 364\n  [bt] (4) 5   libffi.8.dylib                      0x00000001032ec04c ffi_call_SYSV + 76\n  [bt] (5) 6   libffi.8.dylib                      0x00000001032e9834 ffi_call_int + 1404\n  [bt] (6) 7   _ctypes.cpython-39-darwin.so        0x000000010331c10c _ctypes_callproc + 792\n  [bt] (7) 8   _ctypes.cpython-39-darwin.so        0x0000000103316a58 PyCFuncPtr_call + 236\n  [bt] (8) 9   python3.9                           0x0000000102abd2d0 _PyEval_EvalFrameDefault + 54472\n\n"
     ]
    }
   ],
   "source": [
    "# Now check if Google's predictor module can load xgboost model file\n",
    "\n",
    "from instant_match.bq_predictor import Predictor\n",
    "\n",
    "test = Predictor.from_path(\".\")"
   ]
  },
  {
   "cell_type": "code",
   "execution_count": null,
   "id": "4c568b0b-5a8d-480d-ac91-c6ea293219f4",
   "metadata": {},
   "outputs": [],
   "source": []
  }
 ],
 "metadata": {
  "kernelspec": {
   "display_name": "instant_match",
   "language": "python",
   "name": "instant_match"
  },
  "language_info": {
   "codemirror_mode": {
    "name": "ipython",
    "version": 3
   },
   "file_extension": ".py",
   "mimetype": "text/x-python",
   "name": "python",
   "nbconvert_exporter": "python",
   "pygments_lexer": "ipython3",
   "version": "3.9.18"
  }
 },
 "nbformat": 4,
 "nbformat_minor": 5
}
